{
 "cells": [
  {
   "cell_type": "markdown",
   "metadata": {},
   "source": [
    "# Lab 05 and 06 Data Preprocessing\n",
    "\n",
    "## Overview\n",
    "\n",
    "In this lab, we'll continue building on our data understanding by addressing issues that prevent meaningful analysis — namely, data quality and structure.\n",
    "\n",
    "We remain within the CRISP-DM framework, moving from \"Data Understanding\" to \"Data Preparation.\" Preprocessing is a key step in this phase, helping us to:\n",
    "\n",
    "- Handle missing values and inconsistent formats. \n",
    "- Identify and manage outliers. \n",
    "- Create features that better reflect business behavior. \n",
    "- Scale our numerical data to prevent features with larger scales from dominating the algorithm. \n",
    "- Encode the necessary features. \n",
    "\n",
    "Essentially, ensure our data is suitable for clustering and other modeling tasks. Without preprocessing, any clustering results would be unreliable or misleading. Clean, consistent data is essential for drawing valid business insights."
   ]
  },
  {
   "cell_type": "code",
   "execution_count": 1,
   "metadata": {},
   "outputs": [],
   "source": [
    "# Remember: library imports are ALWAYS at the top of the script, no exceptions!\n",
    "import sqlite3\n",
    "import os\n",
    "import pandas as pd\n",
    "import numpy as np\n",
    "\n",
    "import matplotlib.pyplot as plt\n",
    "import seaborn as sns\n",
    "from math import ceil\n",
    "\n",
    "from itertools import product\n",
    "from scipy.stats import skewnorm\n",
    "\n",
    "from datetime import datetime\n",
    "from sklearn.impute import KNNImputer\n",
    "from sklearn.decomposition import PCA\n",
    "from sklearn.preprocessing import MinMaxScaler, StandardScaler, OneHotEncoder\n",
    "\n",
    "# for better resolution plots\n",
    "%config InlineBackend.figure_format = 'retina' # optionally, you can change 'svg' to 'retina'\n",
    "\n",
    "# Setting seaborn style\n",
    "sns.set()"
   ]
  },
  {
   "cell_type": "markdown",
   "metadata": {},
   "source": [
    "# Context\n",
    "The data we will be using through the pratical classes comes from a small relational database whose schema can be seen below:\n",
    "![alt text](../figures/schema.png \"Relation database schema\")"
   ]
  },
  {
   "cell_type": "markdown",
   "metadata": {},
   "source": [
    "# Reading the Data"
   ]
  },
  {
   "cell_type": "code",
   "execution_count": 2,
   "metadata": {},
   "outputs": [],
   "source": [
    "# path to database\n",
    "my_path = os.path.join(\"..\", \"data\", \"datamining.db\")\n",
    "\n",
    "# connect to the database\n",
    "conn = sqlite3.connect(my_path)\n",
    "\n",
    "# the query\n",
    "query = \"\"\"\n",
    "select\n",
    "    age, \n",
    "    income, \n",
    "    frq, \n",
    "    rcn, \n",
    "    mnt, \n",
    "    clothes, \n",
    "    kitchen, \n",
    "    small_appliances, \n",
    "    toys, \n",
    "    house_keeping,\n",
    "    dependents, \n",
    "    per_net_purchase,\n",
    "    g.gender, \n",
    "    e.education, \n",
    "    m.status, \n",
    "    r.description\n",
    "from customers as c\n",
    "    join genders as g on g.id = c.gender_id\n",
    "    join education_levels as e on e.id = c.education_id\n",
    "    join marital_status as m on m.id = c.marital_status_id\n",
    "    join recommendations as r on r.id = c.recommendation_id\n",
    "order by c.id;\n",
    "\"\"\"\n",
    "\n",
    "df = pd.read_sql_query(query, conn)"
   ]
  },
  {
   "cell_type": "markdown",
   "metadata": {},
   "source": [
    "## Make a copy of your original dataset\n",
    "\n",
    "why?"
   ]
  },
  {
   "cell_type": "code",
   "execution_count": 3,
   "metadata": {},
   "outputs": [],
   "source": [
    "df_original = df.copy()"
   ]
  },
  {
   "cell_type": "markdown",
   "metadata": {},
   "source": [
    "# Metadata\n",
    "- *id* - The unique identifier of the customer\n",
    "- *age* - The year of birht of the customer\n",
    "- *income* - The income of the customer\n",
    "- *frq* - Frequency: number of purchases made by the customer\n",
    "- *rcn* - Recency: number of days since last customer purchase\n",
    "- *mnt* - Monetary: amount of € spent by the customer in purchases\n",
    "- *clothes* - Number of clothes items purchased by the customer\n",
    "- *kitchen* - Number of kitchen items purchased by the customer\n",
    "- *small_appliances* - Number of small_appliances items purchased by the customer\n",
    "- *toys* - Number of toys items purchased by the customer\n",
    "- *house_keeping* - Number of house_keeping items purchased by the customer\n",
    "- *dependents* - Binary. Whether or not the customer has dependents\n",
    "- *per_net_purchase* - Percentage of purchases made online\n",
    "- *education* - Education level of the customer\n",
    "- *status* - Marital status of the customer\n",
    "- *gender* - Gender of the customer\n",
    "- *description* - Last customer's recommendation description"
   ]
  },
  {
   "cell_type": "markdown",
   "metadata": {},
   "source": [
    "## Problems:\n",
    "- Duplicates?\n",
    "- Data types?\n",
    "- Missing values?\n",
    "- Strange values?\n",
    "- Descriptive statistics?\n",
    "\n",
    "### Take a closer look and point out possible problems:\n",
    "\n",
    "(hint: a missing values in pandas is represented with a NaN value)"
   ]
  },
  {
   "cell_type": "markdown",
   "metadata": {},
   "source": [
    "### Replicating modifications from previous notebook"
   ]
  },
  {
   "cell_type": "code",
   "execution_count": 4,
   "metadata": {},
   "outputs": [
    {
     "name": "stderr",
     "output_type": "stream",
     "text": [
      "/var/folders/jb/jm3xb4f53hs9mcvbg93nks7h0000gn/T/ipykernel_44285/3385904135.py:2: FutureWarning: Downcasting behavior in `replace` is deprecated and will be removed in a future version. To retain the old behavior, explicitly call `result.infer_objects(copy=False)`. To opt-in to the future behavior, set `pd.set_option('future.no_silent_downcasting', True)`\n",
      "  df.replace(\"\", np.nan, inplace=True)\n"
     ]
    },
    {
     "data": {
      "application/vnd.microsoft.datawrangler.viewer.v0+json": {
       "columns": [
        {
         "name": "index",
         "rawType": "object",
         "type": "string"
        },
        {
         "name": "0",
         "rawType": "int64",
         "type": "integer"
        }
       ],
       "ref": "77f2e06f-8202-47f8-bf14-254d19ce1688",
       "rows": [
        [
         "age",
         "0"
        ],
        [
         "income",
         "46"
        ],
        [
         "frq",
         "0"
        ],
        [
         "rcn",
         "0"
        ],
        [
         "mnt",
         "0"
        ],
        [
         "clothes",
         "0"
        ],
        [
         "kitchen",
         "0"
        ],
        [
         "small_appliances",
         "0"
        ],
        [
         "toys",
         "0"
        ],
        [
         "house_keeping",
         "0"
        ],
        [
         "dependents",
         "282"
        ],
        [
         "per_net_purchase",
         "0"
        ],
        [
         "gender",
         "0"
        ],
        [
         "education",
         "47"
        ],
        [
         "status",
         "177"
        ],
        [
         "description",
         "0"
        ]
       ],
       "shape": {
        "columns": 1,
        "rows": 16
       }
      },
      "text/plain": [
       "age                   0\n",
       "income               46\n",
       "frq                   0\n",
       "rcn                   0\n",
       "mnt                   0\n",
       "clothes               0\n",
       "kitchen               0\n",
       "small_appliances      0\n",
       "toys                  0\n",
       "house_keeping         0\n",
       "dependents          282\n",
       "per_net_purchase      0\n",
       "gender                0\n",
       "education            47\n",
       "status              177\n",
       "description           0\n",
       "dtype: int64"
      ]
     },
     "execution_count": 4,
     "metadata": {},
     "output_type": "execute_result"
    }
   ],
   "source": [
    "# replace \"\" by nans\n",
    "df.replace(\"\", np.nan, inplace=True)\n",
    "\n",
    "# count of missing values\n",
    "df.isna().sum()"
   ]
  },
  {
   "cell_type": "code",
   "execution_count": 5,
   "metadata": {},
   "outputs": [],
   "source": [
    "# fix wrong dtypes\n",
    "df.dependents = df.dependents.astype(\"boolean\")  # converting to \"boolean\" over \"bool\" allows preservation of NaNs"
   ]
  },
  {
   "cell_type": "code",
   "execution_count": 6,
   "metadata": {},
   "outputs": [],
   "source": [
    "#Define metric and non-metric features. Why?\n",
    "non_metric_features = [\"education\", \"status\", \"gender\", \"dependents\", \"description\"]\n",
    "metric_features = df.columns.drop(non_metric_features).to_list()"
   ]
  },
  {
   "cell_type": "markdown",
   "metadata": {},
   "source": [
    "# Data Preprocessing"
   ]
  },
  {
   "cell_type": "markdown",
   "metadata": {},
   "source": [
    "## Fill missing values\n",
    "\n",
    "https://statisticsbyjim.com/basics/missing-data/\n",
    "\n",
    "---\n",
    "<br>\n",
    "\n",
    "Read: Section 2.4.2 \n",
    "\n",
    "Han, J., Pei, J., & Tong, H. (2022). *Data mining: Concepts and Techniques* (4th ed.). Morgan Kaufmann.\n",
    "\n",
    "<br>\n",
    "\n",
    "Read: Chapter 4\n",
    "\n",
    "García, S., Luengo, J., & Herrera, F. (2014). *Data preprocessing in data mining*. Springer."
   ]
  },
  {
   "cell_type": "code",
   "execution_count": 7,
   "metadata": {},
   "outputs": [],
   "source": [
    "# Creating a copy to apply central tendency measures imputation\n",
    "df_central = df.copy()"
   ]
  },
  {
   "cell_type": "code",
   "execution_count": 8,
   "metadata": {},
   "outputs": [
    {
     "data": {
      "application/vnd.microsoft.datawrangler.viewer.v0+json": {
       "columns": [
        {
         "name": "index",
         "rawType": "object",
         "type": "string"
        },
        {
         "name": "0",
         "rawType": "int64",
         "type": "integer"
        }
       ],
       "ref": "d32fd3f7-2957-4639-b432-5f1e095daab2",
       "rows": [
        [
         "age",
         "0"
        ],
        [
         "income",
         "46"
        ],
        [
         "frq",
         "0"
        ],
        [
         "rcn",
         "0"
        ],
        [
         "mnt",
         "0"
        ],
        [
         "clothes",
         "0"
        ],
        [
         "kitchen",
         "0"
        ],
        [
         "small_appliances",
         "0"
        ],
        [
         "toys",
         "0"
        ],
        [
         "house_keeping",
         "0"
        ],
        [
         "dependents",
         "282"
        ],
        [
         "per_net_purchase",
         "0"
        ],
        [
         "gender",
         "0"
        ],
        [
         "education",
         "47"
        ],
        [
         "status",
         "177"
        ],
        [
         "description",
         "0"
        ]
       ],
       "shape": {
        "columns": 1,
        "rows": 16
       }
      },
      "text/plain": [
       "age                   0\n",
       "income               46\n",
       "frq                   0\n",
       "rcn                   0\n",
       "mnt                   0\n",
       "clothes               0\n",
       "kitchen               0\n",
       "small_appliances      0\n",
       "toys                  0\n",
       "house_keeping         0\n",
       "dependents          282\n",
       "per_net_purchase      0\n",
       "gender                0\n",
       "education            47\n",
       "status              177\n",
       "description           0\n",
       "dtype: int64"
      ]
     },
     "execution_count": 8,
     "metadata": {},
     "output_type": "execute_result"
    }
   ],
   "source": [
    "# count of missing values\n",
    "df_central.isna().sum()"
   ]
  },
  {
   "cell_type": "code",
   "execution_count": 9,
   "metadata": {},
   "outputs": [],
   "source": [
    "medians = df_central[metric_features].median()"
   ]
  },
  {
   "cell_type": "markdown",
   "metadata": {},
   "source": [
    "#### What about non-numeric features?"
   ]
  },
  {
   "cell_type": "code",
   "execution_count": 10,
   "metadata": {},
   "outputs": [],
   "source": [
    "# Check each step of these commands\n",
    "modes = df_central[non_metric_features].mode().loc[0]"
   ]
  },
  {
   "cell_type": "code",
   "execution_count": 11,
   "metadata": {},
   "outputs": [
    {
     "data": {
      "application/vnd.microsoft.datawrangler.viewer.v0+json": {
       "columns": [
        {
         "name": "index",
         "rawType": "object",
         "type": "string"
        },
        {
         "name": "0",
         "rawType": "int64",
         "type": "integer"
        }
       ],
       "ref": "99dc31a1-ff52-4bd5-ae2b-19ca616a550f",
       "rows": [
        [
         "age",
         "0"
        ],
        [
         "income",
         "0"
        ],
        [
         "frq",
         "0"
        ],
        [
         "rcn",
         "0"
        ],
        [
         "mnt",
         "0"
        ],
        [
         "clothes",
         "0"
        ],
        [
         "kitchen",
         "0"
        ],
        [
         "small_appliances",
         "0"
        ],
        [
         "toys",
         "0"
        ],
        [
         "house_keeping",
         "0"
        ],
        [
         "dependents",
         "0"
        ],
        [
         "per_net_purchase",
         "0"
        ],
        [
         "gender",
         "0"
        ],
        [
         "education",
         "0"
        ],
        [
         "status",
         "0"
        ],
        [
         "description",
         "0"
        ]
       ],
       "shape": {
        "columns": 1,
        "rows": 16
       }
      },
      "text/plain": [
       "age                 0\n",
       "income              0\n",
       "frq                 0\n",
       "rcn                 0\n",
       "mnt                 0\n",
       "clothes             0\n",
       "kitchen             0\n",
       "small_appliances    0\n",
       "toys                0\n",
       "house_keeping       0\n",
       "dependents          0\n",
       "per_net_purchase    0\n",
       "gender              0\n",
       "education           0\n",
       "status              0\n",
       "description         0\n",
       "dtype: int64"
      ]
     },
     "execution_count": 11,
     "metadata": {},
     "output_type": "execute_result"
    }
   ],
   "source": [
    "# Fill NaNs on df_central\n",
    "# CODE HERE\n",
    "\n",
    "df_central[metric_features] = df_central[metric_features].fillna(medians)\n",
    "df_central[non_metric_features] = df_central[non_metric_features].fillna(modes)\n",
    "\n",
    "df_central.isna().sum()  # checking how many NaNs we still have"
   ]
  },
  {
   "cell_type": "code",
   "execution_count": 12,
   "metadata": {},
   "outputs": [],
   "source": [
    "# let's keep the central imputation\n",
    "df = df_central.copy()"
   ]
  },
  {
   "cell_type": "markdown",
   "metadata": {},
   "source": [
    "## An overview of our previous data exploration\n",
    "\n",
    "You can also explore this dataset using the exported `pandas-profiling` report.\n",
    "\n"
   ]
  },
  {
   "cell_type": "markdown",
   "metadata": {},
   "source": [
    "\n",
    "![](https://raw.githubusercontent.com/fpontejos/Data-Mining-24-25/refs/heads/main/figures/eda/categorical_variables_counts.png)\n",
    "\n",
    "![](https://raw.githubusercontent.com/fpontejos/Data-Mining-24-25/refs/heads/main/figures/eda/numeric_variables_histograms.png)\n",
    "\n",
    "![](https://raw.githubusercontent.com/fpontejos/Data-Mining-24-25/refs/heads/main/figures/eda/numeric_variables_boxplots.png)\n",
    "\n",
    "![](https://raw.githubusercontent.com/fpontejos/Data-Mining-24-25/refs/heads/main/figures/eda/pairwise_numeric_scatterplots.png)\n",
    "\n",
    "![](https://raw.githubusercontent.com/fpontejos/Data-Mining-24-25/refs/heads/main/figures/eda/correlation_matrix.png)"
   ]
  },
  {
   "cell_type": "markdown",
   "metadata": {},
   "source": [
    "## Outlier removal\n",
    "\n",
    "Why do we need to remove outliers? Which methods can we use?\n",
    "\n",
    "\n"
   ]
  },
  {
   "cell_type": "markdown",
   "metadata": {},
   "source": [
    "### Outlier removal using only the IQR method\n",
    "\n",
    "Why should you use/not use this method?"
   ]
  },
  {
   "cell_type": "markdown",
   "metadata": {
    "id": "dTg3mjGfa487"
   },
   "source": [
    "Inter-Quartile Range formula:\n",
    "\n",
    "<br>\n",
    "\n",
    "$IQR = Q_3 – Q_1$\n",
    "\n",
    "<br>\n",
    "\n",
    "---\n",
    "\n",
    "<br>\n",
    "\n",
    "**Outliers** are the observations that fall\n",
    "- below $Q_1 − 1.5 \\times IQR$\n",
    "\n",
    "or\n",
    "\n",
    "- above $Q_3 + 1.5 \\times IQR$\n",
    "\n",
    "<br>\n",
    "<br>\n",
    "\n",
    "https://online.stat.psu.edu/stat200/lesson/3/3.2"
   ]
  },
  {
   "cell_type": "code",
   "execution_count": 13,
   "metadata": {},
   "outputs": [],
   "source": [
    "# Compute the IQR\n",
    "# HINT: Use .quantile()\n",
    "\n",
    "# Calculate Q1, Q3, IQR\n",
    "\n",
    "q1 = df[metric_features].quantile(.25)\n"
   ]
  },
  {
   "cell_type": "code",
   "execution_count": 14,
   "metadata": {},
   "outputs": [],
   "source": [
    "# Calculate Q1, Q3, IQR\n",
    "\n",
    "q3 = df[metric_features].quantile(.75)\n"
   ]
  },
  {
   "cell_type": "code",
   "execution_count": 15,
   "metadata": {},
   "outputs": [],
   "source": [
    "# Calculate Q1, Q3, IQR\n",
    "\n",
    "iqr = (q3 - q1)\n"
   ]
  },
  {
   "cell_type": "code",
   "execution_count": 16,
   "metadata": {},
   "outputs": [],
   "source": [
    "# Compute upper and lower limit \n",
    "\n",
    "# lower_limit = Q1 -1.5*IQR\n",
    "lower_lim = q1 - (1.5 * iqr)\n",
    "\n",
    "# upper_limit = Q3 + 1.5*IQR\n",
    "upper_lim = q3 + (1.5 * iqr)\n",
    "\n",
    "\n"
   ]
  },
  {
   "cell_type": "code",
   "execution_count": 17,
   "metadata": {},
   "outputs": [],
   "source": [
    "filters_iqr = []\n",
    "for metric in metric_features:\n",
    "    llim = lower_lim[metric]\n",
    "    ulim = upper_lim[metric]\n",
    "    filters_iqr.append(df[metric].between(llim, ulim, inclusive='neither'))\n",
    "\n",
    "filters_iqr_all = pd.Series(np.all(filters_iqr, 0))\n"
   ]
  },
  {
   "cell_type": "code",
   "execution_count": 18,
   "metadata": {},
   "outputs": [
    {
     "data": {
      "text/plain": [
       "np.int64(7339)"
      ]
     },
     "execution_count": 18,
     "metadata": {},
     "output_type": "execute_result"
    }
   ],
   "source": [
    "filters_iqr_all.sum()"
   ]
  },
  {
   "cell_type": "code",
   "execution_count": 19,
   "metadata": {},
   "outputs": [
    {
     "name": "stdout",
     "output_type": "stream",
     "text": [
      "Percentage of data kept after removing outliers: 81.56\n"
     ]
    }
   ],
   "source": [
    "df_iqr = df[filters_iqr_all]\n",
    "print('Percentage of data kept after removing outliers:', 100*(np.round(df_iqr.shape[0] / df_original.shape[0], 4)))\n"
   ]
  },
  {
   "cell_type": "markdown",
   "metadata": {
    "id": "3foxpUT9bvYv"
   },
   "source": [
    "What do you think of this number?\n",
    "\n",
    "In general we want to keep as much of our data as possible.\n",
    "\n",
    "As a rule of thumb, try not to remove more than 5% of your rows. \n",
    "\n",
    "***This is only a rule of thumb!*** \n",
    "\n",
    "In some cases it really is necessary to remove more.\n"
   ]
  },
  {
   "cell_type": "markdown",
   "metadata": {},
   "source": [
    "### Manual outlier removal\n",
    "\n",
    "Now let's try \"manually\" filtering the dataset's outliers\n",
    "\n",
    "---\n",
    "\n",
    "\n",
    "Let's look at the boxplots again:\n",
    "\n",
    "![](https://raw.githubusercontent.com/fpontejos/Data-Mining-24-25/refs/heads/main/figures/eda/numeric_variables_boxplots.png)"
   ]
  },
  {
   "cell_type": "code",
   "execution_count": 20,
   "metadata": {},
   "outputs": [],
   "source": [
    "# This may vary from session to session, and is prone to varying interpretations.\n",
    "# A simple example is provided below:\n",
    "\n",
    "# ( df['feature1']<= limit1 ) & ( df['feature2']<= limit2 ) ...\n",
    "\n",
    "\n",
    "filters_man = (\n",
    "    (df['house_keeping']<=50)\n",
    "    &\n",
    "    (df['kitchen']<=40)\n",
    "    &\n",
    "    (df['toys']<=35)\n",
    "    &\n",
    "    (df['education']!='OldSchool')\n",
    ")\n",
    "\n",
    "df_man = df[filters_man]"
   ]
  },
  {
   "cell_type": "code",
   "execution_count": 21,
   "metadata": {},
   "outputs": [
    {
     "name": "stdout",
     "output_type": "stream",
     "text": [
      "Percentage of data kept after removing outliers: 97.99\n"
     ]
    }
   ],
   "source": [
    "print('Percentage of data kept after removing outliers:', 100*np.round(df_man.shape[0] / df_original.shape[0], 4))"
   ]
  },
  {
   "cell_type": "markdown",
   "metadata": {},
   "source": [
    "## Combining different outlier methods\n",
    "\n",
    "More robust/ consistent outlier detection method:"
   ]
  },
  {
   "cell_type": "code",
   "execution_count": 22,
   "metadata": {},
   "outputs": [
    {
     "name": "stdout",
     "output_type": "stream",
     "text": [
      "Percentage of data kept after removing outliers: 0.9819\n"
     ]
    }
   ],
   "source": [
    "## What is this doing?\n",
    "df_out = df[(filters_iqr_all | filters_man)] \n",
    "\n",
    "\n",
    "print('Percentage of data kept after removing outliers:', np.round(df_out.shape[0] / df_original.shape[0], 4))"
   ]
  },
  {
   "cell_type": "code",
   "execution_count": 23,
   "metadata": {},
   "outputs": [],
   "source": [
    "# Get the manual filtering version\n",
    "\n",
    "df = df_man.copy()\n",
    "\n"
   ]
  },
  {
   "cell_type": "markdown",
   "metadata": {},
   "source": [
    "## Outlier threshold value\n",
    "\n",
    "You may change the values of observations for a given variable:\n"
   ]
  },
  {
   "cell_type": "code",
   "execution_count": 24,
   "metadata": {},
   "outputs": [
    {
     "name": "stdout",
     "output_type": "stream",
     "text": [
      "rcn\n",
      "False    8437\n",
      "True      380\n",
      "Name: count, dtype: int64\n"
     ]
    }
   ],
   "source": [
    "print((df['rcn']>100).value_counts())\n",
    "\n",
    "rcn_t = df['rcn'].copy()\n",
    "rcn_t.loc[rcn_t>100] = 100\n",
    "\n",
    "df['rcn'] = rcn_t"
   ]
  },
  {
   "cell_type": "markdown",
   "metadata": {},
   "source": [
    "\n",
    "Visualize your boxplots and histograms before and after outlier removal.\n",
    "\n",
    "\n",
    "![](https://raw.githubusercontent.com/fpontejos/Data-Mining-24-25/refs/heads/main/figures/eda/boxplots_before_after_outliers.png)"
   ]
  },
  {
   "cell_type": "markdown",
   "metadata": {},
   "source": [
    "## Feature Engineering\n",
    "\n",
    "A reminder of our metadata:\n",
    "- *id* - The unique identifier of the customer\n",
    "- *age* - The year of birht of the customer\n",
    "- *income* - The income of the customer\n",
    "- *frq* - Frequency: number of purchases made by the customer\n",
    "- *rcn* - Recency: number of days since last customer purchase\n",
    "- *mnt* - Monetary: amount of € spent by the customer in purchases\n",
    "- *clothes* - Number of clothes items purchased by the customer\n",
    "- *kitchen* - Number of kitchen items purchased by the customer\n",
    "- *small_appliances* - Number of small_appliances items purchased by the customer\n",
    "- *toys* - Number of toys items purchased by the customer\n",
    "- *house_keeping* - Number of house_keeping items purchased by the customer\n",
    "- *dependents* - Binary. Whether or not the customer has dependents\n",
    "- *per_net_purchase* - Percentage of purchases made online\n",
    "- *education* - Education level of the customer\n",
    "- *status* - Marital status of the customer\n",
    "- *gender* - Gender of the customer\n",
    "- *description* - Last customer's recommendation description"
   ]
  },
  {
   "cell_type": "code",
   "execution_count": 25,
   "metadata": {},
   "outputs": [],
   "source": [
    "# Try to pull as many features as you can; You can always drop them later on\n",
    "# You can start by converting the 'age' variable to the actual age\n",
    "# You can also store the birth year in another feature\n",
    "\n",
    "# CODE HERE"
   ]
  },
  {
   "cell_type": "code",
   "execution_count": 26,
   "metadata": {},
   "outputs": [],
   "source": [
    "new_features = []"
   ]
  },
  {
   "cell_type": "code",
   "execution_count": 27,
   "metadata": {},
   "outputs": [
    {
     "data": {
      "text/plain": [
       "['birth_year']"
      ]
     },
     "execution_count": 27,
     "metadata": {},
     "output_type": "execute_result"
    }
   ],
   "source": [
    "df['birth_year'] = df['age']\n",
    "df['age'] = 2024 - df['birth_year']\n",
    "new_features.append('birth_year')\n",
    "\n",
    "new_features"
   ]
  },
  {
   "cell_type": "code",
   "execution_count": 28,
   "metadata": {},
   "outputs": [
    {
     "data": {
      "application/vnd.microsoft.datawrangler.viewer.v0+json": {
       "columns": [
        {
         "name": "index",
         "rawType": "object",
         "type": "string"
        },
        {
         "name": "age",
         "rawType": "float64",
         "type": "float"
        },
        {
         "name": "income",
         "rawType": "float64",
         "type": "float"
        },
        {
         "name": "frq",
         "rawType": "float64",
         "type": "float"
        },
        {
         "name": "rcn",
         "rawType": "float64",
         "type": "float"
        },
        {
         "name": "mnt",
         "rawType": "float64",
         "type": "float"
        },
        {
         "name": "clothes",
         "rawType": "float64",
         "type": "float"
        },
        {
         "name": "kitchen",
         "rawType": "float64",
         "type": "float"
        },
        {
         "name": "small_appliances",
         "rawType": "float64",
         "type": "float"
        },
        {
         "name": "toys",
         "rawType": "float64",
         "type": "float"
        },
        {
         "name": "house_keeping",
         "rawType": "float64",
         "type": "float"
        },
        {
         "name": "per_net_purchase",
         "rawType": "float64",
         "type": "float"
        },
        {
         "name": "birth_year",
         "rawType": "float64",
         "type": "float"
        }
       ],
       "ref": "5b629ed9-2723-49f3-b970-0a7621fd3969",
       "rows": [
        [
         "count",
         "8817.0",
         "8817.0",
         "8817.0",
         "8817.0",
         "8817.0",
         "8817.0",
         "8817.0",
         "8817.0",
         "8817.0",
         "8817.0",
         "8817.0",
         "8817.0"
        ],
        [
         "mean",
         "58.33526142678916",
         "70534.38788703641",
         "19.99035953272088",
         "52.220936826585",
         "630.1626403538619",
         "51.18112736758535",
         "6.776908245434956",
         "28.673925371441534",
         "6.581263468299875",
         "6.764318929341045",
         "42.241238516502214",
         "1965.6647385732108"
        ],
        [
         "std",
         "17.075958489964755",
         "27246.77659961653",
         "10.918368635332808",
         "30.098894799197293",
         "647.8346477340054",
         "22.984454176714607",
         "7.310849675087696",
         "12.595621265857575",
         "6.895266077143807",
         "7.540019174294338",
         "18.482271529707727",
         "17.075958489964755"
        ],
        [
         "min",
         "28.0",
         "10000.0",
         "3.0",
         "0.0",
         "6.0",
         "1.0",
         "0.0",
         "1.0",
         "0.0",
         "0.0",
         "4.0",
         "1936.0"
        ],
        [
         "25%",
         "44.0",
         "48842.0",
         "10.0",
         "26.0",
         "64.0",
         "34.0",
         "2.0",
         "19.0",
         "2.0",
         "2.0",
         "27.0",
         "1951.0"
        ],
        [
         "50%",
         "58.0",
         "70388.0",
         "18.0",
         "53.0",
         "387.0",
         "52.0",
         "4.0",
         "28.0",
         "4.0",
         "4.0",
         "45.0",
         "1966.0"
        ],
        [
         "75%",
         "73.0",
         "92413.0",
         "28.0",
         "78.0",
         "1079.0",
         "70.0",
         "9.0",
         "37.0",
         "9.0",
         "9.0",
         "57.0",
         "1980.0"
        ],
        [
         "max",
         "88.0",
         "140628.0",
         "59.0",
         "100.0",
         "3052.0",
         "99.0",
         "40.0",
         "74.0",
         "35.0",
         "50.0",
         "88.0",
         "1996.0"
        ]
       ],
       "shape": {
        "columns": 12,
        "rows": 8
       }
      },
      "text/html": [
       "<div>\n",
       "<style scoped>\n",
       "    .dataframe tbody tr th:only-of-type {\n",
       "        vertical-align: middle;\n",
       "    }\n",
       "\n",
       "    .dataframe tbody tr th {\n",
       "        vertical-align: top;\n",
       "    }\n",
       "\n",
       "    .dataframe thead th {\n",
       "        text-align: right;\n",
       "    }\n",
       "</style>\n",
       "<table border=\"1\" class=\"dataframe\">\n",
       "  <thead>\n",
       "    <tr style=\"text-align: right;\">\n",
       "      <th></th>\n",
       "      <th>age</th>\n",
       "      <th>income</th>\n",
       "      <th>frq</th>\n",
       "      <th>rcn</th>\n",
       "      <th>mnt</th>\n",
       "      <th>clothes</th>\n",
       "      <th>kitchen</th>\n",
       "      <th>small_appliances</th>\n",
       "      <th>toys</th>\n",
       "      <th>house_keeping</th>\n",
       "      <th>per_net_purchase</th>\n",
       "      <th>birth_year</th>\n",
       "    </tr>\n",
       "  </thead>\n",
       "  <tbody>\n",
       "    <tr>\n",
       "      <th>count</th>\n",
       "      <td>8817.000000</td>\n",
       "      <td>8817.000000</td>\n",
       "      <td>8817.000000</td>\n",
       "      <td>8817.000000</td>\n",
       "      <td>8817.000000</td>\n",
       "      <td>8817.000000</td>\n",
       "      <td>8817.000000</td>\n",
       "      <td>8817.000000</td>\n",
       "      <td>8817.000000</td>\n",
       "      <td>8817.000000</td>\n",
       "      <td>8817.000000</td>\n",
       "      <td>8817.000000</td>\n",
       "    </tr>\n",
       "    <tr>\n",
       "      <th>mean</th>\n",
       "      <td>58.335261</td>\n",
       "      <td>70534.387887</td>\n",
       "      <td>19.990360</td>\n",
       "      <td>52.220937</td>\n",
       "      <td>630.162640</td>\n",
       "      <td>51.181127</td>\n",
       "      <td>6.776908</td>\n",
       "      <td>28.673925</td>\n",
       "      <td>6.581263</td>\n",
       "      <td>6.764319</td>\n",
       "      <td>42.241239</td>\n",
       "      <td>1965.664739</td>\n",
       "    </tr>\n",
       "    <tr>\n",
       "      <th>std</th>\n",
       "      <td>17.075958</td>\n",
       "      <td>27246.776600</td>\n",
       "      <td>10.918369</td>\n",
       "      <td>30.098895</td>\n",
       "      <td>647.834648</td>\n",
       "      <td>22.984454</td>\n",
       "      <td>7.310850</td>\n",
       "      <td>12.595621</td>\n",
       "      <td>6.895266</td>\n",
       "      <td>7.540019</td>\n",
       "      <td>18.482272</td>\n",
       "      <td>17.075958</td>\n",
       "    </tr>\n",
       "    <tr>\n",
       "      <th>min</th>\n",
       "      <td>28.000000</td>\n",
       "      <td>10000.000000</td>\n",
       "      <td>3.000000</td>\n",
       "      <td>0.000000</td>\n",
       "      <td>6.000000</td>\n",
       "      <td>1.000000</td>\n",
       "      <td>0.000000</td>\n",
       "      <td>1.000000</td>\n",
       "      <td>0.000000</td>\n",
       "      <td>0.000000</td>\n",
       "      <td>4.000000</td>\n",
       "      <td>1936.000000</td>\n",
       "    </tr>\n",
       "    <tr>\n",
       "      <th>25%</th>\n",
       "      <td>44.000000</td>\n",
       "      <td>48842.000000</td>\n",
       "      <td>10.000000</td>\n",
       "      <td>26.000000</td>\n",
       "      <td>64.000000</td>\n",
       "      <td>34.000000</td>\n",
       "      <td>2.000000</td>\n",
       "      <td>19.000000</td>\n",
       "      <td>2.000000</td>\n",
       "      <td>2.000000</td>\n",
       "      <td>27.000000</td>\n",
       "      <td>1951.000000</td>\n",
       "    </tr>\n",
       "    <tr>\n",
       "      <th>50%</th>\n",
       "      <td>58.000000</td>\n",
       "      <td>70388.000000</td>\n",
       "      <td>18.000000</td>\n",
       "      <td>53.000000</td>\n",
       "      <td>387.000000</td>\n",
       "      <td>52.000000</td>\n",
       "      <td>4.000000</td>\n",
       "      <td>28.000000</td>\n",
       "      <td>4.000000</td>\n",
       "      <td>4.000000</td>\n",
       "      <td>45.000000</td>\n",
       "      <td>1966.000000</td>\n",
       "    </tr>\n",
       "    <tr>\n",
       "      <th>75%</th>\n",
       "      <td>73.000000</td>\n",
       "      <td>92413.000000</td>\n",
       "      <td>28.000000</td>\n",
       "      <td>78.000000</td>\n",
       "      <td>1079.000000</td>\n",
       "      <td>70.000000</td>\n",
       "      <td>9.000000</td>\n",
       "      <td>37.000000</td>\n",
       "      <td>9.000000</td>\n",
       "      <td>9.000000</td>\n",
       "      <td>57.000000</td>\n",
       "      <td>1980.000000</td>\n",
       "    </tr>\n",
       "    <tr>\n",
       "      <th>max</th>\n",
       "      <td>88.000000</td>\n",
       "      <td>140628.000000</td>\n",
       "      <td>59.000000</td>\n",
       "      <td>100.000000</td>\n",
       "      <td>3052.000000</td>\n",
       "      <td>99.000000</td>\n",
       "      <td>40.000000</td>\n",
       "      <td>74.000000</td>\n",
       "      <td>35.000000</td>\n",
       "      <td>50.000000</td>\n",
       "      <td>88.000000</td>\n",
       "      <td>1996.000000</td>\n",
       "    </tr>\n",
       "  </tbody>\n",
       "</table>\n",
       "</div>"
      ],
      "text/plain": [
       "               age         income          frq          rcn          mnt  \\\n",
       "count  8817.000000    8817.000000  8817.000000  8817.000000  8817.000000   \n",
       "mean     58.335261   70534.387887    19.990360    52.220937   630.162640   \n",
       "std      17.075958   27246.776600    10.918369    30.098895   647.834648   \n",
       "min      28.000000   10000.000000     3.000000     0.000000     6.000000   \n",
       "25%      44.000000   48842.000000    10.000000    26.000000    64.000000   \n",
       "50%      58.000000   70388.000000    18.000000    53.000000   387.000000   \n",
       "75%      73.000000   92413.000000    28.000000    78.000000  1079.000000   \n",
       "max      88.000000  140628.000000    59.000000   100.000000  3052.000000   \n",
       "\n",
       "           clothes      kitchen  small_appliances         toys  house_keeping  \\\n",
       "count  8817.000000  8817.000000       8817.000000  8817.000000    8817.000000   \n",
       "mean     51.181127     6.776908         28.673925     6.581263       6.764319   \n",
       "std      22.984454     7.310850         12.595621     6.895266       7.540019   \n",
       "min       1.000000     0.000000          1.000000     0.000000       0.000000   \n",
       "25%      34.000000     2.000000         19.000000     2.000000       2.000000   \n",
       "50%      52.000000     4.000000         28.000000     4.000000       4.000000   \n",
       "75%      70.000000     9.000000         37.000000     9.000000       9.000000   \n",
       "max      99.000000    40.000000         74.000000    35.000000      50.000000   \n",
       "\n",
       "       per_net_purchase   birth_year  \n",
       "count       8817.000000  8817.000000  \n",
       "mean          42.241239  1965.664739  \n",
       "std           18.482272    17.075958  \n",
       "min            4.000000  1936.000000  \n",
       "25%           27.000000  1951.000000  \n",
       "50%           45.000000  1966.000000  \n",
       "75%           57.000000  1980.000000  \n",
       "max           88.000000  1996.000000  "
      ]
     },
     "execution_count": 28,
     "metadata": {},
     "output_type": "execute_result"
    }
   ],
   "source": [
    "df.describe()"
   ]
  },
  {
   "cell_type": "code",
   "execution_count": 29,
   "metadata": {},
   "outputs": [
    {
     "data": {
      "text/plain": [
       "['birth_year', 'spent_online']"
      ]
     },
     "execution_count": 29,
     "metadata": {},
     "output_type": "execute_result"
    }
   ],
   "source": [
    "df['spent_online'] = df['per_net_purchase']*df['mnt']/100\n",
    "\n",
    "new_features.append('spent_online')\n",
    "\n",
    "new_features"
   ]
  },
  {
   "cell_type": "code",
   "execution_count": 30,
   "metadata": {},
   "outputs": [
    {
     "data": {
      "text/plain": [
       "['age',\n",
       " 'income',\n",
       " 'frq',\n",
       " 'rcn',\n",
       " 'mnt',\n",
       " 'clothes',\n",
       " 'kitchen',\n",
       " 'small_appliances',\n",
       " 'toys',\n",
       " 'house_keeping',\n",
       " 'per_net_purchase',\n",
       " 'spent_online',\n",
       " 'birth_year']"
      ]
     },
     "execution_count": 30,
     "metadata": {},
     "output_type": "execute_result"
    }
   ],
   "source": [
    "metric_features.append('spent_online')\n",
    "metric_features.append('birth_year')\n",
    "metric_features"
   ]
  },
  {
   "cell_type": "markdown",
   "metadata": {},
   "source": [
    "## Variable selection: Redundancy VS Relevancy"
   ]
  },
  {
   "cell_type": "markdown",
   "metadata": {},
   "source": [
    "### Redundancy: Handling highly correlated variables\n",
    "\n",
    "We already saw our original correlation matrix:\n",
    "\n",
    "![](https://raw.githubusercontent.com/fpontejos/Data-Mining-24-25/refs/heads/main/figures/eda/correlation_matrix.png)\n"
   ]
  },
  {
   "cell_type": "code",
   "execution_count": 31,
   "metadata": {},
   "outputs": [
    {
     "data": {
      "image/png": "[encoded data removed]",
      "text/plain": [
       "<Figure size 1200x800 with 2 Axes>"
      ]
     },
     "metadata": {
      "image/png": {
       "height": 778,
       "width": 901
      }
     },
     "output_type": "display_data"
    }
   ],
   "source": [
    "plt.figure(figsize=(12,8))\n",
    "corr = df[metric_features].corr()\n",
    "corr = corr.round(2)\n",
    "\n",
    "sns.heatmap(\n",
    "    corr,\n",
    "    center = 0,\n",
    "    cmap='PiYG',\n",
    "    annot=np.where(np.absolute(corr) >= 0.9, corr.values, np.full(corr.values.shape, \"\")),\n",
    "    fmt='s',\n",
    "    square=True,\n",
    "    linewidths=.5,\n",
    ")\n",
    "plt.show()"
   ]
  },
  {
   "cell_type": "code",
   "execution_count": 32,
   "metadata": {},
   "outputs": [
    {
     "data": {
      "text/plain": [
       "['income',\n",
       " 'frq',\n",
       " 'rcn',\n",
       " 'clothes',\n",
       " 'kitchen',\n",
       " 'small_appliances',\n",
       " 'toys',\n",
       " 'house_keeping',\n",
       " 'per_net_purchase',\n",
       " 'spent_online']"
      ]
     },
     "execution_count": 32,
     "metadata": {},
     "output_type": "execute_result"
    }
   ],
   "source": [
    "# Select variables according to their correlations\n",
    "# Updating metric_features\n",
    "\n",
    "## RUN THIS CELL ONLY ONCE!!!!\n",
    "\n",
    "# CODE HERE\n",
    "metric_features.remove(\"mnt\")\n",
    "metric_features.remove(\"age\")\n",
    "metric_features.remove(\"birth_year\")\n",
    "\n",
    "metric_features\n"
   ]
  },
  {
   "cell_type": "code",
   "execution_count": null,
   "metadata": {},
   "outputs": [],
   "source": []
  },
  {
   "cell_type": "code",
   "execution_count": 33,
   "metadata": {},
   "outputs": [],
   "source": [
    "# You can also drop the features from the df\n",
    "# But sometimes they may be useful for cluster profiling later\n",
    "\n",
    "# df.drop(..., inplace=True)\n"
   ]
  },
  {
   "cell_type": "markdown",
   "metadata": {},
   "source": [
    "### Relevancy\n",
    "Selecting variables based on the relevancy of each one to the task. \n",
    "\n",
    "Example: \n",
    "- remove uncorrelated variables with the target,\n",
    "- stepwise regression,\n",
    "- use variables for product clustering,\n",
    "- use variables for socio-demographic clustering,\n",
    "- ...\n",
    "\n",
    "Variables that aren't correlated with any other variable are often also not relevant. In this case we will not focus on this a lot since we don't have a defined task yet."
   ]
  },
  {
   "cell_type": "code",
   "execution_count": null,
   "metadata": {},
   "outputs": [],
   "source": []
  },
  {
   "cell_type": "markdown",
   "metadata": {},
   "source": [
    "## Redo data exploration\n",
    "\n",
    "Check if the data looks the way you expect it to. \n",
    "\n",
    "- Have you missed some outliers? \n",
    "- Are there still missing values?\n",
    "- Is the data normalized?\n",
    "\n",
    "This is an iterative process. It is likely you will change your preprocessing steps frequently throughout your group work."
   ]
  },
  {
   "cell_type": "code",
   "execution_count": null,
   "metadata": {},
   "outputs": [],
   "source": []
  },
  {
   "cell_type": "markdown",
   "metadata": {},
   "source": [
    "# Begginning of lab 06"
   ]
  },
  {
   "cell_type": "markdown",
   "metadata": {},
   "source": [
    "## Data Normalization / Scaling"
   ]
  },
  {
   "cell_type": "code",
   "execution_count": 34,
   "metadata": {},
   "outputs": [
    {
     "data": {
      "application/vnd.microsoft.datawrangler.viewer.v0+json": {
       "columns": [
        {
         "name": "index",
         "rawType": "object",
         "type": "string"
        },
        {
         "name": "age",
         "rawType": "float64",
         "type": "float"
        },
        {
         "name": "income",
         "rawType": "float64",
         "type": "float"
        },
        {
         "name": "frq",
         "rawType": "float64",
         "type": "float"
        },
        {
         "name": "rcn",
         "rawType": "float64",
         "type": "float"
        },
        {
         "name": "mnt",
         "rawType": "float64",
         "type": "float"
        },
        {
         "name": "clothes",
         "rawType": "float64",
         "type": "float"
        },
        {
         "name": "kitchen",
         "rawType": "float64",
         "type": "float"
        },
        {
         "name": "small_appliances",
         "rawType": "float64",
         "type": "float"
        },
        {
         "name": "toys",
         "rawType": "float64",
         "type": "float"
        },
        {
         "name": "house_keeping",
         "rawType": "float64",
         "type": "float"
        },
        {
         "name": "per_net_purchase",
         "rawType": "float64",
         "type": "float"
        },
        {
         "name": "birth_year",
         "rawType": "float64",
         "type": "float"
        },
        {
         "name": "spent_online",
         "rawType": "float64",
         "type": "float"
        }
       ],
       "ref": "9defd758-bd93-477a-a6a2-9281eb6e0ce1",
       "rows": [
        [
         "count",
         "8817.0",
         "8817.0",
         "8817.0",
         "8817.0",
         "8817.0",
         "8817.0",
         "8817.0",
         "8817.0",
         "8817.0",
         "8817.0",
         "8817.0",
         "8817.0",
         "8817.0"
        ],
        [
         "mean",
         "58.34",
         "70534.39",
         "19.99",
         "52.22",
         "630.16",
         "51.18",
         "6.78",
         "28.67",
         "6.58",
         "6.76",
         "42.24",
         "1965.66",
         "178.38"
        ],
        [
         "std",
         "17.08",
         "27246.78",
         "10.92",
         "30.1",
         "647.83",
         "22.98",
         "7.31",
         "12.6",
         "6.9",
         "7.54",
         "18.48",
         "17.08",
         "168.58"
        ],
        [
         "min",
         "28.0",
         "10000.0",
         "3.0",
         "0.0",
         "6.0",
         "1.0",
         "0.0",
         "1.0",
         "0.0",
         "0.0",
         "4.0",
         "1936.0",
         "2.73"
        ],
        [
         "25%",
         "44.0",
         "48842.0",
         "10.0",
         "26.0",
         "64.0",
         "34.0",
         "2.0",
         "19.0",
         "2.0",
         "2.0",
         "27.0",
         "1951.0",
         "34.65"
        ],
        [
         "50%",
         "58.0",
         "70388.0",
         "18.0",
         "53.0",
         "387.0",
         "52.0",
         "4.0",
         "28.0",
         "4.0",
         "4.0",
         "45.0",
         "1966.0",
         "140.0"
        ],
        [
         "75%",
         "73.0",
         "92413.0",
         "28.0",
         "78.0",
         "1079.0",
         "70.0",
         "9.0",
         "37.0",
         "9.0",
         "9.0",
         "57.0",
         "1980.0",
         "265.1"
        ],
        [
         "max",
         "88.0",
         "140628.0",
         "59.0",
         "100.0",
         "3052.0",
         "99.0",
         "40.0",
         "74.0",
         "35.0",
         "50.0",
         "88.0",
         "1996.0",
         "1416.24"
        ]
       ],
       "shape": {
        "columns": 13,
        "rows": 8
       }
      },
      "text/html": [
       "<div>\n",
       "<style scoped>\n",
       "    .dataframe tbody tr th:only-of-type {\n",
       "        vertical-align: middle;\n",
       "    }\n",
       "\n",
       "    .dataframe tbody tr th {\n",
       "        vertical-align: top;\n",
       "    }\n",
       "\n",
       "    .dataframe thead th {\n",
       "        text-align: right;\n",
       "    }\n",
       "</style>\n",
       "<table border=\"1\" class=\"dataframe\">\n",
       "  <thead>\n",
       "    <tr style=\"text-align: right;\">\n",
       "      <th></th>\n",
       "      <th>age</th>\n",
       "      <th>income</th>\n",
       "      <th>frq</th>\n",
       "      <th>rcn</th>\n",
       "      <th>mnt</th>\n",
       "      <th>clothes</th>\n",
       "      <th>kitchen</th>\n",
       "      <th>small_appliances</th>\n",
       "      <th>toys</th>\n",
       "      <th>house_keeping</th>\n",
       "      <th>per_net_purchase</th>\n",
       "      <th>birth_year</th>\n",
       "      <th>spent_online</th>\n",
       "    </tr>\n",
       "  </thead>\n",
       "  <tbody>\n",
       "    <tr>\n",
       "      <th>count</th>\n",
       "      <td>8817.00</td>\n",
       "      <td>8817.00</td>\n",
       "      <td>8817.00</td>\n",
       "      <td>8817.00</td>\n",
       "      <td>8817.00</td>\n",
       "      <td>8817.00</td>\n",
       "      <td>8817.00</td>\n",
       "      <td>8817.00</td>\n",
       "      <td>8817.00</td>\n",
       "      <td>8817.00</td>\n",
       "      <td>8817.00</td>\n",
       "      <td>8817.00</td>\n",
       "      <td>8817.00</td>\n",
       "    </tr>\n",
       "    <tr>\n",
       "      <th>mean</th>\n",
       "      <td>58.34</td>\n",
       "      <td>70534.39</td>\n",
       "      <td>19.99</td>\n",
       "      <td>52.22</td>\n",
       "      <td>630.16</td>\n",
       "      <td>51.18</td>\n",
       "      <td>6.78</td>\n",
       "      <td>28.67</td>\n",
       "      <td>6.58</td>\n",
       "      <td>6.76</td>\n",
       "      <td>42.24</td>\n",
       "      <td>1965.66</td>\n",
       "      <td>178.38</td>\n",
       "    </tr>\n",
       "    <tr>\n",
       "      <th>std</th>\n",
       "      <td>17.08</td>\n",
       "      <td>27246.78</td>\n",
       "      <td>10.92</td>\n",
       "      <td>30.10</td>\n",
       "      <td>647.83</td>\n",
       "      <td>22.98</td>\n",
       "      <td>7.31</td>\n",
       "      <td>12.60</td>\n",
       "      <td>6.90</td>\n",
       "      <td>7.54</td>\n",
       "      <td>18.48</td>\n",
       "      <td>17.08</td>\n",
       "      <td>168.58</td>\n",
       "    </tr>\n",
       "    <tr>\n",
       "      <th>min</th>\n",
       "      <td>28.00</td>\n",
       "      <td>10000.00</td>\n",
       "      <td>3.00</td>\n",
       "      <td>0.00</td>\n",
       "      <td>6.00</td>\n",
       "      <td>1.00</td>\n",
       "      <td>0.00</td>\n",
       "      <td>1.00</td>\n",
       "      <td>0.00</td>\n",
       "      <td>0.00</td>\n",
       "      <td>4.00</td>\n",
       "      <td>1936.00</td>\n",
       "      <td>2.73</td>\n",
       "    </tr>\n",
       "    <tr>\n",
       "      <th>25%</th>\n",
       "      <td>44.00</td>\n",
       "      <td>48842.00</td>\n",
       "      <td>10.00</td>\n",
       "      <td>26.00</td>\n",
       "      <td>64.00</td>\n",
       "      <td>34.00</td>\n",
       "      <td>2.00</td>\n",
       "      <td>19.00</td>\n",
       "      <td>2.00</td>\n",
       "      <td>2.00</td>\n",
       "      <td>27.00</td>\n",
       "      <td>1951.00</td>\n",
       "      <td>34.65</td>\n",
       "    </tr>\n",
       "    <tr>\n",
       "      <th>50%</th>\n",
       "      <td>58.00</td>\n",
       "      <td>70388.00</td>\n",
       "      <td>18.00</td>\n",
       "      <td>53.00</td>\n",
       "      <td>387.00</td>\n",
       "      <td>52.00</td>\n",
       "      <td>4.00</td>\n",
       "      <td>28.00</td>\n",
       "      <td>4.00</td>\n",
       "      <td>4.00</td>\n",
       "      <td>45.00</td>\n",
       "      <td>1966.00</td>\n",
       "      <td>140.00</td>\n",
       "    </tr>\n",
       "    <tr>\n",
       "      <th>75%</th>\n",
       "      <td>73.00</td>\n",
       "      <td>92413.00</td>\n",
       "      <td>28.00</td>\n",
       "      <td>78.00</td>\n",
       "      <td>1079.00</td>\n",
       "      <td>70.00</td>\n",
       "      <td>9.00</td>\n",
       "      <td>37.00</td>\n",
       "      <td>9.00</td>\n",
       "      <td>9.00</td>\n",
       "      <td>57.00</td>\n",
       "      <td>1980.00</td>\n",
       "      <td>265.10</td>\n",
       "    </tr>\n",
       "    <tr>\n",
       "      <th>max</th>\n",
       "      <td>88.00</td>\n",
       "      <td>140628.00</td>\n",
       "      <td>59.00</td>\n",
       "      <td>100.00</td>\n",
       "      <td>3052.00</td>\n",
       "      <td>99.00</td>\n",
       "      <td>40.00</td>\n",
       "      <td>74.00</td>\n",
       "      <td>35.00</td>\n",
       "      <td>50.00</td>\n",
       "      <td>88.00</td>\n",
       "      <td>1996.00</td>\n",
       "      <td>1416.24</td>\n",
       "    </tr>\n",
       "  </tbody>\n",
       "</table>\n",
       "</div>"
      ],
      "text/plain": [
       "           age     income      frq      rcn      mnt  clothes  kitchen  \\\n",
       "count  8817.00    8817.00  8817.00  8817.00  8817.00  8817.00  8817.00   \n",
       "mean     58.34   70534.39    19.99    52.22   630.16    51.18     6.78   \n",
       "std      17.08   27246.78    10.92    30.10   647.83    22.98     7.31   \n",
       "min      28.00   10000.00     3.00     0.00     6.00     1.00     0.00   \n",
       "25%      44.00   48842.00    10.00    26.00    64.00    34.00     2.00   \n",
       "50%      58.00   70388.00    18.00    53.00   387.00    52.00     4.00   \n",
       "75%      73.00   92413.00    28.00    78.00  1079.00    70.00     9.00   \n",
       "max      88.00  140628.00    59.00   100.00  3052.00    99.00    40.00   \n",
       "\n",
       "       small_appliances     toys  house_keeping  per_net_purchase  birth_year  \\\n",
       "count           8817.00  8817.00        8817.00           8817.00     8817.00   \n",
       "mean              28.67     6.58           6.76             42.24     1965.66   \n",
       "std               12.60     6.90           7.54             18.48       17.08   \n",
       "min                1.00     0.00           0.00              4.00     1936.00   \n",
       "25%               19.00     2.00           2.00             27.00     1951.00   \n",
       "50%               28.00     4.00           4.00             45.00     1966.00   \n",
       "75%               37.00     9.00           9.00             57.00     1980.00   \n",
       "max               74.00    35.00          50.00             88.00     1996.00   \n",
       "\n",
       "       spent_online  \n",
       "count       8817.00  \n",
       "mean         178.38  \n",
       "std          168.58  \n",
       "min            2.73  \n",
       "25%           34.65  \n",
       "50%          140.00  \n",
       "75%          265.10  \n",
       "max         1416.24  "
      ]
     },
     "execution_count": 34,
     "metadata": {},
     "output_type": "execute_result"
    }
   ],
   "source": [
    "# Remember our original data\n",
    "\n",
    "df.describe().round(2)"
   ]
  },
  {
   "cell_type": "markdown",
   "metadata": {
    "id": "ljRWLlWXOUOg"
   },
   "source": [
    "### **MinMax Scaling**\n",
    "\n",
    "Transforms values to be between [0,1]\n",
    "\n",
    "$$\n",
    "x' = \\frac{x - min(X)}{max(X) - min(X)}\n",
    "$$\n",
    "\n",
    "<br>\n",
    "<br>\n",
    "\n",
    "where:\n",
    "- $x$ is an original value\n",
    "- $x'$ is the normalized value\n",
    "\n",
    "https://scikit-learn.org/stable/modules/generated/sklearn.preprocessing.MinMaxScaler.html"
   ]
  },
  {
   "cell_type": "code",
   "execution_count": 35,
   "metadata": {
    "id": "ZGv_DMYuM57c"
   },
   "outputs": [
    {
     "data": {
      "application/vnd.microsoft.datawrangler.viewer.v0+json": {
       "columns": [
        {
         "name": "index",
         "rawType": "int64",
         "type": "integer"
        },
        {
         "name": "Age",
         "rawType": "int64",
         "type": "integer"
        }
       ],
       "ref": "45b61550-ad58-4bcf-b7f9-d86db1a3d7f2",
       "rows": [
        [
         "0",
         "14"
        ],
        [
         "1",
         "24"
        ],
        [
         "2",
         "22"
        ],
        [
         "3",
         "18"
        ],
        [
         "4",
         "18"
        ],
        [
         "5",
         "26"
        ],
        [
         "6",
         "11"
        ],
        [
         "7",
         "23"
        ],
        [
         "8",
         "13"
        ],
        [
         "9",
         "12"
        ]
       ],
       "shape": {
        "columns": 1,
        "rows": 10
       }
      },
      "text/html": [
       "<div>\n",
       "<style scoped>\n",
       "    .dataframe tbody tr th:only-of-type {\n",
       "        vertical-align: middle;\n",
       "    }\n",
       "\n",
       "    .dataframe tbody tr th {\n",
       "        vertical-align: top;\n",
       "    }\n",
       "\n",
       "    .dataframe thead th {\n",
       "        text-align: right;\n",
       "    }\n",
       "</style>\n",
       "<table border=\"1\" class=\"dataframe\">\n",
       "  <thead>\n",
       "    <tr style=\"text-align: right;\">\n",
       "      <th></th>\n",
       "      <th>Age</th>\n",
       "    </tr>\n",
       "  </thead>\n",
       "  <tbody>\n",
       "    <tr>\n",
       "      <th>0</th>\n",
       "      <td>14</td>\n",
       "    </tr>\n",
       "    <tr>\n",
       "      <th>1</th>\n",
       "      <td>24</td>\n",
       "    </tr>\n",
       "    <tr>\n",
       "      <th>2</th>\n",
       "      <td>22</td>\n",
       "    </tr>\n",
       "    <tr>\n",
       "      <th>3</th>\n",
       "      <td>18</td>\n",
       "    </tr>\n",
       "    <tr>\n",
       "      <th>4</th>\n",
       "      <td>18</td>\n",
       "    </tr>\n",
       "    <tr>\n",
       "      <th>5</th>\n",
       "      <td>26</td>\n",
       "    </tr>\n",
       "    <tr>\n",
       "      <th>6</th>\n",
       "      <td>11</td>\n",
       "    </tr>\n",
       "    <tr>\n",
       "      <th>7</th>\n",
       "      <td>23</td>\n",
       "    </tr>\n",
       "    <tr>\n",
       "      <th>8</th>\n",
       "      <td>13</td>\n",
       "    </tr>\n",
       "    <tr>\n",
       "      <th>9</th>\n",
       "      <td>12</td>\n",
       "    </tr>\n",
       "  </tbody>\n",
       "</table>\n",
       "</div>"
      ],
      "text/plain": [
       "   Age\n",
       "0   14\n",
       "1   24\n",
       "2   22\n",
       "3   18\n",
       "4   18\n",
       "5   26\n",
       "6   11\n",
       "7   23\n",
       "8   13\n",
       "9   12"
      ]
     },
     "execution_count": 35,
     "metadata": {},
     "output_type": "execute_result"
    }
   ],
   "source": [
    "## Let's look at an example:\n",
    "\n",
    "demo_ages = pd.DataFrame({\"Age\": [14, 24, 22, 18, 18, 26, 11, 23, 13, 12]})\n",
    "demo_ages"
   ]
  },
  {
   "cell_type": "code",
   "execution_count": 36,
   "metadata": {
    "id": "BqaegyH4OH6U"
   },
   "outputs": [
    {
     "data": {
      "application/vnd.microsoft.datawrangler.viewer.v0+json": {
       "columns": [
        {
         "name": "index",
         "rawType": "int64",
         "type": "integer"
        },
        {
         "name": "Age",
         "rawType": "int64",
         "type": "integer"
        }
       ],
       "ref": "e3af4189-a91b-4d27-b507-1fc87cff61e6",
       "rows": [
        [
         "0",
         "14"
        ],
        [
         "1",
         "24"
        ],
        [
         "2",
         "22"
        ],
        [
         "3",
         "18"
        ],
        [
         "4",
         "18"
        ],
        [
         "5",
         "26"
        ],
        [
         "6",
         "11"
        ],
        [
         "7",
         "23"
        ],
        [
         "8",
         "13"
        ],
        [
         "9",
         "12"
        ]
       ],
       "shape": {
        "columns": 1,
        "rows": 10
       }
      },
      "text/html": [
       "<div>\n",
       "<style scoped>\n",
       "    .dataframe tbody tr th:only-of-type {\n",
       "        vertical-align: middle;\n",
       "    }\n",
       "\n",
       "    .dataframe tbody tr th {\n",
       "        vertical-align: top;\n",
       "    }\n",
       "\n",
       "    .dataframe thead th {\n",
       "        text-align: right;\n",
       "    }\n",
       "</style>\n",
       "<table border=\"1\" class=\"dataframe\">\n",
       "  <thead>\n",
       "    <tr style=\"text-align: right;\">\n",
       "      <th></th>\n",
       "      <th>Age</th>\n",
       "    </tr>\n",
       "  </thead>\n",
       "  <tbody>\n",
       "    <tr>\n",
       "      <th>0</th>\n",
       "      <td>14</td>\n",
       "    </tr>\n",
       "    <tr>\n",
       "      <th>1</th>\n",
       "      <td>24</td>\n",
       "    </tr>\n",
       "    <tr>\n",
       "      <th>2</th>\n",
       "      <td>22</td>\n",
       "    </tr>\n",
       "    <tr>\n",
       "      <th>3</th>\n",
       "      <td>18</td>\n",
       "    </tr>\n",
       "    <tr>\n",
       "      <th>4</th>\n",
       "      <td>18</td>\n",
       "    </tr>\n",
       "    <tr>\n",
       "      <th>5</th>\n",
       "      <td>26</td>\n",
       "    </tr>\n",
       "    <tr>\n",
       "      <th>6</th>\n",
       "      <td>11</td>\n",
       "    </tr>\n",
       "    <tr>\n",
       "      <th>7</th>\n",
       "      <td>23</td>\n",
       "    </tr>\n",
       "    <tr>\n",
       "      <th>8</th>\n",
       "      <td>13</td>\n",
       "    </tr>\n",
       "    <tr>\n",
       "      <th>9</th>\n",
       "      <td>12</td>\n",
       "    </tr>\n",
       "  </tbody>\n",
       "</table>\n",
       "</div>"
      ],
      "text/plain": [
       "   Age\n",
       "0   14\n",
       "1   24\n",
       "2   22\n",
       "3   18\n",
       "4   18\n",
       "5   26\n",
       "6   11\n",
       "7   23\n",
       "8   13\n",
       "9   12"
      ]
     },
     "execution_count": 36,
     "metadata": {},
     "output_type": "execute_result"
    }
   ],
   "source": [
    "\n",
    "# How to do this with Python/Pandas?\n",
    "#  ( demo_ages - min(demo_ages) ) \n",
    "# --------------------------------- \n",
    "#  max(demo_ages) - min(demo_ages)\n",
    "\n",
    "demo_ages\n"
   ]
  },
  {
   "cell_type": "markdown",
   "metadata": {},
   "source": [
    "#### Exercise `1`: Scale the `age` column with MinMax "
   ]
  },
  {
   "cell_type": "code",
   "execution_count": 38,
   "metadata": {},
   "outputs": [
    {
     "data": {
      "application/vnd.microsoft.datawrangler.viewer.v0+json": {
       "columns": [
        {
         "name": "index",
         "rawType": "int64",
         "type": "integer"
        },
        {
         "name": "Age",
         "rawType": "float64",
         "type": "float"
        }
       ],
       "ref": "9e6ff658-1a30-4b94-bc63-ac8f7dbb7132",
       "rows": [
        [
         "0",
         "0.2"
        ],
        [
         "1",
         "0.8666666666666667"
        ],
        [
         "2",
         "0.7333333333333333"
        ],
        [
         "3",
         "0.4666666666666667"
        ],
        [
         "4",
         "0.4666666666666667"
        ],
        [
         "5",
         "1.0"
        ],
        [
         "6",
         "0.0"
        ],
        [
         "7",
         "0.8"
        ],
        [
         "8",
         "0.13333333333333333"
        ],
        [
         "9",
         "0.06666666666666667"
        ]
       ],
       "shape": {
        "columns": 1,
        "rows": 10
       }
      },
      "text/html": [
       "<div>\n",
       "<style scoped>\n",
       "    .dataframe tbody tr th:only-of-type {\n",
       "        vertical-align: middle;\n",
       "    }\n",
       "\n",
       "    .dataframe tbody tr th {\n",
       "        vertical-align: top;\n",
       "    }\n",
       "\n",
       "    .dataframe thead th {\n",
       "        text-align: right;\n",
       "    }\n",
       "</style>\n",
       "<table border=\"1\" class=\"dataframe\">\n",
       "  <thead>\n",
       "    <tr style=\"text-align: right;\">\n",
       "      <th></th>\n",
       "      <th>Age</th>\n",
       "    </tr>\n",
       "  </thead>\n",
       "  <tbody>\n",
       "    <tr>\n",
       "      <th>0</th>\n",
       "      <td>0.200000</td>\n",
       "    </tr>\n",
       "    <tr>\n",
       "      <th>1</th>\n",
       "      <td>0.866667</td>\n",
       "    </tr>\n",
       "    <tr>\n",
       "      <th>2</th>\n",
       "      <td>0.733333</td>\n",
       "    </tr>\n",
       "    <tr>\n",
       "      <th>3</th>\n",
       "      <td>0.466667</td>\n",
       "    </tr>\n",
       "    <tr>\n",
       "      <th>4</th>\n",
       "      <td>0.466667</td>\n",
       "    </tr>\n",
       "    <tr>\n",
       "      <th>5</th>\n",
       "      <td>1.000000</td>\n",
       "    </tr>\n",
       "    <tr>\n",
       "      <th>6</th>\n",
       "      <td>0.000000</td>\n",
       "    </tr>\n",
       "    <tr>\n",
       "      <th>7</th>\n",
       "      <td>0.800000</td>\n",
       "    </tr>\n",
       "    <tr>\n",
       "      <th>8</th>\n",
       "      <td>0.133333</td>\n",
       "    </tr>\n",
       "    <tr>\n",
       "      <th>9</th>\n",
       "      <td>0.066667</td>\n",
       "    </tr>\n",
       "  </tbody>\n",
       "</table>\n",
       "</div>"
      ],
      "text/plain": [
       "        Age\n",
       "0  0.200000\n",
       "1  0.866667\n",
       "2  0.733333\n",
       "3  0.466667\n",
       "4  0.466667\n",
       "5  1.000000\n",
       "6  0.000000\n",
       "7  0.800000\n",
       "8  0.133333\n",
       "9  0.066667"
      ]
     },
     "execution_count": 38,
     "metadata": {},
     "output_type": "execute_result"
    }
   ],
   "source": [
    "min_age = demo_ages[\"Age\"].min() # finish this line\n",
    "max_age = demo_ages[\"Age\"].max() # finish this line\n",
    "\n",
    "range_age = max_age - min_age\n",
    "\n",
    "mm_age = (demo_ages - min_age) / range_age # finish this line\n",
    "mm_age"
   ]
  },
  {
   "cell_type": "markdown",
   "metadata": {
    "id": "A7HQkHP-PtjW"
   },
   "source": [
    "(This is not showing all rows)\n",
    "\n",
    "\n",
    "Age (Orig) | Formula        | Result\n",
    "-----------|----------------|-------\n",
    "14         | (14 - 11) / 15 | 0.2\n",
    "24         | (24 - 11) / 15 | 0.86666667\n",
    "26         | (26 - 11) / 15 | 1\n",
    "11         | (11 - 11) / 15 | 0\n",
    "\n",
    "\n",
    "\n",
    "\n"
   ]
  },
  {
   "cell_type": "markdown",
   "metadata": {},
   "source": [
    "#### Exercise `2`: Use MinMaxScaler from sklearn.preprocessing"
   ]
  },
  {
   "cell_type": "code",
   "execution_count": 39,
   "metadata": {
    "id": "1qpW1aEnQ2BU"
   },
   "outputs": [
    {
     "data": {
      "application/vnd.microsoft.datawrangler.viewer.v0+json": {
       "columns": [
        {
         "name": "index",
         "rawType": "int64",
         "type": "integer"
        },
        {
         "name": "Age",
         "rawType": "int64",
         "type": "integer"
        },
        {
         "name": "Age_minmax",
         "rawType": "float64",
         "type": "float"
        }
       ],
       "ref": "c89f1b23-adcd-4894-b23c-f82889f1ba49",
       "rows": [
        [
         "0",
         "14",
         "0.20000000000000007"
        ],
        [
         "1",
         "24",
         "0.8666666666666668"
        ],
        [
         "2",
         "22",
         "0.7333333333333333"
        ],
        [
         "3",
         "18",
         "0.4666666666666667"
        ],
        [
         "4",
         "18",
         "0.4666666666666667"
        ],
        [
         "5",
         "26",
         "1.0"
        ],
        [
         "6",
         "11",
         "0.0"
        ],
        [
         "7",
         "23",
         "0.7999999999999999"
        ],
        [
         "8",
         "13",
         "0.13333333333333341"
        ],
        [
         "9",
         "12",
         "0.06666666666666676"
        ]
       ],
       "shape": {
        "columns": 2,
        "rows": 10
       }
      },
      "text/html": [
       "<div>\n",
       "<style scoped>\n",
       "    .dataframe tbody tr th:only-of-type {\n",
       "        vertical-align: middle;\n",
       "    }\n",
       "\n",
       "    .dataframe tbody tr th {\n",
       "        vertical-align: top;\n",
       "    }\n",
       "\n",
       "    .dataframe thead th {\n",
       "        text-align: right;\n",
       "    }\n",
       "</style>\n",
       "<table border=\"1\" class=\"dataframe\">\n",
       "  <thead>\n",
       "    <tr style=\"text-align: right;\">\n",
       "      <th></th>\n",
       "      <th>Age</th>\n",
       "      <th>Age_minmax</th>\n",
       "    </tr>\n",
       "  </thead>\n",
       "  <tbody>\n",
       "    <tr>\n",
       "      <th>0</th>\n",
       "      <td>14</td>\n",
       "      <td>0.200000</td>\n",
       "    </tr>\n",
       "    <tr>\n",
       "      <th>1</th>\n",
       "      <td>24</td>\n",
       "      <td>0.866667</td>\n",
       "    </tr>\n",
       "    <tr>\n",
       "      <th>2</th>\n",
       "      <td>22</td>\n",
       "      <td>0.733333</td>\n",
       "    </tr>\n",
       "    <tr>\n",
       "      <th>3</th>\n",
       "      <td>18</td>\n",
       "      <td>0.466667</td>\n",
       "    </tr>\n",
       "    <tr>\n",
       "      <th>4</th>\n",
       "      <td>18</td>\n",
       "      <td>0.466667</td>\n",
       "    </tr>\n",
       "    <tr>\n",
       "      <th>5</th>\n",
       "      <td>26</td>\n",
       "      <td>1.000000</td>\n",
       "    </tr>\n",
       "    <tr>\n",
       "      <th>6</th>\n",
       "      <td>11</td>\n",
       "      <td>0.000000</td>\n",
       "    </tr>\n",
       "    <tr>\n",
       "      <th>7</th>\n",
       "      <td>23</td>\n",
       "      <td>0.800000</td>\n",
       "    </tr>\n",
       "    <tr>\n",
       "      <th>8</th>\n",
       "      <td>13</td>\n",
       "      <td>0.133333</td>\n",
       "    </tr>\n",
       "    <tr>\n",
       "      <th>9</th>\n",
       "      <td>12</td>\n",
       "      <td>0.066667</td>\n",
       "    </tr>\n",
       "  </tbody>\n",
       "</table>\n",
       "</div>"
      ],
      "text/plain": [
       "   Age  Age_minmax\n",
       "0   14    0.200000\n",
       "1   24    0.866667\n",
       "2   22    0.733333\n",
       "3   18    0.466667\n",
       "4   18    0.466667\n",
       "5   26    1.000000\n",
       "6   11    0.000000\n",
       "7   23    0.800000\n",
       "8   13    0.133333\n",
       "9   12    0.066667"
      ]
     },
     "execution_count": 39,
     "metadata": {},
     "output_type": "execute_result"
    }
   ],
   "source": [
    "# sklearn makes it even easier:\n",
    "\n",
    "demo_ages[\"Age_minmax\"] = MinMaxScaler().fit_transform(demo_ages[[\"Age\"]])\n",
    "\n",
    "demo_ages"
   ]
  },
  {
   "cell_type": "markdown",
   "metadata": {},
   "source": [
    "#### Exercise `3`: Apply MinMaxScaler to the dataset"
   ]
  },
  {
   "cell_type": "code",
   "execution_count": 41,
   "metadata": {},
   "outputs": [],
   "source": [
    "df_minmax = df.copy()"
   ]
  },
  {
   "cell_type": "code",
   "execution_count": 42,
   "metadata": {},
   "outputs": [
    {
     "data": {
      "text/plain": [
       "array([[0.61841259, 0.53571429, 0.66      , ..., 0.06      , 0.17857143,\n",
       "        0.1865215 ],\n",
       "       [0.78867471, 0.51785714, 0.06      , ..., 0.04      , 0.05952381,\n",
       "        0.0959314 ],\n",
       "       [0.14042931, 0.14285714, 0.69      , ..., 0.48      , 0.6547619 ,\n",
       "        0.01643427],\n",
       "       ...,\n",
       "       [0.36838197, 0.16071429, 0.06      , ..., 0.12      , 0.79761905,\n",
       "        0.02870868],\n",
       "       [0.33906972, 0.46428571, 0.72      , ..., 0.22      , 0.32142857,\n",
       "        0.21979328],\n",
       "       [0.88772698, 0.625     , 0.75      , ..., 0.12      , 0.48809524,\n",
       "        0.52908717]])"
      ]
     },
     "execution_count": 42,
     "metadata": {},
     "output_type": "execute_result"
    }
   ],
   "source": [
    "# Use MinMaxScaler to scale the data\n",
    "mm_scaler = MinMaxScaler()\n",
    "mm_scaled_feat = mm_scaler.fit_transform(df_minmax[metric_features])\n",
    "mm_scaled_feat"
   ]
  },
  {
   "cell_type": "code",
   "execution_count": 43,
   "metadata": {},
   "outputs": [
    {
     "name": "stdout",
     "output_type": "stream",
     "text": [
      "Parameters fitted:\n",
      "\n"
     ]
    },
    {
     "data": {
      "application/vnd.microsoft.datawrangler.viewer.v0+json": {
       "columns": [
        {
         "name": "index",
         "rawType": "object",
         "type": "string"
        },
        {
         "name": "income",
         "rawType": "float64",
         "type": "float"
        },
        {
         "name": "frq",
         "rawType": "float64",
         "type": "float"
        },
        {
         "name": "rcn",
         "rawType": "float64",
         "type": "float"
        },
        {
         "name": "clothes",
         "rawType": "float64",
         "type": "float"
        },
        {
         "name": "kitchen",
         "rawType": "float64",
         "type": "float"
        },
        {
         "name": "small_appliances",
         "rawType": "float64",
         "type": "float"
        },
        {
         "name": "toys",
         "rawType": "float64",
         "type": "float"
        },
        {
         "name": "house_keeping",
         "rawType": "float64",
         "type": "float"
        },
        {
         "name": "per_net_purchase",
         "rawType": "float64",
         "type": "float"
        },
        {
         "name": "spent_online",
         "rawType": "float64",
         "type": "float"
        }
       ],
       "ref": "a0aa0cd0-b408-4092-9bb6-e2633f6f5663",
       "rows": [
        [
         "min",
         "10000.0",
         "3.0",
         "0.0",
         "1.0",
         "0.0",
         "1.0",
         "0.0",
         "0.0",
         "4.0",
         "2.73"
        ],
        [
         "max",
         "140628.0",
         "59.0",
         "100.0",
         "99.0",
         "40.0",
         "74.0",
         "35.0",
         "50.0",
         "88.0",
         "1416.24"
        ]
       ],
       "shape": {
        "columns": 10,
        "rows": 2
       }
      },
      "text/html": [
       "<div>\n",
       "<style scoped>\n",
       "    .dataframe tbody tr th:only-of-type {\n",
       "        vertical-align: middle;\n",
       "    }\n",
       "\n",
       "    .dataframe tbody tr th {\n",
       "        vertical-align: top;\n",
       "    }\n",
       "\n",
       "    .dataframe thead th {\n",
       "        text-align: right;\n",
       "    }\n",
       "</style>\n",
       "<table border=\"1\" class=\"dataframe\">\n",
       "  <thead>\n",
       "    <tr style=\"text-align: right;\">\n",
       "      <th></th>\n",
       "      <th>income</th>\n",
       "      <th>frq</th>\n",
       "      <th>rcn</th>\n",
       "      <th>clothes</th>\n",
       "      <th>kitchen</th>\n",
       "      <th>small_appliances</th>\n",
       "      <th>toys</th>\n",
       "      <th>house_keeping</th>\n",
       "      <th>per_net_purchase</th>\n",
       "      <th>spent_online</th>\n",
       "    </tr>\n",
       "  </thead>\n",
       "  <tbody>\n",
       "    <tr>\n",
       "      <th>min</th>\n",
       "      <td>10000.0</td>\n",
       "      <td>3.0</td>\n",
       "      <td>0.0</td>\n",
       "      <td>1.0</td>\n",
       "      <td>0.0</td>\n",
       "      <td>1.0</td>\n",
       "      <td>0.0</td>\n",
       "      <td>0.0</td>\n",
       "      <td>4.0</td>\n",
       "      <td>2.73</td>\n",
       "    </tr>\n",
       "    <tr>\n",
       "      <th>max</th>\n",
       "      <td>140628.0</td>\n",
       "      <td>59.0</td>\n",
       "      <td>100.0</td>\n",
       "      <td>99.0</td>\n",
       "      <td>40.0</td>\n",
       "      <td>74.0</td>\n",
       "      <td>35.0</td>\n",
       "      <td>50.0</td>\n",
       "      <td>88.0</td>\n",
       "      <td>1416.24</td>\n",
       "    </tr>\n",
       "  </tbody>\n",
       "</table>\n",
       "</div>"
      ],
      "text/plain": [
       "       income   frq    rcn  clothes  kitchen  small_appliances  toys  \\\n",
       "min   10000.0   3.0    0.0      1.0      0.0               1.0   0.0   \n",
       "max  140628.0  59.0  100.0     99.0     40.0              74.0  35.0   \n",
       "\n",
       "     house_keeping  per_net_purchase  spent_online  \n",
       "min            0.0               4.0          2.73  \n",
       "max           50.0              88.0       1416.24  "
      ]
     },
     "execution_count": 43,
     "metadata": {},
     "output_type": "execute_result"
    }
   ],
   "source": [
    "# See what the fit method is doing (notice the trailing underscore):\n",
    "print(\"Parameters fitted:\\n\")\n",
    "pd.DataFrame([mm_scaler.data_min_, mm_scaler.data_max_], columns=metric_features, index=['min','max'])"
   ]
  },
  {
   "cell_type": "code",
   "execution_count": 44,
   "metadata": {},
   "outputs": [],
   "source": [
    "## Replace original metric_features values with mm_scaled_feat values\n",
    "df_minmax[metric_features] = mm_scaled_feat"
   ]
  },
  {
   "cell_type": "code",
   "execution_count": 45,
   "metadata": {},
   "outputs": [
    {
     "data": {
      "application/vnd.microsoft.datawrangler.viewer.v0+json": {
       "columns": [
        {
         "name": "index",
         "rawType": "object",
         "type": "string"
        },
        {
         "name": "count",
         "rawType": "float64",
         "type": "float"
        },
        {
         "name": "mean",
         "rawType": "float64",
         "type": "float"
        },
        {
         "name": "std",
         "rawType": "float64",
         "type": "float"
        },
        {
         "name": "min",
         "rawType": "float64",
         "type": "float"
        },
        {
         "name": "25%",
         "rawType": "float64",
         "type": "float"
        },
        {
         "name": "50%",
         "rawType": "float64",
         "type": "float"
        },
        {
         "name": "75%",
         "rawType": "float64",
         "type": "float"
        },
        {
         "name": "max",
         "rawType": "float64",
         "type": "float"
        }
       ],
       "ref": "1873c904-dc1c-4acc-bc95-190e34044ce0",
       "rows": [
        [
         "income",
         "8817.0",
         "0.46",
         "0.21",
         "0.0",
         "0.3",
         "0.46",
         "0.63",
         "1.0"
        ],
        [
         "frq",
         "8817.0",
         "0.3",
         "0.19",
         "0.0",
         "0.12",
         "0.27",
         "0.45",
         "1.0"
        ],
        [
         "rcn",
         "8817.0",
         "0.52",
         "0.3",
         "0.0",
         "0.26",
         "0.53",
         "0.78",
         "1.0"
        ],
        [
         "clothes",
         "8817.0",
         "0.51",
         "0.23",
         "0.0",
         "0.34",
         "0.52",
         "0.7",
         "1.0"
        ],
        [
         "kitchen",
         "8817.0",
         "0.17",
         "0.18",
         "0.0",
         "0.05",
         "0.1",
         "0.22",
         "1.0"
        ],
        [
         "small_appliances",
         "8817.0",
         "0.38",
         "0.17",
         "0.0",
         "0.25",
         "0.37",
         "0.49",
         "1.0"
        ],
        [
         "toys",
         "8817.0",
         "0.19",
         "0.2",
         "0.0",
         "0.06",
         "0.11",
         "0.26",
         "1.0"
        ],
        [
         "house_keeping",
         "8817.0",
         "0.14",
         "0.15",
         "0.0",
         "0.04",
         "0.08",
         "0.18",
         "1.0"
        ],
        [
         "per_net_purchase",
         "8817.0",
         "0.46",
         "0.22",
         "0.0",
         "0.27",
         "0.49",
         "0.63",
         "1.0"
        ],
        [
         "spent_online",
         "8817.0",
         "0.12",
         "0.12",
         "0.0",
         "0.02",
         "0.1",
         "0.19",
         "1.0"
        ]
       ],
       "shape": {
        "columns": 8,
        "rows": 10
       }
      },
      "text/html": [
       "<div>\n",
       "<style scoped>\n",
       "    .dataframe tbody tr th:only-of-type {\n",
       "        vertical-align: middle;\n",
       "    }\n",
       "\n",
       "    .dataframe tbody tr th {\n",
       "        vertical-align: top;\n",
       "    }\n",
       "\n",
       "    .dataframe thead th {\n",
       "        text-align: right;\n",
       "    }\n",
       "</style>\n",
       "<table border=\"1\" class=\"dataframe\">\n",
       "  <thead>\n",
       "    <tr style=\"text-align: right;\">\n",
       "      <th></th>\n",
       "      <th>count</th>\n",
       "      <th>mean</th>\n",
       "      <th>std</th>\n",
       "      <th>min</th>\n",
       "      <th>25%</th>\n",
       "      <th>50%</th>\n",
       "      <th>75%</th>\n",
       "      <th>max</th>\n",
       "    </tr>\n",
       "  </thead>\n",
       "  <tbody>\n",
       "    <tr>\n",
       "      <th>income</th>\n",
       "      <td>8817.0</td>\n",
       "      <td>0.46</td>\n",
       "      <td>0.21</td>\n",
       "      <td>0.0</td>\n",
       "      <td>0.30</td>\n",
       "      <td>0.46</td>\n",
       "      <td>0.63</td>\n",
       "      <td>1.0</td>\n",
       "    </tr>\n",
       "    <tr>\n",
       "      <th>frq</th>\n",
       "      <td>8817.0</td>\n",
       "      <td>0.30</td>\n",
       "      <td>0.19</td>\n",
       "      <td>0.0</td>\n",
       "      <td>0.12</td>\n",
       "      <td>0.27</td>\n",
       "      <td>0.45</td>\n",
       "      <td>1.0</td>\n",
       "    </tr>\n",
       "    <tr>\n",
       "      <th>rcn</th>\n",
       "      <td>8817.0</td>\n",
       "      <td>0.52</td>\n",
       "      <td>0.30</td>\n",
       "      <td>0.0</td>\n",
       "      <td>0.26</td>\n",
       "      <td>0.53</td>\n",
       "      <td>0.78</td>\n",
       "      <td>1.0</td>\n",
       "    </tr>\n",
       "    <tr>\n",
       "      <th>clothes</th>\n",
       "      <td>8817.0</td>\n",
       "      <td>0.51</td>\n",
       "      <td>0.23</td>\n",
       "      <td>0.0</td>\n",
       "      <td>0.34</td>\n",
       "      <td>0.52</td>\n",
       "      <td>0.70</td>\n",
       "      <td>1.0</td>\n",
       "    </tr>\n",
       "    <tr>\n",
       "      <th>kitchen</th>\n",
       "      <td>8817.0</td>\n",
       "      <td>0.17</td>\n",
       "      <td>0.18</td>\n",
       "      <td>0.0</td>\n",
       "      <td>0.05</td>\n",
       "      <td>0.10</td>\n",
       "      <td>0.22</td>\n",
       "      <td>1.0</td>\n",
       "    </tr>\n",
       "    <tr>\n",
       "      <th>small_appliances</th>\n",
       "      <td>8817.0</td>\n",
       "      <td>0.38</td>\n",
       "      <td>0.17</td>\n",
       "      <td>0.0</td>\n",
       "      <td>0.25</td>\n",
       "      <td>0.37</td>\n",
       "      <td>0.49</td>\n",
       "      <td>1.0</td>\n",
       "    </tr>\n",
       "    <tr>\n",
       "      <th>toys</th>\n",
       "      <td>8817.0</td>\n",
       "      <td>0.19</td>\n",
       "      <td>0.20</td>\n",
       "      <td>0.0</td>\n",
       "      <td>0.06</td>\n",
       "      <td>0.11</td>\n",
       "      <td>0.26</td>\n",
       "      <td>1.0</td>\n",
       "    </tr>\n",
       "    <tr>\n",
       "      <th>house_keeping</th>\n",
       "      <td>8817.0</td>\n",
       "      <td>0.14</td>\n",
       "      <td>0.15</td>\n",
       "      <td>0.0</td>\n",
       "      <td>0.04</td>\n",
       "      <td>0.08</td>\n",
       "      <td>0.18</td>\n",
       "      <td>1.0</td>\n",
       "    </tr>\n",
       "    <tr>\n",
       "      <th>per_net_purchase</th>\n",
       "      <td>8817.0</td>\n",
       "      <td>0.46</td>\n",
       "      <td>0.22</td>\n",
       "      <td>0.0</td>\n",
       "      <td>0.27</td>\n",
       "      <td>0.49</td>\n",
       "      <td>0.63</td>\n",
       "      <td>1.0</td>\n",
       "    </tr>\n",
       "    <tr>\n",
       "      <th>spent_online</th>\n",
       "      <td>8817.0</td>\n",
       "      <td>0.12</td>\n",
       "      <td>0.12</td>\n",
       "      <td>0.0</td>\n",
       "      <td>0.02</td>\n",
       "      <td>0.10</td>\n",
       "      <td>0.19</td>\n",
       "      <td>1.0</td>\n",
       "    </tr>\n",
       "  </tbody>\n",
       "</table>\n",
       "</div>"
      ],
      "text/plain": [
       "                   count  mean   std  min   25%   50%   75%  max\n",
       "income            8817.0  0.46  0.21  0.0  0.30  0.46  0.63  1.0\n",
       "frq               8817.0  0.30  0.19  0.0  0.12  0.27  0.45  1.0\n",
       "rcn               8817.0  0.52  0.30  0.0  0.26  0.53  0.78  1.0\n",
       "clothes           8817.0  0.51  0.23  0.0  0.34  0.52  0.70  1.0\n",
       "kitchen           8817.0  0.17  0.18  0.0  0.05  0.10  0.22  1.0\n",
       "small_appliances  8817.0  0.38  0.17  0.0  0.25  0.37  0.49  1.0\n",
       "toys              8817.0  0.19  0.20  0.0  0.06  0.11  0.26  1.0\n",
       "house_keeping     8817.0  0.14  0.15  0.0  0.04  0.08  0.18  1.0\n",
       "per_net_purchase  8817.0  0.46  0.22  0.0  0.27  0.49  0.63  1.0\n",
       "spent_online      8817.0  0.12  0.12  0.0  0.02  0.10  0.19  1.0"
      ]
     },
     "execution_count": 45,
     "metadata": {},
     "output_type": "execute_result"
    }
   ],
   "source": [
    "# Checking max and min of minmaxed variables\n",
    "df_minmax[metric_features].describe().T.round(2)"
   ]
  },
  {
   "cell_type": "code",
   "execution_count": 46,
   "metadata": {},
   "outputs": [
    {
     "data": {
      "application/vnd.microsoft.datawrangler.viewer.v0+json": {
       "columns": [
        {
         "name": "index",
         "rawType": "int64",
         "type": "integer"
        },
        {
         "name": "income",
         "rawType": "float64",
         "type": "float"
        },
        {
         "name": "frq",
         "rawType": "float64",
         "type": "float"
        },
        {
         "name": "rcn",
         "rawType": "float64",
         "type": "float"
        },
        {
         "name": "clothes",
         "rawType": "float64",
         "type": "float"
        },
        {
         "name": "kitchen",
         "rawType": "float64",
         "type": "float"
        },
        {
         "name": "small_appliances",
         "rawType": "float64",
         "type": "float"
        },
        {
         "name": "toys",
         "rawType": "float64",
         "type": "float"
        },
        {
         "name": "house_keeping",
         "rawType": "float64",
         "type": "float"
        },
        {
         "name": "per_net_purchase",
         "rawType": "float64",
         "type": "float"
        },
        {
         "name": "spent_online",
         "rawType": "float64",
         "type": "float"
        }
       ],
       "ref": "b3cef922-8ee2-4ad2-b318-cc8007081909",
       "rows": [
        [
         "0",
         "0.6184125914811526",
         "0.5357142857142857",
         "0.66",
         "0.36734693877551017",
         "0.125",
         "0.5890410958904109",
         "0.2857142857142857",
         "0.06",
         "0.17857142857142855",
         "0.18652149613373797"
        ],
        [
         "1",
         "0.7886747098631227",
         "0.5178571428571428",
         "0.06",
         "0.5510204081632653",
         "0.025",
         "0.5068493150684932",
         "0.11428571428571428",
         "0.04",
         "0.05952380952380952",
         "0.095931404800815"
        ],
        [
         "2",
         "0.14042931071439507",
         "0.14285714285714285",
         "0.6900000000000001",
         "0.31632653061224486",
         "0.47500000000000003",
         "0.3150684931506849",
         "0.02857142857142857",
         "0.48",
         "0.6547619047619047",
         "0.016434266471408058"
        ],
        [
         "3",
         "0.6397632973022629",
         "0.4107142857142857",
         "0.1",
         "0.6020408163265305",
         "0.25",
         "0.2465753424657534",
         "0.17142857142857143",
         "0.1",
         "0.369047619047619",
         "0.21794681325211707"
        ],
        [
         "4",
         "0.6266037909177206",
         "0.49999999999999994",
         "0.26",
         "0.5918367346938775",
         "0.125",
         "0.3698630136986301",
         "0.11428571428571428",
         "0.08",
         "0.35714285714285715",
         "0.2717985723482678"
        ]
       ],
       "shape": {
        "columns": 10,
        "rows": 5
       }
      },
      "text/html": [
       "<div>\n",
       "<style scoped>\n",
       "    .dataframe tbody tr th:only-of-type {\n",
       "        vertical-align: middle;\n",
       "    }\n",
       "\n",
       "    .dataframe tbody tr th {\n",
       "        vertical-align: top;\n",
       "    }\n",
       "\n",
       "    .dataframe thead th {\n",
       "        text-align: right;\n",
       "    }\n",
       "</style>\n",
       "<table border=\"1\" class=\"dataframe\">\n",
       "  <thead>\n",
       "    <tr style=\"text-align: right;\">\n",
       "      <th></th>\n",
       "      <th>income</th>\n",
       "      <th>frq</th>\n",
       "      <th>rcn</th>\n",
       "      <th>clothes</th>\n",
       "      <th>kitchen</th>\n",
       "      <th>small_appliances</th>\n",
       "      <th>toys</th>\n",
       "      <th>house_keeping</th>\n",
       "      <th>per_net_purchase</th>\n",
       "      <th>spent_online</th>\n",
       "    </tr>\n",
       "  </thead>\n",
       "  <tbody>\n",
       "    <tr>\n",
       "      <th>0</th>\n",
       "      <td>0.618413</td>\n",
       "      <td>0.535714</td>\n",
       "      <td>0.66</td>\n",
       "      <td>0.367347</td>\n",
       "      <td>0.125</td>\n",
       "      <td>0.589041</td>\n",
       "      <td>0.285714</td>\n",
       "      <td>0.06</td>\n",
       "      <td>0.178571</td>\n",
       "      <td>0.186521</td>\n",
       "    </tr>\n",
       "    <tr>\n",
       "      <th>1</th>\n",
       "      <td>0.788675</td>\n",
       "      <td>0.517857</td>\n",
       "      <td>0.06</td>\n",
       "      <td>0.551020</td>\n",
       "      <td>0.025</td>\n",
       "      <td>0.506849</td>\n",
       "      <td>0.114286</td>\n",
       "      <td>0.04</td>\n",
       "      <td>0.059524</td>\n",
       "      <td>0.095931</td>\n",
       "    </tr>\n",
       "    <tr>\n",
       "      <th>2</th>\n",
       "      <td>0.140429</td>\n",
       "      <td>0.142857</td>\n",
       "      <td>0.69</td>\n",
       "      <td>0.316327</td>\n",
       "      <td>0.475</td>\n",
       "      <td>0.315068</td>\n",
       "      <td>0.028571</td>\n",
       "      <td>0.48</td>\n",
       "      <td>0.654762</td>\n",
       "      <td>0.016434</td>\n",
       "    </tr>\n",
       "    <tr>\n",
       "      <th>3</th>\n",
       "      <td>0.639763</td>\n",
       "      <td>0.410714</td>\n",
       "      <td>0.10</td>\n",
       "      <td>0.602041</td>\n",
       "      <td>0.250</td>\n",
       "      <td>0.246575</td>\n",
       "      <td>0.171429</td>\n",
       "      <td>0.10</td>\n",
       "      <td>0.369048</td>\n",
       "      <td>0.217947</td>\n",
       "    </tr>\n",
       "    <tr>\n",
       "      <th>4</th>\n",
       "      <td>0.626604</td>\n",
       "      <td>0.500000</td>\n",
       "      <td>0.26</td>\n",
       "      <td>0.591837</td>\n",
       "      <td>0.125</td>\n",
       "      <td>0.369863</td>\n",
       "      <td>0.114286</td>\n",
       "      <td>0.08</td>\n",
       "      <td>0.357143</td>\n",
       "      <td>0.271799</td>\n",
       "    </tr>\n",
       "  </tbody>\n",
       "</table>\n",
       "</div>"
      ],
      "text/plain": [
       "     income       frq   rcn   clothes  kitchen  small_appliances      toys  \\\n",
       "0  0.618413  0.535714  0.66  0.367347    0.125          0.589041  0.285714   \n",
       "1  0.788675  0.517857  0.06  0.551020    0.025          0.506849  0.114286   \n",
       "2  0.140429  0.142857  0.69  0.316327    0.475          0.315068  0.028571   \n",
       "3  0.639763  0.410714  0.10  0.602041    0.250          0.246575  0.171429   \n",
       "4  0.626604  0.500000  0.26  0.591837    0.125          0.369863  0.114286   \n",
       "\n",
       "   house_keeping  per_net_purchase  spent_online  \n",
       "0           0.06          0.178571      0.186521  \n",
       "1           0.04          0.059524      0.095931  \n",
       "2           0.48          0.654762      0.016434  \n",
       "3           0.10          0.369048      0.217947  \n",
       "4           0.08          0.357143      0.271799  "
      ]
     },
     "execution_count": 46,
     "metadata": {},
     "output_type": "execute_result"
    }
   ],
   "source": [
    "df_minmax[metric_features].head()"
   ]
  },
  {
   "cell_type": "code",
   "execution_count": 90,
   "metadata": {},
   "outputs": [
    {
     "data": {
      "application/vnd.microsoft.datawrangler.viewer.v0+json": {
       "columns": [
        {
         "name": "index",
         "rawType": "int64",
         "type": "integer"
        },
        {
         "name": "income",
         "rawType": "float64",
         "type": "float"
        },
        {
         "name": "frq",
         "rawType": "int64",
         "type": "integer"
        },
        {
         "name": "rcn",
         "rawType": "int64",
         "type": "integer"
        },
        {
         "name": "clothes",
         "rawType": "int64",
         "type": "integer"
        },
        {
         "name": "kitchen",
         "rawType": "int64",
         "type": "integer"
        },
        {
         "name": "small_appliances",
         "rawType": "int64",
         "type": "integer"
        },
        {
         "name": "toys",
         "rawType": "int64",
         "type": "integer"
        },
        {
         "name": "house_keeping",
         "rawType": "int64",
         "type": "integer"
        },
        {
         "name": "per_net_purchase",
         "rawType": "int64",
         "type": "integer"
        },
        {
         "name": "spent_online",
         "rawType": "float64",
         "type": "float"
        }
       ],
       "ref": "8fc28f81-954b-4093-a7d6-884b25693a59",
       "rows": [
        [
         "0",
         "90782.0",
         "33",
         "66",
         "37",
         "5",
         "44",
         "10",
         "3",
         "19",
         "266.38"
        ],
        [
         "1",
         "113023.0",
         "32",
         "6",
         "55",
         "1",
         "38",
         "4",
         "2",
         "9",
         "138.33"
        ],
        [
         "2",
         "28344.0",
         "11",
         "69",
         "32",
         "19",
         "24",
         "1",
         "24",
         "59",
         "25.96"
        ],
        [
         "3",
         "93571.0",
         "26",
         "10",
         "60",
         "10",
         "19",
         "6",
         "5",
         "35",
         "310.8"
        ],
        [
         "4",
         "91852.0",
         "31",
         "26",
         "59",
         "5",
         "28",
         "4",
         "4",
         "34",
         "386.92"
        ]
       ],
       "shape": {
        "columns": 10,
        "rows": 5
       }
      },
      "text/html": [
       "<div>\n",
       "<style scoped>\n",
       "    .dataframe tbody tr th:only-of-type {\n",
       "        vertical-align: middle;\n",
       "    }\n",
       "\n",
       "    .dataframe tbody tr th {\n",
       "        vertical-align: top;\n",
       "    }\n",
       "\n",
       "    .dataframe thead th {\n",
       "        text-align: right;\n",
       "    }\n",
       "</style>\n",
       "<table border=\"1\" class=\"dataframe\">\n",
       "  <thead>\n",
       "    <tr style=\"text-align: right;\">\n",
       "      <th></th>\n",
       "      <th>income</th>\n",
       "      <th>frq</th>\n",
       "      <th>rcn</th>\n",
       "      <th>clothes</th>\n",
       "      <th>kitchen</th>\n",
       "      <th>small_appliances</th>\n",
       "      <th>toys</th>\n",
       "      <th>house_keeping</th>\n",
       "      <th>per_net_purchase</th>\n",
       "      <th>spent_online</th>\n",
       "    </tr>\n",
       "  </thead>\n",
       "  <tbody>\n",
       "    <tr>\n",
       "      <th>0</th>\n",
       "      <td>90782.0</td>\n",
       "      <td>33</td>\n",
       "      <td>66</td>\n",
       "      <td>37</td>\n",
       "      <td>5</td>\n",
       "      <td>44</td>\n",
       "      <td>10</td>\n",
       "      <td>3</td>\n",
       "      <td>19</td>\n",
       "      <td>266.38</td>\n",
       "    </tr>\n",
       "    <tr>\n",
       "      <th>1</th>\n",
       "      <td>113023.0</td>\n",
       "      <td>32</td>\n",
       "      <td>6</td>\n",
       "      <td>55</td>\n",
       "      <td>1</td>\n",
       "      <td>38</td>\n",
       "      <td>4</td>\n",
       "      <td>2</td>\n",
       "      <td>9</td>\n",
       "      <td>138.33</td>\n",
       "    </tr>\n",
       "    <tr>\n",
       "      <th>2</th>\n",
       "      <td>28344.0</td>\n",
       "      <td>11</td>\n",
       "      <td>69</td>\n",
       "      <td>32</td>\n",
       "      <td>19</td>\n",
       "      <td>24</td>\n",
       "      <td>1</td>\n",
       "      <td>24</td>\n",
       "      <td>59</td>\n",
       "      <td>25.96</td>\n",
       "    </tr>\n",
       "    <tr>\n",
       "      <th>3</th>\n",
       "      <td>93571.0</td>\n",
       "      <td>26</td>\n",
       "      <td>10</td>\n",
       "      <td>60</td>\n",
       "      <td>10</td>\n",
       "      <td>19</td>\n",
       "      <td>6</td>\n",
       "      <td>5</td>\n",
       "      <td>35</td>\n",
       "      <td>310.80</td>\n",
       "    </tr>\n",
       "    <tr>\n",
       "      <th>4</th>\n",
       "      <td>91852.0</td>\n",
       "      <td>31</td>\n",
       "      <td>26</td>\n",
       "      <td>59</td>\n",
       "      <td>5</td>\n",
       "      <td>28</td>\n",
       "      <td>4</td>\n",
       "      <td>4</td>\n",
       "      <td>34</td>\n",
       "      <td>386.92</td>\n",
       "    </tr>\n",
       "  </tbody>\n",
       "</table>\n",
       "</div>"
      ],
      "text/plain": [
       "     income  frq  rcn  clothes  kitchen  small_appliances  toys  \\\n",
       "0   90782.0   33   66       37        5                44    10   \n",
       "1  113023.0   32    6       55        1                38     4   \n",
       "2   28344.0   11   69       32       19                24     1   \n",
       "3   93571.0   26   10       60       10                19     6   \n",
       "4   91852.0   31   26       59        5                28     4   \n",
       "\n",
       "   house_keeping  per_net_purchase  spent_online  \n",
       "0              3                19        266.38  \n",
       "1              2                 9        138.33  \n",
       "2             24                59         25.96  \n",
       "3              5                35        310.80  \n",
       "4              4                34        386.92  "
      ]
     },
     "execution_count": 90,
     "metadata": {},
     "output_type": "execute_result"
    }
   ],
   "source": [
    "df[metric_features].head()"
   ]
  },
  {
   "cell_type": "markdown",
   "metadata": {
    "id": "46jI-WiEOW1s"
   },
   "source": [
    "### **Standard Scaling**\n",
    "\n",
    "AKA Z-Score Scaling\n",
    "\n",
    "Standardize features by removing the mean and scaling to unit variance.\n",
    "\n",
    "The standard score of a sample x is calculated as:\n",
    "\n",
    "$$\n",
    "z = \\frac{x - \\mu}{\\sigma}\n",
    "$$\n",
    "\n",
    "where:\n",
    "\n",
    "- $u$ is the mean of the training samples,\n",
    "- $\\sigma$ is the standard deviation of the training samples\n",
    "\n",
    "The standard deviation $\\sigma$ is given by:\n",
    "\n",
    "$$\n",
    "\\sigma = \\sqrt{\\frac{\\sum_{i=1}^{N} (x_i - \\bar{x})^2}{N - \\text{ddof}}}\n",
    "$$\n",
    "\n",
    "where:\n",
    "\n",
    "- $x_i$ = each data point  \n",
    "- $\\bar{x}$ = mean of the data  \n",
    "- $N$ = number of observations  \n",
    "- $\\text{ddof}$ = delta degrees of freedom  \n",
    "    - ddof = 0 in population \n",
    "    - ddof = 1 in sample\n",
    "\n",
    "https://scikit-learn.org/stable/modules/generated/sklearn.preprocessing.StandardScaler.html"
   ]
  },
  {
   "cell_type": "markdown",
   "metadata": {},
   "source": [
    "#### `Intuition exercise`\n",
    "\n",
    "If a original feature had:\n",
    "\n",
    "- Mean (𝜇) = 40\n",
    "- Standard deviation (𝜎) = 10\n",
    "\n",
    "Your data was [30, 40, 50]\n",
    "\n",
    "What will be the values scaled with z-score ? "
   ]
  },
  {
   "cell_type": "code",
   "execution_count": 47,
   "metadata": {
    "id": "weILbQL5SGIF"
   },
   "outputs": [
    {
     "data": {
      "application/vnd.microsoft.datawrangler.viewer.v0+json": {
       "columns": [
        {
         "name": "index",
         "rawType": "int64",
         "type": "integer"
        },
        {
         "name": "Age",
         "rawType": "int64",
         "type": "integer"
        },
        {
         "name": "Age_minmax",
         "rawType": "float64",
         "type": "float"
        }
       ],
       "ref": "b500f828-3e77-4fad-bbce-e1d227e526ab",
       "rows": [
        [
         "0",
         "14",
         "0.20000000000000007"
        ],
        [
         "1",
         "24",
         "0.8666666666666668"
        ],
        [
         "2",
         "22",
         "0.7333333333333333"
        ],
        [
         "3",
         "18",
         "0.4666666666666667"
        ],
        [
         "4",
         "18",
         "0.4666666666666667"
        ],
        [
         "5",
         "26",
         "1.0"
        ],
        [
         "6",
         "11",
         "0.0"
        ],
        [
         "7",
         "23",
         "0.7999999999999999"
        ],
        [
         "8",
         "13",
         "0.13333333333333341"
        ],
        [
         "9",
         "12",
         "0.06666666666666676"
        ]
       ],
       "shape": {
        "columns": 2,
        "rows": 10
       }
      },
      "text/html": [
       "<div>\n",
       "<style scoped>\n",
       "    .dataframe tbody tr th:only-of-type {\n",
       "        vertical-align: middle;\n",
       "    }\n",
       "\n",
       "    .dataframe tbody tr th {\n",
       "        vertical-align: top;\n",
       "    }\n",
       "\n",
       "    .dataframe thead th {\n",
       "        text-align: right;\n",
       "    }\n",
       "</style>\n",
       "<table border=\"1\" class=\"dataframe\">\n",
       "  <thead>\n",
       "    <tr style=\"text-align: right;\">\n",
       "      <th></th>\n",
       "      <th>Age</th>\n",
       "      <th>Age_minmax</th>\n",
       "    </tr>\n",
       "  </thead>\n",
       "  <tbody>\n",
       "    <tr>\n",
       "      <th>0</th>\n",
       "      <td>14</td>\n",
       "      <td>0.200000</td>\n",
       "    </tr>\n",
       "    <tr>\n",
       "      <th>1</th>\n",
       "      <td>24</td>\n",
       "      <td>0.866667</td>\n",
       "    </tr>\n",
       "    <tr>\n",
       "      <th>2</th>\n",
       "      <td>22</td>\n",
       "      <td>0.733333</td>\n",
       "    </tr>\n",
       "    <tr>\n",
       "      <th>3</th>\n",
       "      <td>18</td>\n",
       "      <td>0.466667</td>\n",
       "    </tr>\n",
       "    <tr>\n",
       "      <th>4</th>\n",
       "      <td>18</td>\n",
       "      <td>0.466667</td>\n",
       "    </tr>\n",
       "    <tr>\n",
       "      <th>5</th>\n",
       "      <td>26</td>\n",
       "      <td>1.000000</td>\n",
       "    </tr>\n",
       "    <tr>\n",
       "      <th>6</th>\n",
       "      <td>11</td>\n",
       "      <td>0.000000</td>\n",
       "    </tr>\n",
       "    <tr>\n",
       "      <th>7</th>\n",
       "      <td>23</td>\n",
       "      <td>0.800000</td>\n",
       "    </tr>\n",
       "    <tr>\n",
       "      <th>8</th>\n",
       "      <td>13</td>\n",
       "      <td>0.133333</td>\n",
       "    </tr>\n",
       "    <tr>\n",
       "      <th>9</th>\n",
       "      <td>12</td>\n",
       "      <td>0.066667</td>\n",
       "    </tr>\n",
       "  </tbody>\n",
       "</table>\n",
       "</div>"
      ],
      "text/plain": [
       "   Age  Age_minmax\n",
       "0   14    0.200000\n",
       "1   24    0.866667\n",
       "2   22    0.733333\n",
       "3   18    0.466667\n",
       "4   18    0.466667\n",
       "5   26    1.000000\n",
       "6   11    0.000000\n",
       "7   23    0.800000\n",
       "8   13    0.133333\n",
       "9   12    0.066667"
      ]
     },
     "execution_count": 47,
     "metadata": {},
     "output_type": "execute_result"
    }
   ],
   "source": [
    "## Let's see the age demo again\n",
    "\n",
    "demo_ages\n"
   ]
  },
  {
   "cell_type": "code",
   "execution_count": 48,
   "metadata": {},
   "outputs": [],
   "source": [
    "## u = mean of age\n",
    "## s = std of age\n",
    "\n",
    "# How to do this in Python/Pandas?\n",
    "# ( demo_ages - mean(demo_ages) )\n",
    "# -------------------------------\n",
    "#        std(demo_ages)"
   ]
  },
  {
   "cell_type": "code",
   "execution_count": 49,
   "metadata": {
    "id": "fr7B4yY8STxp"
   },
   "outputs": [],
   "source": [
    "## u = mean of age\n",
    "## s = std of age\n",
    "\n",
    "mean_age = demo_ages[\"Age\"].mean()\n",
    "std_age  = demo_ages[\"Age\"].std(ddof = 0) # to match sklearn implementation of std\n"
   ]
  },
  {
   "cell_type": "code",
   "execution_count": 50,
   "metadata": {},
   "outputs": [
    {
     "data": {
      "application/vnd.microsoft.datawrangler.viewer.v0+json": {
       "columns": [
        {
         "name": "index",
         "rawType": "int64",
         "type": "integer"
        },
        {
         "name": "Age",
         "rawType": "float64",
         "type": "float"
        }
       ],
       "ref": "fbfa9a6b-ef2b-4289-9310-1a7efec90150",
       "rows": [
        [
         "0",
         "-0.7936144555663834"
        ],
        [
         "1",
         "1.1420305580101608"
        ],
        [
         "2",
         "0.7549015552948519"
        ],
        [
         "3",
         "-0.01935645013576572"
        ],
        [
         "4",
         "-0.01935645013576572"
        ],
        [
         "5",
         "1.5291595607254698"
        ],
        [
         "6",
         "-1.3743079596393466"
        ],
        [
         "7",
         "0.9484660566525064"
        ],
        [
         "8",
         "-0.9871789569240378"
        ],
        [
         "9",
         "-1.1807434582816922"
        ]
       ],
       "shape": {
        "columns": 1,
        "rows": 10
       }
      },
      "text/plain": [
       "0   -0.793614\n",
       "1    1.142031\n",
       "2    0.754902\n",
       "3   -0.019356\n",
       "4   -0.019356\n",
       "5    1.529160\n",
       "6   -1.374308\n",
       "7    0.948466\n",
       "8   -0.987179\n",
       "9   -1.180743\n",
       "Name: Age, dtype: float64"
      ]
     },
     "execution_count": 50,
     "metadata": {},
     "output_type": "execute_result"
    }
   ],
   "source": [
    "(demo_ages[\"Age\"] - mean_age) / std_age"
   ]
  },
  {
   "cell_type": "code",
   "execution_count": 51,
   "metadata": {
    "id": "L5kPgsg_Sp5L"
   },
   "outputs": [
    {
     "data": {
      "application/vnd.microsoft.datawrangler.viewer.v0+json": {
       "columns": [
        {
         "name": "index",
         "rawType": "int64",
         "type": "integer"
        },
        {
         "name": "Age",
         "rawType": "int64",
         "type": "integer"
        },
        {
         "name": "Age_minmax",
         "rawType": "float64",
         "type": "float"
        },
        {
         "name": "Age_standard",
         "rawType": "float64",
         "type": "float"
        }
       ],
       "ref": "62542452-9a85-4586-93da-06ff9dbee041",
       "rows": [
        [
         "0",
         "14",
         "0.20000000000000007",
         "-0.7936144555663834"
        ],
        [
         "1",
         "24",
         "0.8666666666666668",
         "1.1420305580101608"
        ],
        [
         "2",
         "22",
         "0.7333333333333333",
         "0.7549015552948519"
        ],
        [
         "3",
         "18",
         "0.4666666666666667",
         "-0.01935645013576572"
        ],
        [
         "4",
         "18",
         "0.4666666666666667",
         "-0.01935645013576572"
        ],
        [
         "5",
         "26",
         "1.0",
         "1.5291595607254698"
        ],
        [
         "6",
         "11",
         "0.0",
         "-1.3743079596393466"
        ],
        [
         "7",
         "23",
         "0.7999999999999999",
         "0.9484660566525064"
        ],
        [
         "8",
         "13",
         "0.13333333333333341",
         "-0.9871789569240378"
        ],
        [
         "9",
         "12",
         "0.06666666666666676",
         "-1.1807434582816922"
        ]
       ],
       "shape": {
        "columns": 3,
        "rows": 10
       }
      },
      "text/html": [
       "<div>\n",
       "<style scoped>\n",
       "    .dataframe tbody tr th:only-of-type {\n",
       "        vertical-align: middle;\n",
       "    }\n",
       "\n",
       "    .dataframe tbody tr th {\n",
       "        vertical-align: top;\n",
       "    }\n",
       "\n",
       "    .dataframe thead th {\n",
       "        text-align: right;\n",
       "    }\n",
       "</style>\n",
       "<table border=\"1\" class=\"dataframe\">\n",
       "  <thead>\n",
       "    <tr style=\"text-align: right;\">\n",
       "      <th></th>\n",
       "      <th>Age</th>\n",
       "      <th>Age_minmax</th>\n",
       "      <th>Age_standard</th>\n",
       "    </tr>\n",
       "  </thead>\n",
       "  <tbody>\n",
       "    <tr>\n",
       "      <th>0</th>\n",
       "      <td>14</td>\n",
       "      <td>0.200000</td>\n",
       "      <td>-0.793614</td>\n",
       "    </tr>\n",
       "    <tr>\n",
       "      <th>1</th>\n",
       "      <td>24</td>\n",
       "      <td>0.866667</td>\n",
       "      <td>1.142031</td>\n",
       "    </tr>\n",
       "    <tr>\n",
       "      <th>2</th>\n",
       "      <td>22</td>\n",
       "      <td>0.733333</td>\n",
       "      <td>0.754902</td>\n",
       "    </tr>\n",
       "    <tr>\n",
       "      <th>3</th>\n",
       "      <td>18</td>\n",
       "      <td>0.466667</td>\n",
       "      <td>-0.019356</td>\n",
       "    </tr>\n",
       "    <tr>\n",
       "      <th>4</th>\n",
       "      <td>18</td>\n",
       "      <td>0.466667</td>\n",
       "      <td>-0.019356</td>\n",
       "    </tr>\n",
       "    <tr>\n",
       "      <th>5</th>\n",
       "      <td>26</td>\n",
       "      <td>1.000000</td>\n",
       "      <td>1.529160</td>\n",
       "    </tr>\n",
       "    <tr>\n",
       "      <th>6</th>\n",
       "      <td>11</td>\n",
       "      <td>0.000000</td>\n",
       "      <td>-1.374308</td>\n",
       "    </tr>\n",
       "    <tr>\n",
       "      <th>7</th>\n",
       "      <td>23</td>\n",
       "      <td>0.800000</td>\n",
       "      <td>0.948466</td>\n",
       "    </tr>\n",
       "    <tr>\n",
       "      <th>8</th>\n",
       "      <td>13</td>\n",
       "      <td>0.133333</td>\n",
       "      <td>-0.987179</td>\n",
       "    </tr>\n",
       "    <tr>\n",
       "      <th>9</th>\n",
       "      <td>12</td>\n",
       "      <td>0.066667</td>\n",
       "      <td>-1.180743</td>\n",
       "    </tr>\n",
       "  </tbody>\n",
       "</table>\n",
       "</div>"
      ],
      "text/plain": [
       "   Age  Age_minmax  Age_standard\n",
       "0   14    0.200000     -0.793614\n",
       "1   24    0.866667      1.142031\n",
       "2   22    0.733333      0.754902\n",
       "3   18    0.466667     -0.019356\n",
       "4   18    0.466667     -0.019356\n",
       "5   26    1.000000      1.529160\n",
       "6   11    0.000000     -1.374308\n",
       "7   23    0.800000      0.948466\n",
       "8   13    0.133333     -0.987179\n",
       "9   12    0.066667     -1.180743"
      ]
     },
     "execution_count": 51,
     "metadata": {},
     "output_type": "execute_result"
    }
   ],
   "source": [
    "# Or use sklearn:\n",
    "\n",
    "demo_ages[\"Age_standard\"] = StandardScaler().fit_transform(demo_ages[[\"Age\"]])\n",
    "\n",
    "demo_ages"
   ]
  },
  {
   "cell_type": "code",
   "execution_count": 52,
   "metadata": {
    "id": "-vjktwnqTrp3"
   },
   "outputs": [
    {
     "data": {
      "application/vnd.microsoft.datawrangler.viewer.v0+json": {
       "columns": [
        {
         "name": "index",
         "rawType": "object",
         "type": "string"
        },
        {
         "name": "Age",
         "rawType": "float64",
         "type": "float"
        },
        {
         "name": "Age_minmax",
         "rawType": "float64",
         "type": "float"
        },
        {
         "name": "Age_standard",
         "rawType": "float64",
         "type": "float"
        }
       ],
       "ref": "303310c9-3045-47fa-b533-26903c624d6e",
       "rows": [
        [
         "count",
         "10.0",
         "10.0",
         "10.0"
        ],
        [
         "mean",
         "18.1",
         "0.47",
         "-0.0"
        ],
        [
         "std",
         "5.45",
         "0.36",
         "1.05"
        ],
        [
         "min",
         "11.0",
         "0.0",
         "-1.37"
        ],
        [
         "25%",
         "13.25",
         "0.15",
         "-0.94"
        ],
        [
         "50%",
         "18.0",
         "0.47",
         "-0.02"
        ],
        [
         "75%",
         "22.75",
         "0.78",
         "0.9"
        ],
        [
         "max",
         "26.0",
         "1.0",
         "1.53"
        ]
       ],
       "shape": {
        "columns": 3,
        "rows": 8
       }
      },
      "text/html": [
       "<div>\n",
       "<style scoped>\n",
       "    .dataframe tbody tr th:only-of-type {\n",
       "        vertical-align: middle;\n",
       "    }\n",
       "\n",
       "    .dataframe tbody tr th {\n",
       "        vertical-align: top;\n",
       "    }\n",
       "\n",
       "    .dataframe thead th {\n",
       "        text-align: right;\n",
       "    }\n",
       "</style>\n",
       "<table border=\"1\" class=\"dataframe\">\n",
       "  <thead>\n",
       "    <tr style=\"text-align: right;\">\n",
       "      <th></th>\n",
       "      <th>Age</th>\n",
       "      <th>Age_minmax</th>\n",
       "      <th>Age_standard</th>\n",
       "    </tr>\n",
       "  </thead>\n",
       "  <tbody>\n",
       "    <tr>\n",
       "      <th>count</th>\n",
       "      <td>10.00</td>\n",
       "      <td>10.00</td>\n",
       "      <td>10.00</td>\n",
       "    </tr>\n",
       "    <tr>\n",
       "      <th>mean</th>\n",
       "      <td>18.10</td>\n",
       "      <td>0.47</td>\n",
       "      <td>-0.00</td>\n",
       "    </tr>\n",
       "    <tr>\n",
       "      <th>std</th>\n",
       "      <td>5.45</td>\n",
       "      <td>0.36</td>\n",
       "      <td>1.05</td>\n",
       "    </tr>\n",
       "    <tr>\n",
       "      <th>min</th>\n",
       "      <td>11.00</td>\n",
       "      <td>0.00</td>\n",
       "      <td>-1.37</td>\n",
       "    </tr>\n",
       "    <tr>\n",
       "      <th>25%</th>\n",
       "      <td>13.25</td>\n",
       "      <td>0.15</td>\n",
       "      <td>-0.94</td>\n",
       "    </tr>\n",
       "    <tr>\n",
       "      <th>50%</th>\n",
       "      <td>18.00</td>\n",
       "      <td>0.47</td>\n",
       "      <td>-0.02</td>\n",
       "    </tr>\n",
       "    <tr>\n",
       "      <th>75%</th>\n",
       "      <td>22.75</td>\n",
       "      <td>0.78</td>\n",
       "      <td>0.90</td>\n",
       "    </tr>\n",
       "    <tr>\n",
       "      <th>max</th>\n",
       "      <td>26.00</td>\n",
       "      <td>1.00</td>\n",
       "      <td>1.53</td>\n",
       "    </tr>\n",
       "  </tbody>\n",
       "</table>\n",
       "</div>"
      ],
      "text/plain": [
       "         Age  Age_minmax  Age_standard\n",
       "count  10.00       10.00         10.00\n",
       "mean   18.10        0.47         -0.00\n",
       "std     5.45        0.36          1.05\n",
       "min    11.00        0.00         -1.37\n",
       "25%    13.25        0.15         -0.94\n",
       "50%    18.00        0.47         -0.02\n",
       "75%    22.75        0.78          0.90\n",
       "max    26.00        1.00          1.53"
      ]
     },
     "execution_count": 52,
     "metadata": {},
     "output_type": "execute_result"
    }
   ],
   "source": [
    "demo_ages.describe().round(2)"
   ]
  },
  {
   "cell_type": "code",
   "execution_count": null,
   "metadata": {},
   "outputs": [],
   "source": []
  },
  {
   "cell_type": "markdown",
   "metadata": {},
   "source": [
    "#### Exercise `4`: Apply StandardScaler to the dataset"
   ]
  },
  {
   "cell_type": "code",
   "execution_count": 53,
   "metadata": {},
   "outputs": [],
   "source": [
    "df_standard = df.copy()"
   ]
  },
  {
   "cell_type": "code",
   "execution_count": 54,
   "metadata": {},
   "outputs": [
    {
     "data": {
      "text/plain": [
       "array([[ 0.74316169,  1.1916046 ,  0.45781896, ..., -0.49927359,\n",
       "        -1.25755953,  0.52205471],\n",
       "       [ 1.55948802,  1.10001063, -1.53572277, ..., -0.63190677,\n",
       "        -1.79864925, -0.23757758],\n",
       "       [-1.5485421 , -0.82346271,  0.55749604, ...,  2.28602317,\n",
       "         0.90679936, -0.90419125],\n",
       "       ...,\n",
       "       [-0.4556169 , -0.73186874, -1.53572277, ..., -0.10137405,\n",
       "         1.55610702, -0.80126567],\n",
       "       [-0.59615525,  0.82522873,  0.65717313, ...,  0.56179185,\n",
       "        -0.60825186,  0.80105125],\n",
       "       [ 2.03439682,  1.64957444,  0.75685022, ..., -0.10137405,\n",
       "         0.14927375,  3.39459784]])"
      ]
     },
     "execution_count": 54,
     "metadata": {},
     "output_type": "execute_result"
    }
   ],
   "source": [
    "ss_scaler = StandardScaler() # finish this line\n",
    "ss_scaled_feat = ss_scaler.fit_transform(df_standard[metric_features])\n",
    "ss_scaled_feat"
   ]
  },
  {
   "cell_type": "code",
   "execution_count": 55,
   "metadata": {},
   "outputs": [
    {
     "name": "stdout",
     "output_type": "stream",
     "text": [
      "Parameters fitted:\n",
      "\n"
     ]
    },
    {
     "data": {
      "application/vnd.microsoft.datawrangler.viewer.v0+json": {
       "columns": [
        {
         "name": "index",
         "rawType": "object",
         "type": "string"
        },
        {
         "name": "income",
         "rawType": "float64",
         "type": "float"
        },
        {
         "name": "frq",
         "rawType": "float64",
         "type": "float"
        },
        {
         "name": "rcn",
         "rawType": "float64",
         "type": "float"
        },
        {
         "name": "clothes",
         "rawType": "float64",
         "type": "float"
        },
        {
         "name": "kitchen",
         "rawType": "float64",
         "type": "float"
        },
        {
         "name": "small_appliances",
         "rawType": "float64",
         "type": "float"
        },
        {
         "name": "toys",
         "rawType": "float64",
         "type": "float"
        },
        {
         "name": "house_keeping",
         "rawType": "float64",
         "type": "float"
        },
        {
         "name": "per_net_purchase",
         "rawType": "float64",
         "type": "float"
        },
        {
         "name": "spent_online",
         "rawType": "float64",
         "type": "float"
        }
       ],
       "ref": "c6280b10-07f0-47f4-acb0-ecadfdfe6d1e",
       "rows": [
        [
         "mean",
         "70534.38788703641",
         "19.99035953272088",
         "52.220936826585",
         "51.18112736758535",
         "6.776908245434956",
         "28.673925371441534",
         "6.581263468299875",
         "6.764318929341045",
         "42.241238516502214",
         "178.3780719065442"
        ],
        [
         "std",
         "27245.231428401425",
         "10.917749452037143",
         "30.097187883677208",
         "22.98315072282314",
         "7.310435075054749",
         "12.594906965164236",
         "6.894875044956057",
         "7.539591578004301",
         "18.481223395670547",
         "168.56840027597954"
        ]
       ],
       "shape": {
        "columns": 10,
        "rows": 2
       }
      },
      "text/html": [
       "<div>\n",
       "<style scoped>\n",
       "    .dataframe tbody tr th:only-of-type {\n",
       "        vertical-align: middle;\n",
       "    }\n",
       "\n",
       "    .dataframe tbody tr th {\n",
       "        vertical-align: top;\n",
       "    }\n",
       "\n",
       "    .dataframe thead th {\n",
       "        text-align: right;\n",
       "    }\n",
       "</style>\n",
       "<table border=\"1\" class=\"dataframe\">\n",
       "  <thead>\n",
       "    <tr style=\"text-align: right;\">\n",
       "      <th></th>\n",
       "      <th>income</th>\n",
       "      <th>frq</th>\n",
       "      <th>rcn</th>\n",
       "      <th>clothes</th>\n",
       "      <th>kitchen</th>\n",
       "      <th>small_appliances</th>\n",
       "      <th>toys</th>\n",
       "      <th>house_keeping</th>\n",
       "      <th>per_net_purchase</th>\n",
       "      <th>spent_online</th>\n",
       "    </tr>\n",
       "  </thead>\n",
       "  <tbody>\n",
       "    <tr>\n",
       "      <th>mean</th>\n",
       "      <td>70534.387887</td>\n",
       "      <td>19.990360</td>\n",
       "      <td>52.220937</td>\n",
       "      <td>51.181127</td>\n",
       "      <td>6.776908</td>\n",
       "      <td>28.673925</td>\n",
       "      <td>6.581263</td>\n",
       "      <td>6.764319</td>\n",
       "      <td>42.241239</td>\n",
       "      <td>178.378072</td>\n",
       "    </tr>\n",
       "    <tr>\n",
       "      <th>std</th>\n",
       "      <td>27245.231428</td>\n",
       "      <td>10.917749</td>\n",
       "      <td>30.097188</td>\n",
       "      <td>22.983151</td>\n",
       "      <td>7.310435</td>\n",
       "      <td>12.594907</td>\n",
       "      <td>6.894875</td>\n",
       "      <td>7.539592</td>\n",
       "      <td>18.481223</td>\n",
       "      <td>168.568400</td>\n",
       "    </tr>\n",
       "  </tbody>\n",
       "</table>\n",
       "</div>"
      ],
      "text/plain": [
       "            income        frq        rcn    clothes   kitchen  \\\n",
       "mean  70534.387887  19.990360  52.220937  51.181127  6.776908   \n",
       "std   27245.231428  10.917749  30.097188  22.983151  7.310435   \n",
       "\n",
       "      small_appliances      toys  house_keeping  per_net_purchase  \\\n",
       "mean         28.673925  6.581263       6.764319         42.241239   \n",
       "std          12.594907  6.894875       7.539592         18.481223   \n",
       "\n",
       "      spent_online  \n",
       "mean    178.378072  \n",
       "std     168.568400  "
      ]
     },
     "execution_count": 55,
     "metadata": {},
     "output_type": "execute_result"
    }
   ],
   "source": [
    "# See what the fit method is doing (notice the trailing underscore):\n",
    "print(\"Parameters fitted:\\n\")\n",
    "pd.DataFrame([ss_scaler.mean_, np.sqrt(ss_scaler.var_)], columns=metric_features, index=['mean','std'])"
   ]
  },
  {
   "cell_type": "code",
   "execution_count": 56,
   "metadata": {},
   "outputs": [
    {
     "data": {
      "application/vnd.microsoft.datawrangler.viewer.v0+json": {
       "columns": [
        {
         "name": "index",
         "rawType": "int64",
         "type": "integer"
        },
        {
         "name": "age",
         "rawType": "int64",
         "type": "integer"
        },
        {
         "name": "income",
         "rawType": "float64",
         "type": "float"
        },
        {
         "name": "frq",
         "rawType": "float64",
         "type": "float"
        },
        {
         "name": "rcn",
         "rawType": "float64",
         "type": "float"
        },
        {
         "name": "mnt",
         "rawType": "int64",
         "type": "integer"
        },
        {
         "name": "clothes",
         "rawType": "float64",
         "type": "float"
        },
        {
         "name": "kitchen",
         "rawType": "float64",
         "type": "float"
        },
        {
         "name": "small_appliances",
         "rawType": "float64",
         "type": "float"
        },
        {
         "name": "toys",
         "rawType": "float64",
         "type": "float"
        },
        {
         "name": "house_keeping",
         "rawType": "float64",
         "type": "float"
        },
        {
         "name": "dependents",
         "rawType": "boolean",
         "type": "boolean"
        },
        {
         "name": "per_net_purchase",
         "rawType": "float64",
         "type": "float"
        },
        {
         "name": "gender",
         "rawType": "object",
         "type": "string"
        },
        {
         "name": "education",
         "rawType": "object",
         "type": "string"
        },
        {
         "name": "status",
         "rawType": "object",
         "type": "string"
        },
        {
         "name": "description",
         "rawType": "object",
         "type": "string"
        },
        {
         "name": "birth_year",
         "rawType": "int64",
         "type": "integer"
        },
        {
         "name": "spent_online",
         "rawType": "float64",
         "type": "float"
        }
       ],
       "ref": "9dfff125-9502-426e-852c-70c0997e2608",
       "rows": [
        [
         "0",
         "78",
         "0.7431616856025945",
         "1.1916045998703195",
         "0.4578189572617142",
         "1402",
         "-0.6170227719693344",
         "-0.24306463667234582",
         "1.216846989894269",
         "0.4958373443186762",
         "-0.49927358669174027",
         "False",
         "-1.2575595250878662",
         "M",
         "Graduation",
         "Together",
         "Take my money!!",
         "1946",
         "0.522054714581021"
        ],
        [
         "1",
         "88",
         "1.5594880236059183",
         "1.1000106313154348",
         "-1.5357227726797786",
         "1537",
         "0.16615966533354226",
         "-0.7902276931707367",
         "0.740463955339495",
         "-0.3743742201953605",
         "-0.6319067657776419",
         "False",
         "-1.7986492454979675",
         "F",
         "PhD",
         "Divorced",
         "Take my money!!",
         "1936",
         "-0.23757757587411182"
        ],
        [
         "2",
         "34",
         "-1.5485420998500168",
         "-0.8234627083371445",
         "0.5574960437587888",
         "44",
         "-0.8345734489979113",
         "1.6720060610720222",
         "-0.37109645862164464",
         "-0.8094800024523788",
         "2.2860231741121937",
         "True",
         "0.9067993565525392",
         "M",
         "Graduation",
         "Married",
         "Kind of OK",
         "1990",
         "-0.9041912461469996"
        ],
        [
         "3",
         "69",
         "0.8455282229296603",
         "0.5504468199861264",
         "-1.4028199906836791",
         "888",
         "0.38371034236211915",
         "0.4408891839506428",
         "-0.7680823207506231",
         "-0.08430369869068159",
         "-0.23400722851993705",
         "True",
         "-0.391815972431704",
         "F",
         "Master",
         "Married",
         "OK nice!",
         "1955",
         "0.7855679230309782"
        ],
        [
         "4",
         "69",
         "0.7824346131536739",
         "1.00841666276055",
         "-0.8712088626992811",
         "1138",
         "0.34020020695640374",
         "-0.24306463667234582",
         "-0.05350776891846189",
         "-0.3743742201953605",
         "-0.36664040760583866",
         "True",
         "-0.44592494447271414",
         "F",
         "Graduation",
         "Together",
         "Take my money!!",
         "1955",
         "1.2371353572320303"
        ]
       ],
       "shape": {
        "columns": 18,
        "rows": 5
       }
      },
      "text/html": [
       "<div>\n",
       "<style scoped>\n",
       "    .dataframe tbody tr th:only-of-type {\n",
       "        vertical-align: middle;\n",
       "    }\n",
       "\n",
       "    .dataframe tbody tr th {\n",
       "        vertical-align: top;\n",
       "    }\n",
       "\n",
       "    .dataframe thead th {\n",
       "        text-align: right;\n",
       "    }\n",
       "</style>\n",
       "<table border=\"1\" class=\"dataframe\">\n",
       "  <thead>\n",
       "    <tr style=\"text-align: right;\">\n",
       "      <th></th>\n",
       "      <th>age</th>\n",
       "      <th>income</th>\n",
       "      <th>frq</th>\n",
       "      <th>rcn</th>\n",
       "      <th>mnt</th>\n",
       "      <th>clothes</th>\n",
       "      <th>kitchen</th>\n",
       "      <th>small_appliances</th>\n",
       "      <th>toys</th>\n",
       "      <th>house_keeping</th>\n",
       "      <th>dependents</th>\n",
       "      <th>per_net_purchase</th>\n",
       "      <th>gender</th>\n",
       "      <th>education</th>\n",
       "      <th>status</th>\n",
       "      <th>description</th>\n",
       "      <th>birth_year</th>\n",
       "      <th>spent_online</th>\n",
       "    </tr>\n",
       "  </thead>\n",
       "  <tbody>\n",
       "    <tr>\n",
       "      <th>0</th>\n",
       "      <td>78</td>\n",
       "      <td>0.743162</td>\n",
       "      <td>1.191605</td>\n",
       "      <td>0.457819</td>\n",
       "      <td>1402</td>\n",
       "      <td>-0.617023</td>\n",
       "      <td>-0.243065</td>\n",
       "      <td>1.216847</td>\n",
       "      <td>0.495837</td>\n",
       "      <td>-0.499274</td>\n",
       "      <td>False</td>\n",
       "      <td>-1.257560</td>\n",
       "      <td>M</td>\n",
       "      <td>Graduation</td>\n",
       "      <td>Together</td>\n",
       "      <td>Take my money!!</td>\n",
       "      <td>1946</td>\n",
       "      <td>0.522055</td>\n",
       "    </tr>\n",
       "    <tr>\n",
       "      <th>1</th>\n",
       "      <td>88</td>\n",
       "      <td>1.559488</td>\n",
       "      <td>1.100011</td>\n",
       "      <td>-1.535723</td>\n",
       "      <td>1537</td>\n",
       "      <td>0.166160</td>\n",
       "      <td>-0.790228</td>\n",
       "      <td>0.740464</td>\n",
       "      <td>-0.374374</td>\n",
       "      <td>-0.631907</td>\n",
       "      <td>False</td>\n",
       "      <td>-1.798649</td>\n",
       "      <td>F</td>\n",
       "      <td>PhD</td>\n",
       "      <td>Divorced</td>\n",
       "      <td>Take my money!!</td>\n",
       "      <td>1936</td>\n",
       "      <td>-0.237578</td>\n",
       "    </tr>\n",
       "    <tr>\n",
       "      <th>2</th>\n",
       "      <td>34</td>\n",
       "      <td>-1.548542</td>\n",
       "      <td>-0.823463</td>\n",
       "      <td>0.557496</td>\n",
       "      <td>44</td>\n",
       "      <td>-0.834573</td>\n",
       "      <td>1.672006</td>\n",
       "      <td>-0.371096</td>\n",
       "      <td>-0.809480</td>\n",
       "      <td>2.286023</td>\n",
       "      <td>True</td>\n",
       "      <td>0.906799</td>\n",
       "      <td>M</td>\n",
       "      <td>Graduation</td>\n",
       "      <td>Married</td>\n",
       "      <td>Kind of OK</td>\n",
       "      <td>1990</td>\n",
       "      <td>-0.904191</td>\n",
       "    </tr>\n",
       "    <tr>\n",
       "      <th>3</th>\n",
       "      <td>69</td>\n",
       "      <td>0.845528</td>\n",
       "      <td>0.550447</td>\n",
       "      <td>-1.402820</td>\n",
       "      <td>888</td>\n",
       "      <td>0.383710</td>\n",
       "      <td>0.440889</td>\n",
       "      <td>-0.768082</td>\n",
       "      <td>-0.084304</td>\n",
       "      <td>-0.234007</td>\n",
       "      <td>True</td>\n",
       "      <td>-0.391816</td>\n",
       "      <td>F</td>\n",
       "      <td>Master</td>\n",
       "      <td>Married</td>\n",
       "      <td>OK nice!</td>\n",
       "      <td>1955</td>\n",
       "      <td>0.785568</td>\n",
       "    </tr>\n",
       "    <tr>\n",
       "      <th>4</th>\n",
       "      <td>69</td>\n",
       "      <td>0.782435</td>\n",
       "      <td>1.008417</td>\n",
       "      <td>-0.871209</td>\n",
       "      <td>1138</td>\n",
       "      <td>0.340200</td>\n",
       "      <td>-0.243065</td>\n",
       "      <td>-0.053508</td>\n",
       "      <td>-0.374374</td>\n",
       "      <td>-0.366640</td>\n",
       "      <td>True</td>\n",
       "      <td>-0.445925</td>\n",
       "      <td>F</td>\n",
       "      <td>Graduation</td>\n",
       "      <td>Together</td>\n",
       "      <td>Take my money!!</td>\n",
       "      <td>1955</td>\n",
       "      <td>1.237135</td>\n",
       "    </tr>\n",
       "  </tbody>\n",
       "</table>\n",
       "</div>"
      ],
      "text/plain": [
       "   age    income       frq       rcn   mnt   clothes   kitchen  \\\n",
       "0   78  0.743162  1.191605  0.457819  1402 -0.617023 -0.243065   \n",
       "1   88  1.559488  1.100011 -1.535723  1537  0.166160 -0.790228   \n",
       "2   34 -1.548542 -0.823463  0.557496    44 -0.834573  1.672006   \n",
       "3   69  0.845528  0.550447 -1.402820   888  0.383710  0.440889   \n",
       "4   69  0.782435  1.008417 -0.871209  1138  0.340200 -0.243065   \n",
       "\n",
       "   small_appliances      toys  house_keeping  dependents  per_net_purchase  \\\n",
       "0          1.216847  0.495837      -0.499274       False         -1.257560   \n",
       "1          0.740464 -0.374374      -0.631907       False         -1.798649   \n",
       "2         -0.371096 -0.809480       2.286023        True          0.906799   \n",
       "3         -0.768082 -0.084304      -0.234007        True         -0.391816   \n",
       "4         -0.053508 -0.374374      -0.366640        True         -0.445925   \n",
       "\n",
       "  gender   education    status      description  birth_year  spent_online  \n",
       "0      M  Graduation  Together  Take my money!!        1946      0.522055  \n",
       "1      F         PhD  Divorced  Take my money!!        1936     -0.237578  \n",
       "2      M  Graduation   Married       Kind of OK        1990     -0.904191  \n",
       "3      F      Master   Married         OK nice!        1955      0.785568  \n",
       "4      F  Graduation  Together  Take my money!!        1955      1.237135  "
      ]
     },
     "execution_count": 56,
     "metadata": {},
     "output_type": "execute_result"
    }
   ],
   "source": [
    "df_standard[metric_features] = ss_scaled_feat\n",
    "df_standard.head()"
   ]
  },
  {
   "cell_type": "code",
   "execution_count": 58,
   "metadata": {},
   "outputs": [
    {
     "data": {
      "application/vnd.microsoft.datawrangler.viewer.v0+json": {
       "columns": [
        {
         "name": "index",
         "rawType": "object",
         "type": "string"
        },
        {
         "name": "count",
         "rawType": "float64",
         "type": "float"
        },
        {
         "name": "mean",
         "rawType": "float64",
         "type": "float"
        },
        {
         "name": "std",
         "rawType": "float64",
         "type": "float"
        },
        {
         "name": "min",
         "rawType": "float64",
         "type": "float"
        },
        {
         "name": "25%",
         "rawType": "float64",
         "type": "float"
        },
        {
         "name": "50%",
         "rawType": "float64",
         "type": "float"
        },
        {
         "name": "75%",
         "rawType": "float64",
         "type": "float"
        },
        {
         "name": "max",
         "rawType": "float64",
         "type": "float"
        }
       ],
       "ref": "e022b505-3a6d-4b86-9648-4661c7841880",
       "rows": [
        [
         "income",
         "8817.0",
         "-0.0",
         "1.0",
         "-2.22",
         "-0.8",
         "-0.01",
         "0.8",
         "2.57"
        ],
        [
         "frq",
         "8817.0",
         "-0.0",
         "1.0",
         "-1.56",
         "-0.92",
         "-0.18",
         "0.73",
         "3.57"
        ],
        [
         "rcn",
         "8817.0",
         "0.0",
         "1.0",
         "-1.74",
         "-0.87",
         "0.03",
         "0.86",
         "1.59"
        ],
        [
         "clothes",
         "8817.0",
         "-0.0",
         "1.0",
         "-2.18",
         "-0.75",
         "0.04",
         "0.82",
         "2.08"
        ],
        [
         "kitchen",
         "8817.0",
         "-0.0",
         "1.0",
         "-0.93",
         "-0.65",
         "-0.38",
         "0.3",
         "4.54"
        ],
        [
         "small_appliances",
         "8817.0",
         "-0.0",
         "1.0",
         "-2.2",
         "-0.77",
         "-0.05",
         "0.66",
         "3.6"
        ],
        [
         "toys",
         "8817.0",
         "0.0",
         "1.0",
         "-0.95",
         "-0.66",
         "-0.37",
         "0.35",
         "4.12"
        ],
        [
         "house_keeping",
         "8817.0",
         "0.0",
         "1.0",
         "-0.9",
         "-0.63",
         "-0.37",
         "0.3",
         "5.73"
        ],
        [
         "per_net_purchase",
         "8817.0",
         "-0.0",
         "1.0",
         "-2.07",
         "-0.82",
         "0.15",
         "0.8",
         "2.48"
        ],
        [
         "spent_online",
         "8817.0",
         "-0.0",
         "1.0",
         "-1.04",
         "-0.85",
         "-0.23",
         "0.51",
         "7.34"
        ]
       ],
       "shape": {
        "columns": 8,
        "rows": 10
       }
      },
      "text/html": [
       "<div>\n",
       "<style scoped>\n",
       "    .dataframe tbody tr th:only-of-type {\n",
       "        vertical-align: middle;\n",
       "    }\n",
       "\n",
       "    .dataframe tbody tr th {\n",
       "        vertical-align: top;\n",
       "    }\n",
       "\n",
       "    .dataframe thead th {\n",
       "        text-align: right;\n",
       "    }\n",
       "</style>\n",
       "<table border=\"1\" class=\"dataframe\">\n",
       "  <thead>\n",
       "    <tr style=\"text-align: right;\">\n",
       "      <th></th>\n",
       "      <th>count</th>\n",
       "      <th>mean</th>\n",
       "      <th>std</th>\n",
       "      <th>min</th>\n",
       "      <th>25%</th>\n",
       "      <th>50%</th>\n",
       "      <th>75%</th>\n",
       "      <th>max</th>\n",
       "    </tr>\n",
       "  </thead>\n",
       "  <tbody>\n",
       "    <tr>\n",
       "      <th>income</th>\n",
       "      <td>8817.0</td>\n",
       "      <td>-0.0</td>\n",
       "      <td>1.0</td>\n",
       "      <td>-2.22</td>\n",
       "      <td>-0.80</td>\n",
       "      <td>-0.01</td>\n",
       "      <td>0.80</td>\n",
       "      <td>2.57</td>\n",
       "    </tr>\n",
       "    <tr>\n",
       "      <th>frq</th>\n",
       "      <td>8817.0</td>\n",
       "      <td>-0.0</td>\n",
       "      <td>1.0</td>\n",
       "      <td>-1.56</td>\n",
       "      <td>-0.92</td>\n",
       "      <td>-0.18</td>\n",
       "      <td>0.73</td>\n",
       "      <td>3.57</td>\n",
       "    </tr>\n",
       "    <tr>\n",
       "      <th>rcn</th>\n",
       "      <td>8817.0</td>\n",
       "      <td>0.0</td>\n",
       "      <td>1.0</td>\n",
       "      <td>-1.74</td>\n",
       "      <td>-0.87</td>\n",
       "      <td>0.03</td>\n",
       "      <td>0.86</td>\n",
       "      <td>1.59</td>\n",
       "    </tr>\n",
       "    <tr>\n",
       "      <th>clothes</th>\n",
       "      <td>8817.0</td>\n",
       "      <td>-0.0</td>\n",
       "      <td>1.0</td>\n",
       "      <td>-2.18</td>\n",
       "      <td>-0.75</td>\n",
       "      <td>0.04</td>\n",
       "      <td>0.82</td>\n",
       "      <td>2.08</td>\n",
       "    </tr>\n",
       "    <tr>\n",
       "      <th>kitchen</th>\n",
       "      <td>8817.0</td>\n",
       "      <td>-0.0</td>\n",
       "      <td>1.0</td>\n",
       "      <td>-0.93</td>\n",
       "      <td>-0.65</td>\n",
       "      <td>-0.38</td>\n",
       "      <td>0.30</td>\n",
       "      <td>4.54</td>\n",
       "    </tr>\n",
       "    <tr>\n",
       "      <th>small_appliances</th>\n",
       "      <td>8817.0</td>\n",
       "      <td>-0.0</td>\n",
       "      <td>1.0</td>\n",
       "      <td>-2.20</td>\n",
       "      <td>-0.77</td>\n",
       "      <td>-0.05</td>\n",
       "      <td>0.66</td>\n",
       "      <td>3.60</td>\n",
       "    </tr>\n",
       "    <tr>\n",
       "      <th>toys</th>\n",
       "      <td>8817.0</td>\n",
       "      <td>0.0</td>\n",
       "      <td>1.0</td>\n",
       "      <td>-0.95</td>\n",
       "      <td>-0.66</td>\n",
       "      <td>-0.37</td>\n",
       "      <td>0.35</td>\n",
       "      <td>4.12</td>\n",
       "    </tr>\n",
       "    <tr>\n",
       "      <th>house_keeping</th>\n",
       "      <td>8817.0</td>\n",
       "      <td>0.0</td>\n",
       "      <td>1.0</td>\n",
       "      <td>-0.90</td>\n",
       "      <td>-0.63</td>\n",
       "      <td>-0.37</td>\n",
       "      <td>0.30</td>\n",
       "      <td>5.73</td>\n",
       "    </tr>\n",
       "    <tr>\n",
       "      <th>per_net_purchase</th>\n",
       "      <td>8817.0</td>\n",
       "      <td>-0.0</td>\n",
       "      <td>1.0</td>\n",
       "      <td>-2.07</td>\n",
       "      <td>-0.82</td>\n",
       "      <td>0.15</td>\n",
       "      <td>0.80</td>\n",
       "      <td>2.48</td>\n",
       "    </tr>\n",
       "    <tr>\n",
       "      <th>spent_online</th>\n",
       "      <td>8817.0</td>\n",
       "      <td>-0.0</td>\n",
       "      <td>1.0</td>\n",
       "      <td>-1.04</td>\n",
       "      <td>-0.85</td>\n",
       "      <td>-0.23</td>\n",
       "      <td>0.51</td>\n",
       "      <td>7.34</td>\n",
       "    </tr>\n",
       "  </tbody>\n",
       "</table>\n",
       "</div>"
      ],
      "text/plain": [
       "                   count  mean  std   min   25%   50%   75%   max\n",
       "income            8817.0  -0.0  1.0 -2.22 -0.80 -0.01  0.80  2.57\n",
       "frq               8817.0  -0.0  1.0 -1.56 -0.92 -0.18  0.73  3.57\n",
       "rcn               8817.0   0.0  1.0 -1.74 -0.87  0.03  0.86  1.59\n",
       "clothes           8817.0  -0.0  1.0 -2.18 -0.75  0.04  0.82  2.08\n",
       "kitchen           8817.0  -0.0  1.0 -0.93 -0.65 -0.38  0.30  4.54\n",
       "small_appliances  8817.0  -0.0  1.0 -2.20 -0.77 -0.05  0.66  3.60\n",
       "toys              8817.0   0.0  1.0 -0.95 -0.66 -0.37  0.35  4.12\n",
       "house_keeping     8817.0   0.0  1.0 -0.90 -0.63 -0.37  0.30  5.73\n",
       "per_net_purchase  8817.0  -0.0  1.0 -2.07 -0.82  0.15  0.80  2.48\n",
       "spent_online      8817.0  -0.0  1.0 -1.04 -0.85 -0.23  0.51  7.34"
      ]
     },
     "execution_count": 58,
     "metadata": {},
     "output_type": "execute_result"
    }
   ],
   "source": [
    "# Checking mean and variance of standardized variables\n",
    "df_standard[metric_features].describe().T.round(2)"
   ]
  },
  {
   "cell_type": "markdown",
   "metadata": {},
   "source": [
    "#### `Intuition exercise` \n",
    "- What if we had a training and test set? \n",
    "- Should we fit a Scaler in both? \n",
    "- What about other Sklearn objects?"
   ]
  },
  {
   "cell_type": "markdown",
   "metadata": {},
   "source": [
    "## Compare MinMaxScaler vs StandardScaler vs Original data"
   ]
  },
  {
   "cell_type": "markdown",
   "metadata": {},
   "source": [
    "### Boxplots"
   ]
  },
  {
   "cell_type": "code",
   "execution_count": 59,
   "metadata": {},
   "outputs": [
    {
     "data": {
      "image/png": "[encoded data removed]",
      "text/plain": [
       "<Figure size 800x500 with 6 Axes>"
      ]
     },
     "metadata": {
      "image/png": {
       "height": 492,
       "width": 784
      }
     },
     "output_type": "display_data"
    }
   ],
   "source": [
    "\n",
    "sns.set_style('whitegrid')\n",
    "fig, axes = plt.subplots(2,3, figsize=(8,5), tight_layout=True, sharex='col', sharey='row')\n",
    "\n",
    "bp_feat_l = 'house_keeping'\n",
    "\n",
    "sns.boxplot(df_original, x=bp_feat_l, ax=axes[0][0], width=.4)\n",
    "axes[0][0].set_title('Original')\n",
    "axes[0][0].set_ylabel(bp_feat_l)\n",
    "\n",
    "sns.boxplot(df_minmax, x=bp_feat_l, ax=axes[0][1], width=.4)\n",
    "axes[0][1].set_title('MinMaxScaler()')\n",
    "\n",
    "sns.boxplot(df_standard, x=bp_feat_l, ax=axes[0][2], width=.4)\n",
    "axes[0][2].set_title('StandardScaler()')\n",
    "\n",
    "\n",
    "\n",
    "bp_feat_r = 'income'\n",
    "\n",
    "sns.boxplot(df_original, x=bp_feat_r, ax=axes[1][0], width=.4)\n",
    "axes[1][0].set_ylabel(bp_feat_r)\n",
    "\n",
    "sns.boxplot(df_minmax, x=bp_feat_r, ax=axes[1][1], width=.4)\n",
    "\n",
    "sns.boxplot(df_standard, x=bp_feat_r, ax=axes[1][2], width=.4)\n",
    "\n",
    "\n",
    "axes[1][0].set_xlabel(None)\n",
    "axes[1][1].set_xlabel(None)\n",
    "axes[1][2].set_xlabel(None)\n",
    "\n",
    "fig.suptitle('Boxplots: \"{}\" and \"{}\"'.format(bp_feat_l, bp_feat_r))\n",
    "plt.show()"
   ]
  },
  {
   "cell_type": "code",
   "execution_count": 60,
   "metadata": {},
   "outputs": [
    {
     "data": {
      "text/plain": [
       "Text(0.5, 0.98, 'Boxplots: \"house_keeping\"')"
      ]
     },
     "execution_count": 60,
     "metadata": {},
     "output_type": "execute_result"
    },
    {
     "data": {
      "image/png": "[encoded data removed]",
      "text/plain": [
       "<Figure size 800x500 with 3 Axes>"
      ]
     },
     "metadata": {
      "image/png": {
       "height": 492,
       "width": 784
      }
     },
     "output_type": "display_data"
    }
   ],
   "source": [
    "sns.set_style('white')\n",
    "\n",
    "fig, axes = plt.subplots(3,1, figsize=(8,5), tight_layout=True,)\n",
    "\n",
    "sns.boxplot(df, x=bp_feat_l, ax=axes[2], width=.4)\n",
    "sns.boxplot(df_minmax, x=bp_feat_l, ax=axes[1], width=.4)\n",
    "sns.boxplot(df_standard, x=bp_feat_l, ax=axes[0], width=.4)\n",
    "\n",
    "axes[0].set_title(\"standard\")\n",
    "axes[0].set_xlabel(None)\n",
    "axes[1].set_title(\"mm\")\n",
    "axes[1].set_xlabel(None)\n",
    "axes[2].set_title(\"origi\")\n",
    "axes[2].set_xlabel(None)\n",
    "\n",
    "plt.suptitle('Boxplots: \"{}\"'.format(bp_feat_l))\n",
    "\n"
   ]
  },
  {
   "cell_type": "markdown",
   "metadata": {},
   "source": [
    "### Histograms\n",
    "\n",
    "What about histograms?\n",
    "\n",
    "#### `Intuition exercise`\n",
    "\n",
    "- Visualize histograms here, compare the shapes of the original distribution with the MinMaxScaler and StandardScaler results."
   ]
  },
  {
   "cell_type": "code",
   "execution_count": 61,
   "metadata": {},
   "outputs": [
    {
     "data": {
      "image/png": "[encoded data removed]",
      "text/plain": [
       "<Figure size 500x500 with 3 Axes>"
      ]
     },
     "metadata": {
      "image/png": {
       "height": 484,
       "width": 483
      }
     },
     "output_type": "display_data"
    }
   ],
   "source": [
    "sns.set_style('whitegrid')\n",
    "\n",
    "# Create subplots with 3 rows, 1 column:\n",
    "fig, axes = plt.subplots(3,1, \n",
    "                         figsize=(5,5), tight_layout=True)\n",
    "\n",
    "# Which feature do you want to visualize?\n",
    "hp_feat = 'house_keeping'\n",
    "\n",
    "# common function args for histplot\n",
    "hp_args = dict(x=hp_feat, bins=15)\n",
    "\n",
    "\n",
    "sns.histplot(df_original, ax=axes[0], **hp_args)\n",
    "axes[0].set_title('{}: Original'.format(hp_feat))\n",
    "axes[0].set_xlabel(None)\n",
    "\n",
    "sns.histplot(df_minmax, ax=axes[1], **hp_args)\n",
    "axes[1].set_title('{}: MinMaxScaler()'.format(hp_feat))\n",
    "axes[1].set_xlabel(None)\n",
    "\n",
    "sns.histplot(df_standard, ax=axes[2], **hp_args)\n",
    "axes[2].set_title('{}: StandardScaler()'.format(hp_feat))\n",
    "axes[2].set_xlabel(None)\n",
    "\n",
    "\n",
    "plt.show()\n",
    "\n",
    "sns.set()"
   ]
  },
  {
   "cell_type": "code",
   "execution_count": 62,
   "metadata": {},
   "outputs": [],
   "source": [
    "sns.set()"
   ]
  },
  {
   "cell_type": "markdown",
   "metadata": {},
   "source": [
    "#### Keep StandardScaler"
   ]
  },
  {
   "cell_type": "code",
   "execution_count": 63,
   "metadata": {},
   "outputs": [],
   "source": [
    "df = df_standard.copy()"
   ]
  },
  {
   "cell_type": "markdown",
   "metadata": {},
   "source": [
    "## **One-hot encoding**"
   ]
  },
  {
   "cell_type": "code",
   "execution_count": 64,
   "metadata": {},
   "outputs": [],
   "source": [
    "df_ohc = df.copy()"
   ]
  },
  {
   "cell_type": "code",
   "execution_count": 65,
   "metadata": {},
   "outputs": [
    {
     "data": {
      "image/png": "[encoded data removed]",
      "text/plain": [
       "<Figure size 1000x700 with 6 Axes>"
      ]
     },
     "metadata": {
      "image/png": {
       "height": 684,
       "width": 857
      }
     },
     "output_type": "display_data"
    }
   ],
   "source": [
    "df['dependents'] = df['dependents'].fillna(False)\n",
    "\n",
    "fig, axes = plt.subplots(\n",
    "    2,\n",
    "    ceil(len(non_metric_features) / 2),\n",
    "    figsize=(10,7))\n",
    "\n",
    "for ax, feat in zip(axes.flatten(), non_metric_features):\n",
    "    df[feat].value_counts().plot.bar(ax=ax, width=.7)\n",
    "    ax.set_title(feat)\n",
    "    ax.set_xlabel(None)\n",
    "    ax.set_ylabel(None) \n",
    "    ax.tick_params(axis='x', rotation=45)\n",
    "\n",
    "plt.subplots_adjust(hspace=0.6)\n",
    "plt.show()"
   ]
  },
  {
   "cell_type": "markdown",
   "metadata": {},
   "source": [
    "First let's remove status=Whatever"
   ]
  },
  {
   "cell_type": "code",
   "execution_count": 66,
   "metadata": {},
   "outputs": [],
   "source": [
    "df_ohc.loc[df_ohc['status'] == 'Whatever', 'status'] = df['status'].mode()[0]"
   ]
  },
  {
   "cell_type": "code",
   "execution_count": 67,
   "metadata": {},
   "outputs": [],
   "source": [
    "# Use OneHotEncoder to encode the categorical features. Get feature names and create a DataFrame \n",
    "# with the one-hot encoded categorical features (pass feature names)\n",
    "ohc = OneHotEncoder(sparse_output=False, drop=\"first\")\n",
    "ohc_feat = ohc.fit_transform(df_ohc[non_metric_features])\n",
    "ohc_feat_names = ohc.get_feature_names_out()\n"
   ]
  },
  {
   "cell_type": "code",
   "execution_count": 68,
   "metadata": {},
   "outputs": [],
   "source": [
    "# Get feature names and create a DataFrame \n",
    "# with the one-hot encoded categorical features (pass feature names)\n",
    "ohc_feat = ohc.fit_transform(df_ohc[non_metric_features])\n",
    "ohc_feat_names = ohc.get_feature_names_out()\n"
   ]
  },
  {
   "cell_type": "code",
   "execution_count": 70,
   "metadata": {},
   "outputs": [
    {
     "data": {
      "application/vnd.microsoft.datawrangler.viewer.v0+json": {
       "columns": [
        {
         "name": "index",
         "rawType": "int64",
         "type": "integer"
        },
        {
         "name": "education_2nd Cycle",
         "rawType": "float64",
         "type": "float"
        },
        {
         "name": "education_Graduation",
         "rawType": "float64",
         "type": "float"
        },
        {
         "name": "education_Master",
         "rawType": "float64",
         "type": "float"
        },
        {
         "name": "education_PhD",
         "rawType": "float64",
         "type": "float"
        },
        {
         "name": "status_Married",
         "rawType": "float64",
         "type": "float"
        },
        {
         "name": "status_Single",
         "rawType": "float64",
         "type": "float"
        },
        {
         "name": "status_Together",
         "rawType": "float64",
         "type": "float"
        },
        {
         "name": "status_Widow",
         "rawType": "float64",
         "type": "float"
        },
        {
         "name": "gender_M",
         "rawType": "float64",
         "type": "float"
        },
        {
         "name": "dependents_1.0",
         "rawType": "float64",
         "type": "float"
        },
        {
         "name": "description_Kind of OK",
         "rawType": "float64",
         "type": "float"
        },
        {
         "name": "description_Meh...",
         "rawType": "float64",
         "type": "float"
        },
        {
         "name": "description_OK nice!",
         "rawType": "float64",
         "type": "float"
        },
        {
         "name": "description_Take my money!!",
         "rawType": "float64",
         "type": "float"
        }
       ],
       "ref": "6f4af0ed-0eab-4bdd-9f7a-415c05f08ab6",
       "rows": [
        [
         "0",
         "0.0",
         "1.0",
         "0.0",
         "0.0",
         "0.0",
         "0.0",
         "1.0",
         "0.0",
         "1.0",
         "0.0",
         "0.0",
         "0.0",
         "0.0",
         "1.0"
        ],
        [
         "1",
         "0.0",
         "0.0",
         "0.0",
         "1.0",
         "0.0",
         "0.0",
         "0.0",
         "0.0",
         "0.0",
         "0.0",
         "0.0",
         "0.0",
         "0.0",
         "1.0"
        ],
        [
         "2",
         "0.0",
         "1.0",
         "0.0",
         "0.0",
         "1.0",
         "0.0",
         "0.0",
         "0.0",
         "1.0",
         "1.0",
         "1.0",
         "0.0",
         "0.0",
         "0.0"
        ],
        [
         "3",
         "0.0",
         "0.0",
         "1.0",
         "0.0",
         "1.0",
         "0.0",
         "0.0",
         "0.0",
         "0.0",
         "1.0",
         "0.0",
         "0.0",
         "1.0",
         "0.0"
        ],
        [
         "4",
         "0.0",
         "1.0",
         "0.0",
         "0.0",
         "0.0",
         "0.0",
         "1.0",
         "0.0",
         "0.0",
         "1.0",
         "0.0",
         "0.0",
         "0.0",
         "1.0"
        ],
        [
         "5",
         "0.0",
         "0.0",
         "0.0",
         "1.0",
         "0.0",
         "1.0",
         "0.0",
         "0.0",
         "1.0",
         "1.0",
         "0.0",
         "0.0",
         "1.0",
         "0.0"
        ],
        [
         "6",
         "0.0",
         "1.0",
         "0.0",
         "0.0",
         "0.0",
         "0.0",
         "1.0",
         "0.0",
         "1.0",
         "1.0",
         "0.0",
         "0.0",
         "1.0",
         "0.0"
        ],
        [
         "7",
         "0.0",
         "1.0",
         "0.0",
         "0.0",
         "0.0",
         "0.0",
         "1.0",
         "0.0",
         "1.0",
         "1.0",
         "0.0",
         "0.0",
         "0.0",
         "0.0"
        ],
        [
         "8",
         "0.0",
         "1.0",
         "0.0",
         "0.0",
         "0.0",
         "0.0",
         "0.0",
         "0.0",
         "1.0",
         "0.0",
         "0.0",
         "0.0",
         "1.0",
         "0.0"
        ],
        [
         "10",
         "0.0",
         "0.0",
         "1.0",
         "0.0",
         "0.0",
         "1.0",
         "0.0",
         "0.0",
         "1.0",
         "0.0",
         "0.0",
         "0.0",
         "1.0",
         "0.0"
        ],
        [
         "11",
         "0.0",
         "1.0",
         "0.0",
         "0.0",
         "0.0",
         "0.0",
         "1.0",
         "0.0",
         "1.0",
         "1.0",
         "0.0",
         "0.0",
         "1.0",
         "0.0"
        ],
        [
         "12",
         "1.0",
         "0.0",
         "0.0",
         "0.0",
         "0.0",
         "0.0",
         "0.0",
         "1.0",
         "0.0",
         "0.0",
         "0.0",
         "0.0",
         "0.0",
         "1.0"
        ],
        [
         "13",
         "0.0",
         "1.0",
         "0.0",
         "0.0",
         "1.0",
         "0.0",
         "0.0",
         "0.0",
         "1.0",
         "1.0",
         "0.0",
         "1.0",
         "0.0",
         "0.0"
        ],
        [
         "14",
         "0.0",
         "0.0",
         "0.0",
         "1.0",
         "0.0",
         "0.0",
         "1.0",
         "0.0",
         "1.0",
         "1.0",
         "0.0",
         "1.0",
         "0.0",
         "0.0"
        ],
        [
         "15",
         "0.0",
         "1.0",
         "0.0",
         "0.0",
         "0.0",
         "1.0",
         "0.0",
         "0.0",
         "1.0",
         "0.0",
         "1.0",
         "0.0",
         "0.0",
         "0.0"
        ],
        [
         "16",
         "1.0",
         "0.0",
         "0.0",
         "0.0",
         "0.0",
         "0.0",
         "1.0",
         "0.0",
         "1.0",
         "0.0",
         "0.0",
         "0.0",
         "1.0",
         "0.0"
        ],
        [
         "17",
         "0.0",
         "1.0",
         "0.0",
         "0.0",
         "0.0",
         "0.0",
         "1.0",
         "0.0",
         "1.0",
         "0.0",
         "0.0",
         "1.0",
         "0.0",
         "0.0"
        ],
        [
         "18",
         "1.0",
         "0.0",
         "0.0",
         "0.0",
         "0.0",
         "0.0",
         "1.0",
         "0.0",
         "1.0",
         "1.0",
         "0.0",
         "1.0",
         "0.0",
         "0.0"
        ],
        [
         "19",
         "0.0",
         "0.0",
         "0.0",
         "0.0",
         "1.0",
         "0.0",
         "0.0",
         "0.0",
         "1.0",
         "0.0",
         "0.0",
         "1.0",
         "0.0",
         "0.0"
        ],
        [
         "20",
         "0.0",
         "0.0",
         "0.0",
         "0.0",
         "0.0",
         "0.0",
         "0.0",
         "1.0",
         "1.0",
         "0.0",
         "0.0",
         "1.0",
         "0.0",
         "0.0"
        ],
        [
         "21",
         "0.0",
         "1.0",
         "0.0",
         "0.0",
         "0.0",
         "0.0",
         "1.0",
         "0.0",
         "0.0",
         "1.0",
         "0.0",
         "0.0",
         "1.0",
         "0.0"
        ],
        [
         "22",
         "0.0",
         "0.0",
         "1.0",
         "0.0",
         "1.0",
         "0.0",
         "0.0",
         "0.0",
         "0.0",
         "1.0",
         "1.0",
         "0.0",
         "0.0",
         "0.0"
        ],
        [
         "23",
         "1.0",
         "0.0",
         "0.0",
         "0.0",
         "1.0",
         "0.0",
         "0.0",
         "0.0",
         "1.0",
         "0.0",
         "0.0",
         "0.0",
         "0.0",
         "1.0"
        ],
        [
         "24",
         "0.0",
         "0.0",
         "1.0",
         "0.0",
         "0.0",
         "0.0",
         "1.0",
         "0.0",
         "0.0",
         "1.0",
         "1.0",
         "0.0",
         "0.0",
         "0.0"
        ],
        [
         "25",
         "0.0",
         "1.0",
         "0.0",
         "0.0",
         "1.0",
         "0.0",
         "0.0",
         "0.0",
         "1.0",
         "1.0",
         "1.0",
         "0.0",
         "0.0",
         "0.0"
        ],
        [
         "26",
         "1.0",
         "0.0",
         "0.0",
         "0.0",
         "1.0",
         "0.0",
         "0.0",
         "0.0",
         "1.0",
         "0.0",
         "1.0",
         "0.0",
         "0.0",
         "0.0"
        ],
        [
         "27",
         "0.0",
         "0.0",
         "1.0",
         "0.0",
         "1.0",
         "0.0",
         "0.0",
         "0.0",
         "0.0",
         "1.0",
         "0.0",
         "1.0",
         "0.0",
         "0.0"
        ],
        [
         "28",
         "1.0",
         "0.0",
         "0.0",
         "0.0",
         "0.0",
         "0.0",
         "0.0",
         "1.0",
         "0.0",
         "0.0",
         "0.0",
         "0.0",
         "0.0",
         "1.0"
        ],
        [
         "29",
         "1.0",
         "0.0",
         "0.0",
         "0.0",
         "0.0",
         "1.0",
         "0.0",
         "0.0",
         "1.0",
         "1.0",
         "1.0",
         "0.0",
         "0.0",
         "0.0"
        ],
        [
         "30",
         "0.0",
         "1.0",
         "0.0",
         "0.0",
         "0.0",
         "1.0",
         "0.0",
         "0.0",
         "1.0",
         "1.0",
         "1.0",
         "0.0",
         "0.0",
         "0.0"
        ],
        [
         "31",
         "0.0",
         "1.0",
         "0.0",
         "0.0",
         "0.0",
         "0.0",
         "0.0",
         "0.0",
         "1.0",
         "1.0",
         "0.0",
         "0.0",
         "0.0",
         "1.0"
        ],
        [
         "32",
         "0.0",
         "0.0",
         "0.0",
         "1.0",
         "0.0",
         "1.0",
         "0.0",
         "0.0",
         "0.0",
         "1.0",
         "1.0",
         "0.0",
         "0.0",
         "0.0"
        ],
        [
         "33",
         "0.0",
         "0.0",
         "0.0",
         "0.0",
         "0.0",
         "0.0",
         "1.0",
         "0.0",
         "1.0",
         "1.0",
         "1.0",
         "0.0",
         "0.0",
         "0.0"
        ],
        [
         "34",
         "0.0",
         "0.0",
         "0.0",
         "0.0",
         "0.0",
         "0.0",
         "1.0",
         "0.0",
         "0.0",
         "0.0",
         "0.0",
         "0.0",
         "1.0",
         "0.0"
        ],
        [
         "35",
         "0.0",
         "0.0",
         "0.0",
         "0.0",
         "0.0",
         "0.0",
         "0.0",
         "1.0",
         "1.0",
         "1.0",
         "0.0",
         "1.0",
         "0.0",
         "0.0"
        ],
        [
         "36",
         "0.0",
         "1.0",
         "0.0",
         "0.0",
         "1.0",
         "0.0",
         "0.0",
         "0.0",
         "0.0",
         "1.0",
         "0.0",
         "0.0",
         "1.0",
         "0.0"
        ],
        [
         "37",
         "0.0",
         "0.0",
         "0.0",
         "0.0",
         "0.0",
         "1.0",
         "0.0",
         "0.0",
         "1.0",
         "1.0",
         "0.0",
         "0.0",
         "1.0",
         "0.0"
        ],
        [
         "38",
         "0.0",
         "1.0",
         "0.0",
         "0.0",
         "1.0",
         "0.0",
         "0.0",
         "0.0",
         "1.0",
         "1.0",
         "0.0",
         "0.0",
         "0.0",
         "1.0"
        ],
        [
         "40",
         "0.0",
         "1.0",
         "0.0",
         "0.0",
         "0.0",
         "0.0",
         "1.0",
         "0.0",
         "0.0",
         "0.0",
         "0.0",
         "0.0",
         "0.0",
         "1.0"
        ],
        [
         "41",
         "0.0",
         "0.0",
         "0.0",
         "1.0",
         "1.0",
         "0.0",
         "0.0",
         "0.0",
         "0.0",
         "1.0",
         "1.0",
         "0.0",
         "0.0",
         "0.0"
        ],
        [
         "42",
         "1.0",
         "0.0",
         "0.0",
         "0.0",
         "1.0",
         "0.0",
         "0.0",
         "0.0",
         "0.0",
         "1.0",
         "0.0",
         "1.0",
         "0.0",
         "0.0"
        ],
        [
         "43",
         "0.0",
         "1.0",
         "0.0",
         "0.0",
         "1.0",
         "0.0",
         "0.0",
         "0.0",
         "1.0",
         "0.0",
         "0.0",
         "0.0",
         "1.0",
         "0.0"
        ],
        [
         "44",
         "0.0",
         "1.0",
         "0.0",
         "0.0",
         "0.0",
         "0.0",
         "1.0",
         "0.0",
         "0.0",
         "1.0",
         "1.0",
         "0.0",
         "0.0",
         "0.0"
        ],
        [
         "45",
         "0.0",
         "1.0",
         "0.0",
         "0.0",
         "1.0",
         "0.0",
         "0.0",
         "0.0",
         "0.0",
         "1.0",
         "1.0",
         "0.0",
         "0.0",
         "0.0"
        ],
        [
         "46",
         "0.0",
         "0.0",
         "0.0",
         "0.0",
         "0.0",
         "0.0",
         "0.0",
         "0.0",
         "0.0",
         "0.0",
         "0.0",
         "0.0",
         "0.0",
         "1.0"
        ],
        [
         "47",
         "0.0",
         "1.0",
         "0.0",
         "0.0",
         "1.0",
         "0.0",
         "0.0",
         "0.0",
         "1.0",
         "1.0",
         "1.0",
         "0.0",
         "0.0",
         "0.0"
        ],
        [
         "48",
         "1.0",
         "0.0",
         "0.0",
         "0.0",
         "0.0",
         "1.0",
         "0.0",
         "0.0",
         "1.0",
         "0.0",
         "0.0",
         "0.0",
         "1.0",
         "0.0"
        ],
        [
         "49",
         "0.0",
         "0.0",
         "0.0",
         "0.0",
         "1.0",
         "0.0",
         "0.0",
         "0.0",
         "0.0",
         "1.0",
         "0.0",
         "0.0",
         "1.0",
         "0.0"
        ],
        [
         "50",
         "0.0",
         "1.0",
         "0.0",
         "0.0",
         "0.0",
         "0.0",
         "1.0",
         "0.0",
         "1.0",
         "1.0",
         "1.0",
         "0.0",
         "0.0",
         "0.0"
        ],
        [
         "51",
         "1.0",
         "0.0",
         "0.0",
         "0.0",
         "0.0",
         "1.0",
         "0.0",
         "0.0",
         "1.0",
         "1.0",
         "1.0",
         "0.0",
         "0.0",
         "0.0"
        ]
       ],
       "shape": {
        "columns": 14,
        "rows": 8817
       }
      },
      "text/html": [
       "<div>\n",
       "<style scoped>\n",
       "    .dataframe tbody tr th:only-of-type {\n",
       "        vertical-align: middle;\n",
       "    }\n",
       "\n",
       "    .dataframe tbody tr th {\n",
       "        vertical-align: top;\n",
       "    }\n",
       "\n",
       "    .dataframe thead th {\n",
       "        text-align: right;\n",
       "    }\n",
       "</style>\n",
       "<table border=\"1\" class=\"dataframe\">\n",
       "  <thead>\n",
       "    <tr style=\"text-align: right;\">\n",
       "      <th></th>\n",
       "      <th>education_2nd Cycle</th>\n",
       "      <th>education_Graduation</th>\n",
       "      <th>education_Master</th>\n",
       "      <th>education_PhD</th>\n",
       "      <th>status_Married</th>\n",
       "      <th>status_Single</th>\n",
       "      <th>status_Together</th>\n",
       "      <th>status_Widow</th>\n",
       "      <th>gender_M</th>\n",
       "      <th>dependents_1.0</th>\n",
       "      <th>description_Kind of OK</th>\n",
       "      <th>description_Meh...</th>\n",
       "      <th>description_OK nice!</th>\n",
       "      <th>description_Take my money!!</th>\n",
       "    </tr>\n",
       "  </thead>\n",
       "  <tbody>\n",
       "    <tr>\n",
       "      <th>0</th>\n",
       "      <td>0.0</td>\n",
       "      <td>1.0</td>\n",
       "      <td>0.0</td>\n",
       "      <td>0.0</td>\n",
       "      <td>0.0</td>\n",
       "      <td>0.0</td>\n",
       "      <td>1.0</td>\n",
       "      <td>0.0</td>\n",
       "      <td>1.0</td>\n",
       "      <td>0.0</td>\n",
       "      <td>0.0</td>\n",
       "      <td>0.0</td>\n",
       "      <td>0.0</td>\n",
       "      <td>1.0</td>\n",
       "    </tr>\n",
       "    <tr>\n",
       "      <th>1</th>\n",
       "      <td>0.0</td>\n",
       "      <td>0.0</td>\n",
       "      <td>0.0</td>\n",
       "      <td>1.0</td>\n",
       "      <td>0.0</td>\n",
       "      <td>0.0</td>\n",
       "      <td>0.0</td>\n",
       "      <td>0.0</td>\n",
       "      <td>0.0</td>\n",
       "      <td>0.0</td>\n",
       "      <td>0.0</td>\n",
       "      <td>0.0</td>\n",
       "      <td>0.0</td>\n",
       "      <td>1.0</td>\n",
       "    </tr>\n",
       "    <tr>\n",
       "      <th>2</th>\n",
       "      <td>0.0</td>\n",
       "      <td>1.0</td>\n",
       "      <td>0.0</td>\n",
       "      <td>0.0</td>\n",
       "      <td>1.0</td>\n",
       "      <td>0.0</td>\n",
       "      <td>0.0</td>\n",
       "      <td>0.0</td>\n",
       "      <td>1.0</td>\n",
       "      <td>1.0</td>\n",
       "      <td>1.0</td>\n",
       "      <td>0.0</td>\n",
       "      <td>0.0</td>\n",
       "      <td>0.0</td>\n",
       "    </tr>\n",
       "    <tr>\n",
       "      <th>3</th>\n",
       "      <td>0.0</td>\n",
       "      <td>0.0</td>\n",
       "      <td>1.0</td>\n",
       "      <td>0.0</td>\n",
       "      <td>1.0</td>\n",
       "      <td>0.0</td>\n",
       "      <td>0.0</td>\n",
       "      <td>0.0</td>\n",
       "      <td>0.0</td>\n",
       "      <td>1.0</td>\n",
       "      <td>0.0</td>\n",
       "      <td>0.0</td>\n",
       "      <td>1.0</td>\n",
       "      <td>0.0</td>\n",
       "    </tr>\n",
       "    <tr>\n",
       "      <th>4</th>\n",
       "      <td>0.0</td>\n",
       "      <td>1.0</td>\n",
       "      <td>0.0</td>\n",
       "      <td>0.0</td>\n",
       "      <td>0.0</td>\n",
       "      <td>0.0</td>\n",
       "      <td>1.0</td>\n",
       "      <td>0.0</td>\n",
       "      <td>0.0</td>\n",
       "      <td>1.0</td>\n",
       "      <td>0.0</td>\n",
       "      <td>0.0</td>\n",
       "      <td>0.0</td>\n",
       "      <td>1.0</td>\n",
       "    </tr>\n",
       "    <tr>\n",
       "      <th>...</th>\n",
       "      <td>...</td>\n",
       "      <td>...</td>\n",
       "      <td>...</td>\n",
       "      <td>...</td>\n",
       "      <td>...</td>\n",
       "      <td>...</td>\n",
       "      <td>...</td>\n",
       "      <td>...</td>\n",
       "      <td>...</td>\n",
       "      <td>...</td>\n",
       "      <td>...</td>\n",
       "      <td>...</td>\n",
       "      <td>...</td>\n",
       "      <td>...</td>\n",
       "    </tr>\n",
       "    <tr>\n",
       "      <th>8992</th>\n",
       "      <td>0.0</td>\n",
       "      <td>1.0</td>\n",
       "      <td>0.0</td>\n",
       "      <td>0.0</td>\n",
       "      <td>1.0</td>\n",
       "      <td>0.0</td>\n",
       "      <td>0.0</td>\n",
       "      <td>0.0</td>\n",
       "      <td>1.0</td>\n",
       "      <td>1.0</td>\n",
       "      <td>1.0</td>\n",
       "      <td>0.0</td>\n",
       "      <td>0.0</td>\n",
       "      <td>0.0</td>\n",
       "    </tr>\n",
       "    <tr>\n",
       "      <th>8993</th>\n",
       "      <td>0.0</td>\n",
       "      <td>0.0</td>\n",
       "      <td>0.0</td>\n",
       "      <td>0.0</td>\n",
       "      <td>0.0</td>\n",
       "      <td>1.0</td>\n",
       "      <td>0.0</td>\n",
       "      <td>0.0</td>\n",
       "      <td>0.0</td>\n",
       "      <td>1.0</td>\n",
       "      <td>0.0</td>\n",
       "      <td>0.0</td>\n",
       "      <td>0.0</td>\n",
       "      <td>1.0</td>\n",
       "    </tr>\n",
       "    <tr>\n",
       "      <th>8994</th>\n",
       "      <td>1.0</td>\n",
       "      <td>0.0</td>\n",
       "      <td>0.0</td>\n",
       "      <td>0.0</td>\n",
       "      <td>0.0</td>\n",
       "      <td>1.0</td>\n",
       "      <td>0.0</td>\n",
       "      <td>0.0</td>\n",
       "      <td>1.0</td>\n",
       "      <td>1.0</td>\n",
       "      <td>0.0</td>\n",
       "      <td>1.0</td>\n",
       "      <td>0.0</td>\n",
       "      <td>0.0</td>\n",
       "    </tr>\n",
       "    <tr>\n",
       "      <th>8995</th>\n",
       "      <td>0.0</td>\n",
       "      <td>1.0</td>\n",
       "      <td>0.0</td>\n",
       "      <td>0.0</td>\n",
       "      <td>0.0</td>\n",
       "      <td>0.0</td>\n",
       "      <td>1.0</td>\n",
       "      <td>0.0</td>\n",
       "      <td>1.0</td>\n",
       "      <td>0.0</td>\n",
       "      <td>0.0</td>\n",
       "      <td>0.0</td>\n",
       "      <td>0.0</td>\n",
       "      <td>1.0</td>\n",
       "    </tr>\n",
       "    <tr>\n",
       "      <th>8996</th>\n",
       "      <td>1.0</td>\n",
       "      <td>0.0</td>\n",
       "      <td>0.0</td>\n",
       "      <td>0.0</td>\n",
       "      <td>1.0</td>\n",
       "      <td>0.0</td>\n",
       "      <td>0.0</td>\n",
       "      <td>0.0</td>\n",
       "      <td>1.0</td>\n",
       "      <td>1.0</td>\n",
       "      <td>0.0</td>\n",
       "      <td>0.0</td>\n",
       "      <td>0.0</td>\n",
       "      <td>1.0</td>\n",
       "    </tr>\n",
       "  </tbody>\n",
       "</table>\n",
       "<p>8817 rows × 14 columns</p>\n",
       "</div>"
      ],
      "text/plain": [
       "      education_2nd Cycle  education_Graduation  education_Master  \\\n",
       "0                     0.0                   1.0               0.0   \n",
       "1                     0.0                   0.0               0.0   \n",
       "2                     0.0                   1.0               0.0   \n",
       "3                     0.0                   0.0               1.0   \n",
       "4                     0.0                   1.0               0.0   \n",
       "...                   ...                   ...               ...   \n",
       "8992                  0.0                   1.0               0.0   \n",
       "8993                  0.0                   0.0               0.0   \n",
       "8994                  1.0                   0.0               0.0   \n",
       "8995                  0.0                   1.0               0.0   \n",
       "8996                  1.0                   0.0               0.0   \n",
       "\n",
       "      education_PhD  status_Married  status_Single  status_Together  \\\n",
       "0               0.0             0.0            0.0              1.0   \n",
       "1               1.0             0.0            0.0              0.0   \n",
       "2               0.0             1.0            0.0              0.0   \n",
       "3               0.0             1.0            0.0              0.0   \n",
       "4               0.0             0.0            0.0              1.0   \n",
       "...             ...             ...            ...              ...   \n",
       "8992            0.0             1.0            0.0              0.0   \n",
       "8993            0.0             0.0            1.0              0.0   \n",
       "8994            0.0             0.0            1.0              0.0   \n",
       "8995            0.0             0.0            0.0              1.0   \n",
       "8996            0.0             1.0            0.0              0.0   \n",
       "\n",
       "      status_Widow  gender_M  dependents_1.0  description_Kind of OK  \\\n",
       "0              0.0       1.0             0.0                     0.0   \n",
       "1              0.0       0.0             0.0                     0.0   \n",
       "2              0.0       1.0             1.0                     1.0   \n",
       "3              0.0       0.0             1.0                     0.0   \n",
       "4              0.0       0.0             1.0                     0.0   \n",
       "...            ...       ...             ...                     ...   \n",
       "8992           0.0       1.0             1.0                     1.0   \n",
       "8993           0.0       0.0             1.0                     0.0   \n",
       "8994           0.0       1.0             1.0                     0.0   \n",
       "8995           0.0       1.0             0.0                     0.0   \n",
       "8996           0.0       1.0             1.0                     0.0   \n",
       "\n",
       "      description_Meh...  description_OK nice!  description_Take my money!!  \n",
       "0                    0.0                   0.0                          1.0  \n",
       "1                    0.0                   0.0                          1.0  \n",
       "2                    0.0                   0.0                          0.0  \n",
       "3                    0.0                   1.0                          0.0  \n",
       "4                    0.0                   0.0                          1.0  \n",
       "...                  ...                   ...                          ...  \n",
       "8992                 0.0                   0.0                          0.0  \n",
       "8993                 0.0                   0.0                          1.0  \n",
       "8994                 1.0                   0.0                          0.0  \n",
       "8995                 0.0                   0.0                          1.0  \n",
       "8996                 0.0                   0.0                          1.0  \n",
       "\n",
       "[8817 rows x 14 columns]"
      ]
     },
     "execution_count": 70,
     "metadata": {},
     "output_type": "execute_result"
    }
   ],
   "source": [
    "ohc_df = pd.DataFrame(ohc_feat, index=df_ohc.index, columns=ohc_feat_names)  # Why the index=df_ohc.index?\n",
    "ohc_df"
   ]
  },
  {
   "cell_type": "code",
   "execution_count": 71,
   "metadata": {},
   "outputs": [
    {
     "data": {
      "application/vnd.microsoft.datawrangler.viewer.v0+json": {
       "columns": [
        {
         "name": "index",
         "rawType": "int64",
         "type": "integer"
        },
        {
         "name": "age",
         "rawType": "int64",
         "type": "integer"
        },
        {
         "name": "income",
         "rawType": "float64",
         "type": "float"
        },
        {
         "name": "frq",
         "rawType": "float64",
         "type": "float"
        },
        {
         "name": "rcn",
         "rawType": "float64",
         "type": "float"
        },
        {
         "name": "mnt",
         "rawType": "int64",
         "type": "integer"
        },
        {
         "name": "clothes",
         "rawType": "float64",
         "type": "float"
        },
        {
         "name": "kitchen",
         "rawType": "float64",
         "type": "float"
        },
        {
         "name": "small_appliances",
         "rawType": "float64",
         "type": "float"
        },
        {
         "name": "toys",
         "rawType": "float64",
         "type": "float"
        },
        {
         "name": "house_keeping",
         "rawType": "float64",
         "type": "float"
        },
        {
         "name": "dependents",
         "rawType": "boolean",
         "type": "boolean"
        },
        {
         "name": "per_net_purchase",
         "rawType": "float64",
         "type": "float"
        },
        {
         "name": "gender",
         "rawType": "object",
         "type": "string"
        },
        {
         "name": "education",
         "rawType": "object",
         "type": "string"
        },
        {
         "name": "status",
         "rawType": "object",
         "type": "string"
        },
        {
         "name": "description",
         "rawType": "object",
         "type": "string"
        },
        {
         "name": "birth_year",
         "rawType": "int64",
         "type": "integer"
        },
        {
         "name": "spent_online",
         "rawType": "float64",
         "type": "float"
        },
        {
         "name": "education_2nd Cycle",
         "rawType": "float64",
         "type": "float"
        },
        {
         "name": "education_Graduation",
         "rawType": "float64",
         "type": "float"
        },
        {
         "name": "education_Master",
         "rawType": "float64",
         "type": "float"
        },
        {
         "name": "education_PhD",
         "rawType": "float64",
         "type": "float"
        },
        {
         "name": "status_Married",
         "rawType": "float64",
         "type": "float"
        },
        {
         "name": "status_Single",
         "rawType": "float64",
         "type": "float"
        },
        {
         "name": "status_Together",
         "rawType": "float64",
         "type": "float"
        },
        {
         "name": "status_Widow",
         "rawType": "float64",
         "type": "float"
        },
        {
         "name": "gender_M",
         "rawType": "float64",
         "type": "float"
        },
        {
         "name": "dependents_1.0",
         "rawType": "float64",
         "type": "float"
        },
        {
         "name": "description_Kind of OK",
         "rawType": "float64",
         "type": "float"
        },
        {
         "name": "description_Meh...",
         "rawType": "float64",
         "type": "float"
        },
        {
         "name": "description_OK nice!",
         "rawType": "float64",
         "type": "float"
        },
        {
         "name": "description_Take my money!!",
         "rawType": "float64",
         "type": "float"
        }
       ],
       "ref": "74cb7099-6643-4cca-a29a-4ef7a5f7ceb5",
       "rows": [
        [
         "0",
         "78",
         "0.7431616856025945",
         "1.1916045998703195",
         "0.4578189572617142",
         "1402",
         "-0.6170227719693344",
         "-0.24306463667234582",
         "1.216846989894269",
         "0.4958373443186762",
         "-0.49927358669174027",
         "False",
         "-1.2575595250878662",
         "M",
         "Graduation",
         "Together",
         "Take my money!!",
         "1946",
         "0.522054714581021",
         "0.0",
         "1.0",
         "0.0",
         "0.0",
         "0.0",
         "0.0",
         "1.0",
         "0.0",
         "1.0",
         "0.0",
         "0.0",
         "0.0",
         "0.0",
         "1.0"
        ],
        [
         "1",
         "88",
         "1.5594880236059183",
         "1.1000106313154348",
         "-1.5357227726797786",
         "1537",
         "0.16615966533354226",
         "-0.7902276931707367",
         "0.740463955339495",
         "-0.3743742201953605",
         "-0.6319067657776419",
         "False",
         "-1.7986492454979675",
         "F",
         "PhD",
         "Divorced",
         "Take my money!!",
         "1936",
         "-0.23757757587411182",
         "0.0",
         "0.0",
         "0.0",
         "1.0",
         "0.0",
         "0.0",
         "0.0",
         "0.0",
         "0.0",
         "0.0",
         "0.0",
         "0.0",
         "0.0",
         "1.0"
        ],
        [
         "2",
         "34",
         "-1.5485420998500168",
         "-0.8234627083371445",
         "0.5574960437587888",
         "44",
         "-0.8345734489979113",
         "1.6720060610720222",
         "-0.37109645862164464",
         "-0.8094800024523788",
         "2.2860231741121937",
         "True",
         "0.9067993565525392",
         "M",
         "Graduation",
         "Married",
         "Kind of OK",
         "1990",
         "-0.9041912461469996",
         "0.0",
         "1.0",
         "0.0",
         "0.0",
         "1.0",
         "0.0",
         "0.0",
         "0.0",
         "1.0",
         "1.0",
         "1.0",
         "0.0",
         "0.0",
         "0.0"
        ],
        [
         "3",
         "69",
         "0.8455282229296603",
         "0.5504468199861264",
         "-1.4028199906836791",
         "888",
         "0.38371034236211915",
         "0.4408891839506428",
         "-0.7680823207506231",
         "-0.08430369869068159",
         "-0.23400722851993705",
         "True",
         "-0.391815972431704",
         "F",
         "Master",
         "Married",
         "OK nice!",
         "1955",
         "0.7855679230309782",
         "0.0",
         "0.0",
         "1.0",
         "0.0",
         "1.0",
         "0.0",
         "0.0",
         "0.0",
         "0.0",
         "1.0",
         "0.0",
         "0.0",
         "1.0",
         "0.0"
        ],
        [
         "4",
         "69",
         "0.7824346131536739",
         "1.00841666276055",
         "-0.8712088626992811",
         "1138",
         "0.34020020695640374",
         "-0.24306463667234582",
         "-0.05350776891846189",
         "-0.3743742201953605",
         "-0.36664040760583866",
         "True",
         "-0.44592494447271414",
         "F",
         "Graduation",
         "Together",
         "Take my money!!",
         "1955",
         "1.2371353572320303",
         "0.0",
         "1.0",
         "0.0",
         "0.0",
         "0.0",
         "0.0",
         "1.0",
         "0.0",
         "0.0",
         "1.0",
         "0.0",
         "0.0",
         "0.0",
         "1.0"
        ]
       ],
       "shape": {
        "columns": 32,
        "rows": 5
       }
      },
      "text/html": [
       "<div>\n",
       "<style scoped>\n",
       "    .dataframe tbody tr th:only-of-type {\n",
       "        vertical-align: middle;\n",
       "    }\n",
       "\n",
       "    .dataframe tbody tr th {\n",
       "        vertical-align: top;\n",
       "    }\n",
       "\n",
       "    .dataframe thead th {\n",
       "        text-align: right;\n",
       "    }\n",
       "</style>\n",
       "<table border=\"1\" class=\"dataframe\">\n",
       "  <thead>\n",
       "    <tr style=\"text-align: right;\">\n",
       "      <th></th>\n",
       "      <th>age</th>\n",
       "      <th>income</th>\n",
       "      <th>frq</th>\n",
       "      <th>rcn</th>\n",
       "      <th>mnt</th>\n",
       "      <th>clothes</th>\n",
       "      <th>kitchen</th>\n",
       "      <th>small_appliances</th>\n",
       "      <th>toys</th>\n",
       "      <th>house_keeping</th>\n",
       "      <th>...</th>\n",
       "      <th>status_Married</th>\n",
       "      <th>status_Single</th>\n",
       "      <th>status_Together</th>\n",
       "      <th>status_Widow</th>\n",
       "      <th>gender_M</th>\n",
       "      <th>dependents_1.0</th>\n",
       "      <th>description_Kind of OK</th>\n",
       "      <th>description_Meh...</th>\n",
       "      <th>description_OK nice!</th>\n",
       "      <th>description_Take my money!!</th>\n",
       "    </tr>\n",
       "  </thead>\n",
       "  <tbody>\n",
       "    <tr>\n",
       "      <th>0</th>\n",
       "      <td>78</td>\n",
       "      <td>0.743162</td>\n",
       "      <td>1.191605</td>\n",
       "      <td>0.457819</td>\n",
       "      <td>1402</td>\n",
       "      <td>-0.617023</td>\n",
       "      <td>-0.243065</td>\n",
       "      <td>1.216847</td>\n",
       "      <td>0.495837</td>\n",
       "      <td>-0.499274</td>\n",
       "      <td>...</td>\n",
       "      <td>0.0</td>\n",
       "      <td>0.0</td>\n",
       "      <td>1.0</td>\n",
       "      <td>0.0</td>\n",
       "      <td>1.0</td>\n",
       "      <td>0.0</td>\n",
       "      <td>0.0</td>\n",
       "      <td>0.0</td>\n",
       "      <td>0.0</td>\n",
       "      <td>1.0</td>\n",
       "    </tr>\n",
       "    <tr>\n",
       "      <th>1</th>\n",
       "      <td>88</td>\n",
       "      <td>1.559488</td>\n",
       "      <td>1.100011</td>\n",
       "      <td>-1.535723</td>\n",
       "      <td>1537</td>\n",
       "      <td>0.166160</td>\n",
       "      <td>-0.790228</td>\n",
       "      <td>0.740464</td>\n",
       "      <td>-0.374374</td>\n",
       "      <td>-0.631907</td>\n",
       "      <td>...</td>\n",
       "      <td>0.0</td>\n",
       "      <td>0.0</td>\n",
       "      <td>0.0</td>\n",
       "      <td>0.0</td>\n",
       "      <td>0.0</td>\n",
       "      <td>0.0</td>\n",
       "      <td>0.0</td>\n",
       "      <td>0.0</td>\n",
       "      <td>0.0</td>\n",
       "      <td>1.0</td>\n",
       "    </tr>\n",
       "    <tr>\n",
       "      <th>2</th>\n",
       "      <td>34</td>\n",
       "      <td>-1.548542</td>\n",
       "      <td>-0.823463</td>\n",
       "      <td>0.557496</td>\n",
       "      <td>44</td>\n",
       "      <td>-0.834573</td>\n",
       "      <td>1.672006</td>\n",
       "      <td>-0.371096</td>\n",
       "      <td>-0.809480</td>\n",
       "      <td>2.286023</td>\n",
       "      <td>...</td>\n",
       "      <td>1.0</td>\n",
       "      <td>0.0</td>\n",
       "      <td>0.0</td>\n",
       "      <td>0.0</td>\n",
       "      <td>1.0</td>\n",
       "      <td>1.0</td>\n",
       "      <td>1.0</td>\n",
       "      <td>0.0</td>\n",
       "      <td>0.0</td>\n",
       "      <td>0.0</td>\n",
       "    </tr>\n",
       "    <tr>\n",
       "      <th>3</th>\n",
       "      <td>69</td>\n",
       "      <td>0.845528</td>\n",
       "      <td>0.550447</td>\n",
       "      <td>-1.402820</td>\n",
       "      <td>888</td>\n",
       "      <td>0.383710</td>\n",
       "      <td>0.440889</td>\n",
       "      <td>-0.768082</td>\n",
       "      <td>-0.084304</td>\n",
       "      <td>-0.234007</td>\n",
       "      <td>...</td>\n",
       "      <td>1.0</td>\n",
       "      <td>0.0</td>\n",
       "      <td>0.0</td>\n",
       "      <td>0.0</td>\n",
       "      <td>0.0</td>\n",
       "      <td>1.0</td>\n",
       "      <td>0.0</td>\n",
       "      <td>0.0</td>\n",
       "      <td>1.0</td>\n",
       "      <td>0.0</td>\n",
       "    </tr>\n",
       "    <tr>\n",
       "      <th>4</th>\n",
       "      <td>69</td>\n",
       "      <td>0.782435</td>\n",
       "      <td>1.008417</td>\n",
       "      <td>-0.871209</td>\n",
       "      <td>1138</td>\n",
       "      <td>0.340200</td>\n",
       "      <td>-0.243065</td>\n",
       "      <td>-0.053508</td>\n",
       "      <td>-0.374374</td>\n",
       "      <td>-0.366640</td>\n",
       "      <td>...</td>\n",
       "      <td>0.0</td>\n",
       "      <td>0.0</td>\n",
       "      <td>1.0</td>\n",
       "      <td>0.0</td>\n",
       "      <td>0.0</td>\n",
       "      <td>1.0</td>\n",
       "      <td>0.0</td>\n",
       "      <td>0.0</td>\n",
       "      <td>0.0</td>\n",
       "      <td>1.0</td>\n",
       "    </tr>\n",
       "  </tbody>\n",
       "</table>\n",
       "<p>5 rows × 32 columns</p>\n",
       "</div>"
      ],
      "text/plain": [
       "   age    income       frq       rcn   mnt   clothes   kitchen  \\\n",
       "0   78  0.743162  1.191605  0.457819  1402 -0.617023 -0.243065   \n",
       "1   88  1.559488  1.100011 -1.535723  1537  0.166160 -0.790228   \n",
       "2   34 -1.548542 -0.823463  0.557496    44 -0.834573  1.672006   \n",
       "3   69  0.845528  0.550447 -1.402820   888  0.383710  0.440889   \n",
       "4   69  0.782435  1.008417 -0.871209  1138  0.340200 -0.243065   \n",
       "\n",
       "   small_appliances      toys  house_keeping  ...  status_Married  \\\n",
       "0          1.216847  0.495837      -0.499274  ...             0.0   \n",
       "1          0.740464 -0.374374      -0.631907  ...             0.0   \n",
       "2         -0.371096 -0.809480       2.286023  ...             1.0   \n",
       "3         -0.768082 -0.084304      -0.234007  ...             1.0   \n",
       "4         -0.053508 -0.374374      -0.366640  ...             0.0   \n",
       "\n",
       "   status_Single status_Together status_Widow gender_M dependents_1.0  \\\n",
       "0            0.0             1.0          0.0      1.0            0.0   \n",
       "1            0.0             0.0          0.0      0.0            0.0   \n",
       "2            0.0             0.0          0.0      1.0            1.0   \n",
       "3            0.0             0.0          0.0      0.0            1.0   \n",
       "4            0.0             1.0          0.0      0.0            1.0   \n",
       "\n",
       "   description_Kind of OK  description_Meh...  description_OK nice!  \\\n",
       "0                     0.0                 0.0                   0.0   \n",
       "1                     0.0                 0.0                   0.0   \n",
       "2                     1.0                 0.0                   0.0   \n",
       "3                     0.0                 0.0                   1.0   \n",
       "4                     0.0                 0.0                   0.0   \n",
       "\n",
       "   description_Take my money!!  \n",
       "0                          1.0  \n",
       "1                          1.0  \n",
       "2                          0.0  \n",
       "3                          0.0  \n",
       "4                          1.0  \n",
       "\n",
       "[5 rows x 32 columns]"
      ]
     },
     "execution_count": 71,
     "metadata": {},
     "output_type": "execute_result"
    }
   ],
   "source": [
    "# Reassigning df to contain ohc variables\n",
    "df_ohc = pd.concat([df_ohc, ohc_df], axis=1)\n",
    "df_ohc.head()"
   ]
  },
  {
   "cell_type": "code",
   "execution_count": 72,
   "metadata": {},
   "outputs": [],
   "source": [
    "df = df_ohc.copy()"
   ]
  },
  {
   "cell_type": "code",
   "execution_count": 73,
   "metadata": {},
   "outputs": [
    {
     "data": {
      "text/plain": [
       "['age',\n",
       " 'income',\n",
       " 'frq',\n",
       " 'rcn',\n",
       " 'mnt',\n",
       " 'clothes',\n",
       " 'kitchen',\n",
       " 'small_appliances',\n",
       " 'toys',\n",
       " 'house_keeping',\n",
       " 'dependents',\n",
       " 'per_net_purchase',\n",
       " 'gender',\n",
       " 'education',\n",
       " 'status',\n",
       " 'description',\n",
       " 'birth_year',\n",
       " 'spent_online',\n",
       " 'education_2nd Cycle',\n",
       " 'education_Graduation',\n",
       " 'education_Master',\n",
       " 'education_PhD',\n",
       " 'status_Married',\n",
       " 'status_Single',\n",
       " 'status_Together',\n",
       " 'status_Widow',\n",
       " 'gender_M',\n",
       " 'dependents_1.0',\n",
       " 'description_Kind of OK',\n",
       " 'description_Meh...',\n",
       " 'description_OK nice!',\n",
       " 'description_Take my money!!']"
      ]
     },
     "execution_count": 73,
     "metadata": {},
     "output_type": "execute_result"
    }
   ],
   "source": [
    "list(df.columns)"
   ]
  },
  {
   "cell_type": "code",
   "execution_count": 74,
   "metadata": {},
   "outputs": [],
   "source": [
    "# You can also choose to drop the original non_metric_features from your df\n",
    "# df.drop(columns=non_metric_features)"
   ]
  },
  {
   "cell_type": "markdown",
   "metadata": {},
   "source": [
    "### Rename OHE columns"
   ]
  },
  {
   "cell_type": "code",
   "execution_count": 75,
   "metadata": {},
   "outputs": [],
   "source": [
    "## Rename OHE columns from \"feature_val_a\" to \"oh_feature_val_a\"\n",
    "## e.g. status_Widow to oh_status_Widow\n",
    "## We do this to be able to distinguish the OHE columns more easily later\n",
    "\n",
    "## Assemble OHE columns and their new column names\n",
    "rename_ohe_cols = {}\n",
    "\n",
    "for i in non_metric_features:\n",
    "    for j in df.columns[df.columns.str.startswith(i)].to_list() :\n",
    "        if j not in non_metric_features:\n",
    "            rename_ohe_cols[j] = 'oh_' + j\n",
    "\n",
    "df.rename(columns=rename_ohe_cols, inplace=True)\n"
   ]
  },
  {
   "cell_type": "code",
   "execution_count": 76,
   "metadata": {},
   "outputs": [
    {
     "data": {
      "application/vnd.microsoft.datawrangler.viewer.v0+json": {
       "columns": [
        {
         "name": "index",
         "rawType": "int64",
         "type": "integer"
        },
        {
         "name": "age",
         "rawType": "int64",
         "type": "integer"
        },
        {
         "name": "income",
         "rawType": "float64",
         "type": "float"
        },
        {
         "name": "frq",
         "rawType": "float64",
         "type": "float"
        },
        {
         "name": "rcn",
         "rawType": "float64",
         "type": "float"
        },
        {
         "name": "mnt",
         "rawType": "int64",
         "type": "integer"
        },
        {
         "name": "clothes",
         "rawType": "float64",
         "type": "float"
        },
        {
         "name": "kitchen",
         "rawType": "float64",
         "type": "float"
        },
        {
         "name": "small_appliances",
         "rawType": "float64",
         "type": "float"
        },
        {
         "name": "toys",
         "rawType": "float64",
         "type": "float"
        },
        {
         "name": "house_keeping",
         "rawType": "float64",
         "type": "float"
        },
        {
         "name": "dependents",
         "rawType": "boolean",
         "type": "boolean"
        },
        {
         "name": "per_net_purchase",
         "rawType": "float64",
         "type": "float"
        },
        {
         "name": "gender",
         "rawType": "object",
         "type": "string"
        },
        {
         "name": "education",
         "rawType": "object",
         "type": "string"
        },
        {
         "name": "status",
         "rawType": "object",
         "type": "string"
        },
        {
         "name": "description",
         "rawType": "object",
         "type": "string"
        },
        {
         "name": "birth_year",
         "rawType": "int64",
         "type": "integer"
        },
        {
         "name": "spent_online",
         "rawType": "float64",
         "type": "float"
        },
        {
         "name": "oh_education_2nd Cycle",
         "rawType": "float64",
         "type": "float"
        },
        {
         "name": "oh_education_Graduation",
         "rawType": "float64",
         "type": "float"
        },
        {
         "name": "oh_education_Master",
         "rawType": "float64",
         "type": "float"
        },
        {
         "name": "oh_education_PhD",
         "rawType": "float64",
         "type": "float"
        },
        {
         "name": "oh_status_Married",
         "rawType": "float64",
         "type": "float"
        },
        {
         "name": "oh_status_Single",
         "rawType": "float64",
         "type": "float"
        },
        {
         "name": "oh_status_Together",
         "rawType": "float64",
         "type": "float"
        },
        {
         "name": "oh_status_Widow",
         "rawType": "float64",
         "type": "float"
        },
        {
         "name": "oh_gender_M",
         "rawType": "float64",
         "type": "float"
        },
        {
         "name": "oh_dependents_1.0",
         "rawType": "float64",
         "type": "float"
        },
        {
         "name": "oh_description_Kind of OK",
         "rawType": "float64",
         "type": "float"
        },
        {
         "name": "oh_description_Meh...",
         "rawType": "float64",
         "type": "float"
        },
        {
         "name": "oh_description_OK nice!",
         "rawType": "float64",
         "type": "float"
        },
        {
         "name": "oh_description_Take my money!!",
         "rawType": "float64",
         "type": "float"
        }
       ],
       "ref": "3cd93a1b-4d07-417c-8c0a-81e25c0185c2",
       "rows": [
        [
         "0",
         "78",
         "0.7431616856025945",
         "1.1916045998703195",
         "0.4578189572617142",
         "1402",
         "-0.6170227719693344",
         "-0.24306463667234582",
         "1.216846989894269",
         "0.4958373443186762",
         "-0.49927358669174027",
         "False",
         "-1.2575595250878662",
         "M",
         "Graduation",
         "Together",
         "Take my money!!",
         "1946",
         "0.522054714581021",
         "0.0",
         "1.0",
         "0.0",
         "0.0",
         "0.0",
         "0.0",
         "1.0",
         "0.0",
         "1.0",
         "0.0",
         "0.0",
         "0.0",
         "0.0",
         "1.0"
        ],
        [
         "1",
         "88",
         "1.5594880236059183",
         "1.1000106313154348",
         "-1.5357227726797786",
         "1537",
         "0.16615966533354226",
         "-0.7902276931707367",
         "0.740463955339495",
         "-0.3743742201953605",
         "-0.6319067657776419",
         "False",
         "-1.7986492454979675",
         "F",
         "PhD",
         "Divorced",
         "Take my money!!",
         "1936",
         "-0.23757757587411182",
         "0.0",
         "0.0",
         "0.0",
         "1.0",
         "0.0",
         "0.0",
         "0.0",
         "0.0",
         "0.0",
         "0.0",
         "0.0",
         "0.0",
         "0.0",
         "1.0"
        ],
        [
         "2",
         "34",
         "-1.5485420998500168",
         "-0.8234627083371445",
         "0.5574960437587888",
         "44",
         "-0.8345734489979113",
         "1.6720060610720222",
         "-0.37109645862164464",
         "-0.8094800024523788",
         "2.2860231741121937",
         "True",
         "0.9067993565525392",
         "M",
         "Graduation",
         "Married",
         "Kind of OK",
         "1990",
         "-0.9041912461469996",
         "0.0",
         "1.0",
         "0.0",
         "0.0",
         "1.0",
         "0.0",
         "0.0",
         "0.0",
         "1.0",
         "1.0",
         "1.0",
         "0.0",
         "0.0",
         "0.0"
        ],
        [
         "3",
         "69",
         "0.8455282229296603",
         "0.5504468199861264",
         "-1.4028199906836791",
         "888",
         "0.38371034236211915",
         "0.4408891839506428",
         "-0.7680823207506231",
         "-0.08430369869068159",
         "-0.23400722851993705",
         "True",
         "-0.391815972431704",
         "F",
         "Master",
         "Married",
         "OK nice!",
         "1955",
         "0.7855679230309782",
         "0.0",
         "0.0",
         "1.0",
         "0.0",
         "1.0",
         "0.0",
         "0.0",
         "0.0",
         "0.0",
         "1.0",
         "0.0",
         "0.0",
         "1.0",
         "0.0"
        ],
        [
         "4",
         "69",
         "0.7824346131536739",
         "1.00841666276055",
         "-0.8712088626992811",
         "1138",
         "0.34020020695640374",
         "-0.24306463667234582",
         "-0.05350776891846189",
         "-0.3743742201953605",
         "-0.36664040760583866",
         "True",
         "-0.44592494447271414",
         "F",
         "Graduation",
         "Together",
         "Take my money!!",
         "1955",
         "1.2371353572320303",
         "0.0",
         "1.0",
         "0.0",
         "0.0",
         "0.0",
         "0.0",
         "1.0",
         "0.0",
         "0.0",
         "1.0",
         "0.0",
         "0.0",
         "0.0",
         "1.0"
        ],
        [
         "5",
         "42",
         "-1.7672225693353727",
         "-0.5486808026724903",
         "0.4245932617626893",
         "56",
         "-0.18192141791218072",
         "-0.6534369290461389",
         "1.5344356795974519",
         "-0.6644447417000394",
         "-0.7645399448635435",
         "True",
         "1.3396711328806203",
         "M",
         "PhD",
         "Single",
         "OK nice!",
         "1982",
         "-0.8356137430024363",
         "0.0",
         "0.0",
         "0.0",
         "1.0",
         "0.0",
         "1.0",
         "0.0",
         "0.0",
         "1.0",
         "1.0",
         "0.0",
         "0.0",
         "1.0",
         "0.0"
        ],
        [
         "6",
         "55",
         "-0.038516387346319",
         "-0.18230492845295138",
         "0.6903988257548883",
         "345",
         "0.8623218318249882",
         "0.03051689157684963",
         "-1.2444653553053973",
         "-0.8094800024523788",
         "0.16389230873776778",
         "True",
         "0.20338272001940746",
         "M",
         "Graduation",
         "Together",
         "OK nice!",
         "1969",
         "-0.11673642197664176",
         "0.0",
         "1.0",
         "0.0",
         "0.0",
         "0.0",
         "0.0",
         "1.0",
         "0.0",
         "1.0",
         "1.0",
         "0.0",
         "0.0",
         "1.0",
         "0.0"
        ],
        [
         "7",
         "64",
         "-0.0709257284936116",
         "-1.3730265196664528",
         "-0.2731463437168332",
         "41",
         "1.427953592099288",
         "-0.7902276931707367",
         "-1.3238625277311928",
         "-0.6644447417000394",
         "-0.8971731239494452",
         "True",
         "-0.28359802834968373",
         "M",
         "Graduation",
         "Together",
         "Horrible",
         "1960",
         "-0.9682008706218993",
         "0.0",
         "1.0",
         "0.0",
         "0.0",
         "0.0",
         "0.0",
         "1.0",
         "0.0",
         "1.0",
         "1.0",
         "0.0",
         "0.0",
         "0.0",
         "0.0"
        ],
        [
         "8",
         "84",
         "1.4301442883816158",
         "0.9168226942056653",
         "0.7568502167529381",
         "1401",
         "-0.5735126365636191",
         "0.3040984198260451",
         "0.502272438062108",
         "0.35080208356633674",
         "0.2965254878236694",
         "False",
         "-1.3657774691698865",
         "M",
         "Graduation",
         "Divorced",
         "OK nice!",
         "1940",
         "0.3547042505924282",
         "0.0",
         "1.0",
         "0.0",
         "0.0",
         "0.0",
         "0.0",
         "0.0",
         "0.0",
         "1.0",
         "0.0",
         "0.0",
         "0.0",
         "1.0",
         "0.0"
        ],
        [
         "10",
         "75",
         "0.9894433153855315",
         "0.0008830086568180658",
         "1.354912735735386",
         "774",
         "-0.6170227719693344",
         "1.261633768698229",
         "0.3434780932105166",
         "0.35080208356633674",
         "-0.23400722851993705",
         "False",
         "-1.4739954132519066",
         "M",
         "Master",
         "Single",
         "OK nice!",
         "1949",
         "-0.3694528262983025",
         "0.0",
         "0.0",
         "1.0",
         "0.0",
         "0.0",
         "1.0",
         "0.0",
         "0.0",
         "1.0",
         "0.0",
         "0.0",
         "0.0",
         "1.0",
         "0.0"
        ],
        [
         "11",
         "67",
         "0.17990715644477762",
         "-0.2738988970078361",
         "-0.6718546897051318",
         "491",
         "0.38371034236211915",
         "-0.3798554007969435",
         "0.3434780932105166",
         "-0.6644447417000394",
         "-0.7645399448635435",
         "True",
         "-0.7164698046777648",
         "M",
         "Graduation",
         "Together",
         "OK nice!",
         "1957",
         "-0.21349239743406637",
         "0.0",
         "1.0",
         "0.0",
         "0.0",
         "0.0",
         "0.0",
         "1.0",
         "0.0",
         "1.0",
         "1.0",
         "0.0",
         "0.0",
         "1.0",
         "0.0"
        ],
        [
         "12",
         "70",
         "0.9194861192057584",
         "1.1000106313154348",
         "0.05911061127341558",
         "1407",
         "-1.0521241260264882",
         "-0.5166461649215413",
         "0.8198611277652907",
         "1.9461899518420707",
         "0.5617918459954726",
         "False",
         "-1.0411236369238257",
         "F",
         "2nd Cycle",
         "Widow",
         "Take my money!!",
         "1954",
         "0.8615608136262946",
         "1.0",
         "0.0",
         "0.0",
         "0.0",
         "0.0",
         "0.0",
         "0.0",
         "1.0",
         "0.0",
         "0.0",
         "0.0",
         "0.0",
         "0.0",
         "1.0"
        ],
        [
         "13",
         "45",
         "-0.46016815529659927",
         "-0.9150566768920292",
         "-0.8047574717012314",
         "81",
         "1.1233826442592805",
         "-0.9270184572953344",
         "-0.6092879758990317",
         "-0.8094800024523788",
         "-0.8971731239494452",
         "True",
         "0.5280365522654683",
         "M",
         "Graduation",
         "Married",
         "Meh...",
         "1979",
         "-0.8083251171836655",
         "0.0",
         "1.0",
         "0.0",
         "0.0",
         "1.0",
         "0.0",
         "0.0",
         "0.0",
         "1.0",
         "1.0",
         "0.0",
         "1.0",
         "0.0",
         "0.0"
        ],
        [
         "14",
         "42",
         "-0.7430800483468047",
         "-0.9150566768920292",
         "1.5874926042285602",
         "20",
         "-0.2254315533178961",
         "-0.9270184572953344",
         "0.3434780932105166",
         "1.366048908832713",
         "-0.23400722851993705",
         "True",
         "1.5019980490036506",
         "M",
         "PhD",
         "Together",
         "Meh...",
         "1982",
         "-0.975141673275804",
         "0.0",
         "0.0",
         "0.0",
         "1.0",
         "0.0",
         "0.0",
         "1.0",
         "0.0",
         "1.0",
         "1.0",
         "0.0",
         "1.0",
         "0.0",
         "0.0"
        ],
        [
         "15",
         "32",
         "-1.853219269571054",
         "-1.3730265196664528",
         "-0.5057262122100074",
         "16",
         "-1.965836969546511",
         "2.9031229381934014",
         "0.502272438062108",
         "3.1064720378607866",
         "-0.49927358669174027",
         "False",
         "0.47392758022445813",
         "M",
         "Graduation",
         "Single",
         "Kind of OK",
         "1992",
         "-1.0097863634457218",
         "0.0",
         "1.0",
         "0.0",
         "0.0",
         "0.0",
         "1.0",
         "0.0",
         "0.0",
         "1.0",
         "0.0",
         "1.0",
         "0.0",
         "0.0",
         "0.0"
        ],
        [
         "16",
         "86",
         "1.550018476588929",
         "2.1991382539740516",
         "0.6571731302558634",
         "2039",
         "-1.4002052092722113",
         "-0.7902276931707367",
         "0.502272438062108",
         "1.075978387328034",
         "3.214455427713505",
         "False",
         "-1.0411236369238257",
         "M",
         "2nd Cycle",
         "Together",
         "OK nice!",
         "1938",
         "1.7238813894994547",
         "1.0",
         "0.0",
         "0.0",
         "0.0",
         "0.0",
         "0.0",
         "1.0",
         "0.0",
         "1.0",
         "0.0",
         "0.0",
         "0.0",
         "1.0",
         "0.0"
        ],
        [
         "17",
         "34",
         "-1.6294002862005101",
         "-1.0982446140017987",
         "-0.0073407797246341795",
         "36",
         "-1.4002052092722113",
         "1.3984245328228266",
         "-0.05350776891846189",
         "2.3812957340990892",
         "0.6944250250813743",
         "False",
         "0.419818608183448",
         "M",
         "Graduation",
         "Together",
         "Meh...",
         "1990",
         "-0.9514124334333945",
         "0.0",
         "1.0",
         "0.0",
         "0.0",
         "0.0",
         "0.0",
         "1.0",
         "0.0",
         "1.0",
         "0.0",
         "0.0",
         "1.0",
         "0.0",
         "0.0"
        ],
        [
         "18",
         "36",
         "-1.0860758501831007",
         "-0.9150566768920292",
         "0.49104465276073905",
         "52",
         "-0.9215937198093421",
         "0.7144707121998383",
         "1.3756413347458605",
         "0.35080208356633674",
         "-0.49927358669174027",
         "True",
         "0.9609083285935494",
         "M",
         "2nd Cycle",
         "Together",
         "Meh...",
         "1988",
         "-0.8731059419534434",
         "1.0",
         "0.0",
         "0.0",
         "0.0",
         "0.0",
         "0.0",
         "1.0",
         "0.0",
         "1.0",
         "1.0",
         "0.0",
         "1.0",
         "0.0",
         "0.0"
        ],
        [
         "19",
         "77",
         "0.70546701588768",
         "-0.6402747712273751",
         "-0.2731463437168332",
         "394",
         "-1.7047761571122189",
         "-0.3798554007969435",
         "-1.1650681828796015",
         "3.9766836023748233",
         "3.877621323143013",
         "False",
         "-1.4739954132519066",
         "M",
         "1st Cycle",
         "Married",
         "Meh...",
         "1947",
         "-0.7075944940526373",
         "0.0",
         "0.0",
         "0.0",
         "0.0",
         "1.0",
         "0.0",
         "0.0",
         "0.0",
         "1.0",
         "0.0",
         "0.0",
         "1.0",
         "0.0",
         "0.0"
        ],
        [
         "20",
         "29",
         "-0.9962252645335284",
         "-0.7318687397822597",
         "-1.6021741636778284",
         "118",
         "-2.0093471049522265",
         "3.039913702317999",
         "-1.00627383802801",
         "0.7859078658233551",
         "4.142887681314816",
         "False",
         "0.798581412470519",
         "M",
         "1st Cycle",
         "Widow",
         "Meh...",
         "1995",
         "-0.659186844774122",
         "0.0",
         "0.0",
         "0.0",
         "0.0",
         "0.0",
         "0.0",
         "0.0",
         "1.0",
         "1.0",
         "0.0",
         "0.0",
         "1.0",
         "0.0",
         "0.0"
        ],
        [
         "21",
         "42",
         "-0.7346749077774616",
         "-1.006650645446914",
         "-0.33959773471488297",
         "52",
         "-1.269674803055065",
         "0.5776799480752405",
         "1.772627196874839",
         "0.35080208356633674",
         "0.031259129651866176",
         "True",
         "0.798581412470519",
         "F",
         "Graduation",
         "Together",
         "OK nice!",
         "1982",
         "-0.882360345491983",
         "0.0",
         "1.0",
         "0.0",
         "0.0",
         "0.0",
         "0.0",
         "1.0",
         "0.0",
         "0.0",
         "1.0",
         "0.0",
         "0.0",
         "1.0",
         "0.0"
        ],
        [
         "22",
         "43",
         "-1.075284971024206",
         "-0.18230492845295138",
         "0.22523908876853999",
         "304",
         "0.6882812902021267",
         "-0.3798554007969435",
         "-0.45049363104744033",
         "-0.5194094809477",
         "-0.36664040760583866",
         "True",
         "0.9609083285935494",
         "F",
         "Master",
         "Married",
         "Kind of OK",
         "1981",
         "0.023859324089634402",
         "0.0",
         "0.0",
         "1.0",
         "0.0",
         "1.0",
         "0.0",
         "0.0",
         "0.0",
         "0.0",
         "1.0",
         "1.0",
         "0.0",
         "0.0",
         "0.0"
        ],
        [
         "23",
         "78",
         "1.2561321860267864",
         "1.1916045998703195",
         "-1.2699172086875796",
         "1595",
         "-0.7040430427807652",
         "-0.24306463667234582",
         "0.8198611277652907",
         "0.4958373443186762",
         "0.5617918459954726",
         "False",
         "-1.6363223293749372",
         "M",
         "2nd Cycle",
         "Married",
         "Take my money!!",
         "1946",
         "0.07725011373505569",
         "1.0",
         "0.0",
         "0.0",
         "0.0",
         "1.0",
         "0.0",
         "0.0",
         "0.0",
         "1.0",
         "0.0",
         "0.0",
         "0.0",
         "0.0",
         "1.0"
        ],
        [
         "24",
         "53",
         "-0.40195613371154143",
         "-0.9150566768920292",
         "1.5542669087295353",
         "65",
         "0.8188116964192729",
         "-0.7902276931707367",
         "-0.21230211377005326",
         "-0.9545152632047184",
         "-0.49927358669174027",
         "True",
         "1.2855621608396102",
         "F",
         "Master",
         "Together",
         "Kind of OK",
         "1971",
         "-0.8036979154143956",
         "0.0",
         "0.0",
         "1.0",
         "0.0",
         "0.0",
         "0.0",
         "1.0",
         "0.0",
         "0.0",
         "1.0",
         "1.0",
         "0.0",
         "0.0",
         "0.0"
        ],
        [
         "25",
         "48",
         "-1.354379682331129",
         "-0.9150566768920292",
         "-1.170240122190505",
         "41",
         "0.5142407485792653",
         "-0.5166461649215413",
         "-0.8474794931764188",
         "0.35080208356633674",
         "0.031259129651866176",
         "True",
         "0.47392758022445813",
         "M",
         "Graduation",
         "Married",
         "Kind of OK",
         "1976",
         "-0.9341494114480416",
         "0.0",
         "1.0",
         "0.0",
         "0.0",
         "1.0",
         "0.0",
         "0.0",
         "0.0",
         "1.0",
         "1.0",
         "1.0",
         "0.0",
         "0.0",
         "0.0"
        ],
        [
         "26",
         "63",
         "0.7404456139775666",
         "0.4588528514312417",
         "0.29169047976658974",
         "767",
         "1.079872508853565",
         "-0.5166461649215413",
         "-1.0856710104538059",
         "-0.3743742201953605",
         "-0.49927358669174027",
         "False",
         "0.5280365522654683",
         "M",
         "2nd Cycle",
         "Married",
         "Kind of OK",
         "1961",
         "1.3078484919624103",
         "1.0",
         "0.0",
         "0.0",
         "0.0",
         "1.0",
         "0.0",
         "0.0",
         "0.0",
         "1.0",
         "0.0",
         "1.0",
         "0.0",
         "0.0",
         "0.0"
        ],
        [
         "27",
         "38",
         "-1.4526354085500444",
         "-1.006650645446914",
         "1.5874926042285602",
         "19",
         "1.1233826442592805",
         "-0.6534369290461389",
         "-0.9268766656022145",
         "-0.9545152632047184",
         "-0.36664040760583866",
         "True",
         "1.1773442167575898",
         "F",
         "Master",
         "Married",
         "Meh...",
         "1986",
         "-0.9860571236033124",
         "0.0",
         "0.0",
         "1.0",
         "0.0",
         "1.0",
         "0.0",
         "0.0",
         "0.0",
         "0.0",
         "1.0",
         "0.0",
         "1.0",
         "0.0",
         "0.0"
        ],
        [
         "28",
         "84",
         "1.8149088673703682",
         "1.5579804740898584",
         "-0.0073407797246341795",
         "1852",
         "-1.3566950738664958",
         "-0.5166461649215413",
         "1.5344356795974519",
         "1.2210136480803735",
         "0.9596913832531775",
         "False",
         "-1.582213357333927",
         "F",
         "2nd Cycle",
         "Widow",
         "Take my money!!",
         "1940",
         "0.3700689333903884",
         "1.0",
         "0.0",
         "0.0",
         "0.0",
         "0.0",
         "0.0",
         "0.0",
         "1.0",
         "0.0",
         "0.0",
         "0.0",
         "0.0",
         "0.0",
         "1.0"
        ],
        [
         "29",
         "42",
         "-0.5948706264297406",
         "-1.0982446140017987",
         "-1.0373373401944055",
         "47",
         "-1.3566950738664958",
         "0.9880522404490336",
         "0.8198611277652907",
         "1.366048908832713",
         "0.5617918459954726",
         "True",
         "1.0691262726755697",
         "M",
         "2nd Cycle",
         "Single",
         "Kind of OK",
         "1982",
         "-0.8853265004722841",
         "1.0",
         "0.0",
         "0.0",
         "0.0",
         "0.0",
         "1.0",
         "0.0",
         "0.0",
         "1.0",
         "1.0",
         "1.0",
         "0.0",
         "0.0",
         "0.0"
        ],
        [
         "30",
         "51",
         "-0.17186082266694644",
         "-0.9150566768920292",
         "0.09233630677244047",
         "63",
         "0.5577508839849806",
         "-0.7902276931707367",
         "0.18468374835892518",
         "-0.6644447417000394",
         "-0.6319067657776419",
         "True",
         "0.798581412470519",
         "M",
         "Graduation",
         "Single",
         "Kind of OK",
         "1973",
         "-0.8451647620390061",
         "0.0",
         "1.0",
         "0.0",
         "0.0",
         "0.0",
         "1.0",
         "0.0",
         "0.0",
         "1.0",
         "1.0",
         "1.0",
         "0.0",
         "0.0",
         "0.0"
        ],
        [
         "31",
         "57",
         "-0.030147950447584327",
         "1.5579804740898584",
         "0.3913675662636644",
         "1340",
         "1.297423185882142",
         "-0.7902276931707367",
         "-1.6414512174343756",
         "-0.3743742201953605",
         "-0.23400722851993705",
         "True",
         "1.0150173006345595",
         "M",
         "Graduation",
         "Divorced",
         "Take my money!!",
         "1967",
         "3.7908761490721368",
         "0.0",
         "1.0",
         "0.0",
         "0.0",
         "0.0",
         "0.0",
         "0.0",
         "0.0",
         "1.0",
         "1.0",
         "0.0",
         "0.0",
         "0.0",
         "1.0"
        ],
        [
         "32",
         "69",
         "0.6208283514645127",
         "-0.36549286556272087",
         "1.1555585627412366",
         "445",
         "0.07913939452211151",
         "-0.6534369290461389",
         "0.6610667829136994",
         "-0.3743742201953605",
         "-0.49927358669174027",
         "True",
         "-0.2294890563086736",
         "F",
         "PhD",
         "Single",
         "Kind of OK",
         "1955",
         "-0.05504039838637713",
         "0.0",
         "0.0",
         "0.0",
         "1.0",
         "0.0",
         "1.0",
         "0.0",
         "0.0",
         "0.0",
         "1.0",
         "1.0",
         "0.0",
         "0.0",
         "0.0"
        ],
        [
         "33",
         "48",
         "-0.8423634773427577",
         "-0.4570868341176056",
         "1.388138431234411",
         "180",
         "-0.442982230346473",
         "-0.6534369290461389",
         "1.6932300244490432",
         "-0.22933895944302105",
         "-0.7645399448635435",
         "True",
         "0.5821455243064784",
         "M",
         "1st Cycle",
         "Together",
         "Kind of OK",
         "1976",
         "-0.4922516424827714",
         "0.0",
         "0.0",
         "0.0",
         "0.0",
         "0.0",
         "0.0",
         "1.0",
         "0.0",
         "1.0",
         "1.0",
         "1.0",
         "0.0",
         "0.0",
         "0.0"
        ],
        [
         "34",
         "88",
         "1.4399808721046898",
         "1.9243563483093973",
         "-0.7383060807031816",
         "2040",
         "-0.2254315533178961",
         "0.03051689157684963",
         "0.6610667829136994",
         "-0.08430369869068159",
         "-0.36664040760583866",
         "False",
         "-1.5281043852929168",
         "F",
         "1st Cycle",
         "Together",
         "OK nice!",
         "1936",
         "0.6360737120237986",
         "0.0",
         "0.0",
         "0.0",
         "0.0",
         "0.0",
         "0.0",
         "1.0",
         "0.0",
         "0.0",
         "0.0",
         "0.0",
         "0.0",
         "1.0",
         "0.0"
        ],
        [
         "35",
         "28",
         "-1.2622901727744391",
         "-0.5486808026724903",
         "0.4245932617626893",
         "150",
         "-1.965836969546511",
         "2.9031229381934014",
         "-0.13290494134425757",
         "1.5110841695850523",
         "2.0207568159403904",
         "True",
         "0.9609083285935494",
         "M",
         "1st Cycle",
         "Widow",
         "Meh...",
         "1996",
         "-0.5242861162700242",
         "0.0",
         "0.0",
         "0.0",
         "0.0",
         "0.0",
         "0.0",
         "0.0",
         "1.0",
         "1.0",
         "1.0",
         "0.0",
         "1.0",
         "0.0",
         "0.0"
        ],
        [
         "36",
         "45",
         "-0.786427083335426",
         "-1.0982446140017987",
         "0.9229786942480624",
         "30",
         "0.25317993614497303",
         "0.3040984198260451",
         "-0.37109645862164464",
         "-0.9545152632047184",
         "0.429158666909571",
         "True",
         "0.3116006641014277",
         "F",
         "Graduation",
         "Married",
         "OK nice!",
         "1979",
         "-0.972768749291563",
         "0.0",
         "1.0",
         "0.0",
         "0.0",
         "1.0",
         "0.0",
         "0.0",
         "0.0",
         "0.0",
         "1.0",
         "0.0",
         "0.0",
         "1.0",
         "0.0"
        ],
        [
         "37",
         "28",
         "-2.118770326423446",
         "-1.006650645446914",
         "1.354912735735386",
         "25",
         "-1.965836969546511",
         "2.6295414099442063",
         "-1.0856710104538059",
         "1.8011546910897314",
         "3.4797217858853084",
         "True",
         "1.0691262726755697",
         "M",
         "1st Cycle",
         "Single",
         "OK nice!",
         "1996",
         "-0.9662432083349005",
         "0.0",
         "0.0",
         "0.0",
         "0.0",
         "0.0",
         "1.0",
         "0.0",
         "0.0",
         "1.0",
         "1.0",
         "0.0",
         "0.0",
         "1.0",
         "0.0"
        ],
        [
         "38",
         "66",
         "0.5431633844569576",
         "0.6420407885410112",
         "-1.3031429041866045",
         "1019",
         "0.16615966533354226",
         "0.03051689157684963",
         "-0.13290494134425757",
         "0.35080208356633674",
         "-0.6319067657776419",
         "True",
         "-0.9329056928418054",
         "M",
         "Graduation",
         "Married",
         "Take my money!!",
         "1958",
         "0.45306194973921554",
         "0.0",
         "1.0",
         "0.0",
         "0.0",
         "1.0",
         "0.0",
         "0.0",
         "0.0",
         "1.0",
         "1.0",
         "0.0",
         "0.0",
         "0.0",
         "1.0"
        ],
        [
         "40",
         "65",
         "0.8294153115325352",
         "0.8252287256507806",
         "0.9562043897470874",
         "1277",
         "0.07913939452211151",
         "0.8512614763244359",
         "-0.45049363104744033",
         "0.35080208356633674",
         "-0.6319067657776419",
         "False",
         "-1.203450553046856",
         "F",
         "Graduation",
         "Together",
         "Take my money!!",
         "1959",
         "0.4569179512136071",
         "0.0",
         "1.0",
         "0.0",
         "0.0",
         "0.0",
         "0.0",
         "1.0",
         "0.0",
         "0.0",
         "0.0",
         "0.0",
         "0.0",
         "0.0",
         "1.0"
        ],
        [
         "41",
         "69",
         "0.7453272021684951",
         "0.0924769772117028",
         "0.12556200227146536",
         "601",
         "0.47073061317354986",
         "-0.7902276931707367",
         "0.2640809207847209",
         "-0.8094800024523788",
         "-0.49927358669174027",
         "True",
         "-0.06716214018564322",
         "F",
         "PhD",
         "Married",
         "Kind of OK",
         "1955",
         "0.4035864846677918",
         "0.0",
         "0.0",
         "0.0",
         "1.0",
         "1.0",
         "0.0",
         "0.0",
         "0.0",
         "0.0",
         "1.0",
         "1.0",
         "0.0",
         "0.0",
         "0.0"
        ],
        [
         "42",
         "45",
         "-0.9212763691510013",
         "-0.7318687397822597",
         "-1.2699172086875796",
         "90",
         "0.03562925911639614",
         "-0.6534369290461389",
         "0.5816696104879037",
         "-0.5194094809477",
         "0.031259129651866176",
         "True",
         "0.9067993565525392",
         "F",
         "2nd Cycle",
         "Married",
         "Meh...",
         "1979",
         "-0.7431883538162516",
         "1.0",
         "0.0",
         "0.0",
         "0.0",
         "1.0",
         "0.0",
         "0.0",
         "0.0",
         "0.0",
         "1.0",
         "0.0",
         "1.0",
         "0.0",
         "0.0"
        ],
        [
         "43",
         "70",
         "0.5791329816532733",
         "0.5504468199861264",
         "-0.7050803852041567",
         "1018",
         "-0.5300025011579037",
         "0.03051689157684963",
         "0.740463955339495",
         "-0.3743742201953605",
         "0.5617918459954726",
         "False",
         "-0.9329056928418054",
         "M",
         "Graduation",
         "Married",
         "OK nice!",
         "1954",
         "0.45157887224906496",
         "0.0",
         "1.0",
         "0.0",
         "0.0",
         "1.0",
         "0.0",
         "0.0",
         "0.0",
         "1.0",
         "0.0",
         "0.0",
         "0.0",
         "1.0",
         "0.0"
        ],
        [
         "44",
         "45",
         "-1.2342118647589477",
         "-1.281432551111568",
         "-0.1734692572197586",
         "25",
         "1.427953592099288",
         "-0.7902276931707367",
         "-1.2444653553053973",
         "-0.8094800024523788",
         "-0.7645399448635435",
         "True",
         "-0.06716214018564322",
         "F",
         "Graduation",
         "Together",
         "Kind of OK",
         "1979",
         "-0.9973878356280629",
         "0.0",
         "1.0",
         "0.0",
         "0.0",
         "0.0",
         "0.0",
         "1.0",
         "0.0",
         "0.0",
         "1.0",
         "1.0",
         "0.0",
         "0.0",
         "0.0"
        ],
        [
         "45",
         "38",
         "-1.018944836640181",
         "-0.8234627083371445",
         "-1.6686255546758781",
         "84",
         "0.8623218318249882",
         "-0.9270184572953344",
         "-0.13290494134425757",
         "-0.8094800024523788",
         "-0.7645399448635435",
         "True",
         "0.5280365522654683",
         "F",
         "Graduation",
         "Married",
         "Kind of OK",
         "1986",
         "-0.7990707136451257",
         "0.0",
         "1.0",
         "0.0",
         "0.0",
         "1.0",
         "0.0",
         "0.0",
         "0.0",
         "0.0",
         "1.0",
         "1.0",
         "0.0",
         "0.0",
         "0.0"
        ],
        [
         "46",
         "84",
         "1.5946134363782387",
         "1.6495744426447432",
         "0.6903988257548883",
         "1854",
         "-0.7475531781864806",
         "0.9880522404490336",
         "0.3434780932105166",
         "1.6561194303373918",
         "-0.7645399448635435",
         "False",
         "-1.3657774691698865",
         "F",
         "1st Cycle",
         "Divorced",
         "Take my money!!",
         "1940",
         "0.8115514406584166",
         "0.0",
         "0.0",
         "0.0",
         "0.0",
         "0.0",
         "0.0",
         "0.0",
         "0.0",
         "0.0",
         "0.0",
         "0.0",
         "0.0",
         "0.0",
         "1.0"
        ],
        [
         "47",
         "60",
         "0.36779324628961435",
         "-0.4570868341176056",
         "-0.3728234302139079",
         "298",
         "1.0363623734478498",
         "-0.6534369290461389",
         "-0.9268766656022145",
         "-0.6644447417000394",
         "-0.49927358669174027",
         "True",
         "0.6362544963474885",
         "M",
         "Graduation",
         "Married",
         "Kind of OK",
         "1964",
         "-0.10356669386410453",
         "0.0",
         "1.0",
         "0.0",
         "0.0",
         "1.0",
         "0.0",
         "0.0",
         "0.0",
         "1.0",
         "1.0",
         "1.0",
         "0.0",
         "0.0",
         "0.0"
        ],
        [
         "48",
         "59",
         "0.06432729769865708",
         "0.367258882876357",
         "0.025884915774390702",
         "719",
         "-0.48649236575218835",
         "0.5776799480752405",
         "-0.6886851483248274",
         "-0.08430369869068159",
         "2.0207568159403904",
         "False",
         "0.09516477593738719",
         "M",
         "2nd Cycle",
         "Single",
         "OK nice!",
         "1965",
         "0.8185515664119274",
         "1.0",
         "0.0",
         "0.0",
         "0.0",
         "0.0",
         "1.0",
         "0.0",
         "0.0",
         "1.0",
         "0.0",
         "0.0",
         "0.0",
         "1.0",
         "0.0"
        ],
        [
         "49",
         "29",
         "-1.648009047199012",
         "-0.6402747712273751",
         "-0.904434558198306",
         "46",
         "-1.835306563329365",
         "3.176704466442597",
         "-0.21230211377005326",
         "-0.6644447417000394",
         "3.4797217858853084",
         "True",
         "1.5561070210446608",
         "F",
         "1st Cycle",
         "Married",
         "OK nice!",
         "1995",
         "-0.8644447694109639",
         "0.0",
         "0.0",
         "0.0",
         "0.0",
         "1.0",
         "0.0",
         "0.0",
         "0.0",
         "0.0",
         "1.0",
         "0.0",
         "0.0",
         "1.0",
         "0.0"
        ],
        [
         "50",
         "38",
         "-0.6480175414708275",
         "-0.18230492845295138",
         "-0.5389519077090322",
         "263",
         "0.07913939452211151",
         "-0.24306463667234582",
         "0.1052865759331295",
         "-0.08430369869068159",
         "-0.23400722851993705",
         "True",
         "1.6643249651266812",
         "M",
         "Graduation",
         "Together",
         "Kind of OK",
         "1986",
         "0.08075017661181111",
         "0.0",
         "1.0",
         "0.0",
         "0.0",
         "0.0",
         "0.0",
         "1.0",
         "0.0",
         "1.0",
         "1.0",
         "1.0",
         "0.0",
         "0.0",
         "0.0"
        ],
        [
         "51",
         "38",
         "-0.43598043636560735",
         "-0.8234627083371445",
         "1.5542669087295353",
         "122",
         "-1.7047761571122189",
         "0.03051689157684963",
         "1.6932300244490432",
         "1.8011546910897314",
         "0.6944250250813743",
         "True",
         "0.6903634683884987",
         "M",
         "2nd Cycle",
         "Single",
         "Kind of OK",
         "1986",
         "-0.6601360143678184",
         "1.0",
         "0.0",
         "0.0",
         "0.0",
         "0.0",
         "1.0",
         "0.0",
         "0.0",
         "1.0",
         "1.0",
         "1.0",
         "0.0",
         "0.0",
         "0.0"
        ]
       ],
       "shape": {
        "columns": 32,
        "rows": 8817
       }
      },
      "text/html": [
       "<div>\n",
       "<style scoped>\n",
       "    .dataframe tbody tr th:only-of-type {\n",
       "        vertical-align: middle;\n",
       "    }\n",
       "\n",
       "    .dataframe tbody tr th {\n",
       "        vertical-align: top;\n",
       "    }\n",
       "\n",
       "    .dataframe thead th {\n",
       "        text-align: right;\n",
       "    }\n",
       "</style>\n",
       "<table border=\"1\" class=\"dataframe\">\n",
       "  <thead>\n",
       "    <tr style=\"text-align: right;\">\n",
       "      <th></th>\n",
       "      <th>age</th>\n",
       "      <th>income</th>\n",
       "      <th>frq</th>\n",
       "      <th>rcn</th>\n",
       "      <th>mnt</th>\n",
       "      <th>clothes</th>\n",
       "      <th>kitchen</th>\n",
       "      <th>small_appliances</th>\n",
       "      <th>toys</th>\n",
       "      <th>house_keeping</th>\n",
       "      <th>...</th>\n",
       "      <th>oh_status_Married</th>\n",
       "      <th>oh_status_Single</th>\n",
       "      <th>oh_status_Together</th>\n",
       "      <th>oh_status_Widow</th>\n",
       "      <th>oh_gender_M</th>\n",
       "      <th>oh_dependents_1.0</th>\n",
       "      <th>oh_description_Kind of OK</th>\n",
       "      <th>oh_description_Meh...</th>\n",
       "      <th>oh_description_OK nice!</th>\n",
       "      <th>oh_description_Take my money!!</th>\n",
       "    </tr>\n",
       "  </thead>\n",
       "  <tbody>\n",
       "    <tr>\n",
       "      <th>0</th>\n",
       "      <td>78</td>\n",
       "      <td>0.743162</td>\n",
       "      <td>1.191605</td>\n",
       "      <td>0.457819</td>\n",
       "      <td>1402</td>\n",
       "      <td>-0.617023</td>\n",
       "      <td>-0.243065</td>\n",
       "      <td>1.216847</td>\n",
       "      <td>0.495837</td>\n",
       "      <td>-0.499274</td>\n",
       "      <td>...</td>\n",
       "      <td>0.0</td>\n",
       "      <td>0.0</td>\n",
       "      <td>1.0</td>\n",
       "      <td>0.0</td>\n",
       "      <td>1.0</td>\n",
       "      <td>0.0</td>\n",
       "      <td>0.0</td>\n",
       "      <td>0.0</td>\n",
       "      <td>0.0</td>\n",
       "      <td>1.0</td>\n",
       "    </tr>\n",
       "    <tr>\n",
       "      <th>1</th>\n",
       "      <td>88</td>\n",
       "      <td>1.559488</td>\n",
       "      <td>1.100011</td>\n",
       "      <td>-1.535723</td>\n",
       "      <td>1537</td>\n",
       "      <td>0.166160</td>\n",
       "      <td>-0.790228</td>\n",
       "      <td>0.740464</td>\n",
       "      <td>-0.374374</td>\n",
       "      <td>-0.631907</td>\n",
       "      <td>...</td>\n",
       "      <td>0.0</td>\n",
       "      <td>0.0</td>\n",
       "      <td>0.0</td>\n",
       "      <td>0.0</td>\n",
       "      <td>0.0</td>\n",
       "      <td>0.0</td>\n",
       "      <td>0.0</td>\n",
       "      <td>0.0</td>\n",
       "      <td>0.0</td>\n",
       "      <td>1.0</td>\n",
       "    </tr>\n",
       "    <tr>\n",
       "      <th>2</th>\n",
       "      <td>34</td>\n",
       "      <td>-1.548542</td>\n",
       "      <td>-0.823463</td>\n",
       "      <td>0.557496</td>\n",
       "      <td>44</td>\n",
       "      <td>-0.834573</td>\n",
       "      <td>1.672006</td>\n",
       "      <td>-0.371096</td>\n",
       "      <td>-0.809480</td>\n",
       "      <td>2.286023</td>\n",
       "      <td>...</td>\n",
       "      <td>1.0</td>\n",
       "      <td>0.0</td>\n",
       "      <td>0.0</td>\n",
       "      <td>0.0</td>\n",
       "      <td>1.0</td>\n",
       "      <td>1.0</td>\n",
       "      <td>1.0</td>\n",
       "      <td>0.0</td>\n",
       "      <td>0.0</td>\n",
       "      <td>0.0</td>\n",
       "    </tr>\n",
       "    <tr>\n",
       "      <th>3</th>\n",
       "      <td>69</td>\n",
       "      <td>0.845528</td>\n",
       "      <td>0.550447</td>\n",
       "      <td>-1.402820</td>\n",
       "      <td>888</td>\n",
       "      <td>0.383710</td>\n",
       "      <td>0.440889</td>\n",
       "      <td>-0.768082</td>\n",
       "      <td>-0.084304</td>\n",
       "      <td>-0.234007</td>\n",
       "      <td>...</td>\n",
       "      <td>1.0</td>\n",
       "      <td>0.0</td>\n",
       "      <td>0.0</td>\n",
       "      <td>0.0</td>\n",
       "      <td>0.0</td>\n",
       "      <td>1.0</td>\n",
       "      <td>0.0</td>\n",
       "      <td>0.0</td>\n",
       "      <td>1.0</td>\n",
       "      <td>0.0</td>\n",
       "    </tr>\n",
       "    <tr>\n",
       "      <th>4</th>\n",
       "      <td>69</td>\n",
       "      <td>0.782435</td>\n",
       "      <td>1.008417</td>\n",
       "      <td>-0.871209</td>\n",
       "      <td>1138</td>\n",
       "      <td>0.340200</td>\n",
       "      <td>-0.243065</td>\n",
       "      <td>-0.053508</td>\n",
       "      <td>-0.374374</td>\n",
       "      <td>-0.366640</td>\n",
       "      <td>...</td>\n",
       "      <td>0.0</td>\n",
       "      <td>0.0</td>\n",
       "      <td>1.0</td>\n",
       "      <td>0.0</td>\n",
       "      <td>0.0</td>\n",
       "      <td>1.0</td>\n",
       "      <td>0.0</td>\n",
       "      <td>0.0</td>\n",
       "      <td>0.0</td>\n",
       "      <td>1.0</td>\n",
       "    </tr>\n",
       "    <tr>\n",
       "      <th>...</th>\n",
       "      <td>...</td>\n",
       "      <td>...</td>\n",
       "      <td>...</td>\n",
       "      <td>...</td>\n",
       "      <td>...</td>\n",
       "      <td>...</td>\n",
       "      <td>...</td>\n",
       "      <td>...</td>\n",
       "      <td>...</td>\n",
       "      <td>...</td>\n",
       "      <td>...</td>\n",
       "      <td>...</td>\n",
       "      <td>...</td>\n",
       "      <td>...</td>\n",
       "      <td>...</td>\n",
       "      <td>...</td>\n",
       "      <td>...</td>\n",
       "      <td>...</td>\n",
       "      <td>...</td>\n",
       "      <td>...</td>\n",
       "      <td>...</td>\n",
       "    </tr>\n",
       "    <tr>\n",
       "      <th>8992</th>\n",
       "      <td>70</td>\n",
       "      <td>0.618993</td>\n",
       "      <td>0.458853</td>\n",
       "      <td>-1.701851</td>\n",
       "      <td>837</td>\n",
       "      <td>0.209670</td>\n",
       "      <td>0.167308</td>\n",
       "      <td>-0.132905</td>\n",
       "      <td>0.205767</td>\n",
       "      <td>-0.764540</td>\n",
       "      <td>...</td>\n",
       "      <td>1.0</td>\n",
       "      <td>0.0</td>\n",
       "      <td>0.0</td>\n",
       "      <td>0.0</td>\n",
       "      <td>1.0</td>\n",
       "      <td>1.0</td>\n",
       "      <td>1.0</td>\n",
       "      <td>0.0</td>\n",
       "      <td>0.0</td>\n",
       "      <td>0.0</td>\n",
       "    </tr>\n",
       "    <tr>\n",
       "      <th>8993</th>\n",
       "      <td>64</td>\n",
       "      <td>0.874744</td>\n",
       "      <td>0.733635</td>\n",
       "      <td>-1.701851</td>\n",
       "      <td>896</td>\n",
       "      <td>0.731791</td>\n",
       "      <td>-0.243065</td>\n",
       "      <td>-0.609288</td>\n",
       "      <td>-0.519409</td>\n",
       "      <td>-0.366640</td>\n",
       "      <td>...</td>\n",
       "      <td>0.0</td>\n",
       "      <td>1.0</td>\n",
       "      <td>0.0</td>\n",
       "      <td>0.0</td>\n",
       "      <td>0.0</td>\n",
       "      <td>1.0</td>\n",
       "      <td>0.0</td>\n",
       "      <td>0.0</td>\n",
       "      <td>0.0</td>\n",
       "      <td>1.0</td>\n",
       "    </tr>\n",
       "    <tr>\n",
       "      <th>8994</th>\n",
       "      <td>49</td>\n",
       "      <td>-0.455617</td>\n",
       "      <td>-0.731869</td>\n",
       "      <td>-1.535723</td>\n",
       "      <td>61</td>\n",
       "      <td>0.079139</td>\n",
       "      <td>-0.106274</td>\n",
       "      <td>-0.053508</td>\n",
       "      <td>0.060732</td>\n",
       "      <td>-0.101374</td>\n",
       "      <td>...</td>\n",
       "      <td>0.0</td>\n",
       "      <td>1.0</td>\n",
       "      <td>0.0</td>\n",
       "      <td>0.0</td>\n",
       "      <td>1.0</td>\n",
       "      <td>1.0</td>\n",
       "      <td>0.0</td>\n",
       "      <td>1.0</td>\n",
       "      <td>0.0</td>\n",
       "      <td>0.0</td>\n",
       "    </tr>\n",
       "    <tr>\n",
       "      <th>8995</th>\n",
       "      <td>38</td>\n",
       "      <td>-0.596155</td>\n",
       "      <td>0.825229</td>\n",
       "      <td>0.657173</td>\n",
       "      <td>1011</td>\n",
       "      <td>-0.442982</td>\n",
       "      <td>0.577680</td>\n",
       "      <td>0.581670</td>\n",
       "      <td>-0.809480</td>\n",
       "      <td>0.561792</td>\n",
       "      <td>...</td>\n",
       "      <td>0.0</td>\n",
       "      <td>0.0</td>\n",
       "      <td>1.0</td>\n",
       "      <td>0.0</td>\n",
       "      <td>1.0</td>\n",
       "      <td>0.0</td>\n",
       "      <td>0.0</td>\n",
       "      <td>0.0</td>\n",
       "      <td>0.0</td>\n",
       "      <td>1.0</td>\n",
       "    </tr>\n",
       "    <tr>\n",
       "      <th>8996</th>\n",
       "      <td>86</td>\n",
       "      <td>2.034397</td>\n",
       "      <td>1.649574</td>\n",
       "      <td>0.756850</td>\n",
       "      <td>1668</td>\n",
       "      <td>0.427220</td>\n",
       "      <td>-0.653437</td>\n",
       "      <td>-0.291699</td>\n",
       "      <td>-0.229339</td>\n",
       "      <td>-0.101374</td>\n",
       "      <td>...</td>\n",
       "      <td>1.0</td>\n",
       "      <td>0.0</td>\n",
       "      <td>0.0</td>\n",
       "      <td>0.0</td>\n",
       "      <td>1.0</td>\n",
       "      <td>1.0</td>\n",
       "      <td>0.0</td>\n",
       "      <td>0.0</td>\n",
       "      <td>0.0</td>\n",
       "      <td>1.0</td>\n",
       "    </tr>\n",
       "  </tbody>\n",
       "</table>\n",
       "<p>8817 rows × 32 columns</p>\n",
       "</div>"
      ],
      "text/plain": [
       "      age    income       frq       rcn   mnt   clothes   kitchen  \\\n",
       "0      78  0.743162  1.191605  0.457819  1402 -0.617023 -0.243065   \n",
       "1      88  1.559488  1.100011 -1.535723  1537  0.166160 -0.790228   \n",
       "2      34 -1.548542 -0.823463  0.557496    44 -0.834573  1.672006   \n",
       "3      69  0.845528  0.550447 -1.402820   888  0.383710  0.440889   \n",
       "4      69  0.782435  1.008417 -0.871209  1138  0.340200 -0.243065   \n",
       "...   ...       ...       ...       ...   ...       ...       ...   \n",
       "8992   70  0.618993  0.458853 -1.701851   837  0.209670  0.167308   \n",
       "8993   64  0.874744  0.733635 -1.701851   896  0.731791 -0.243065   \n",
       "8994   49 -0.455617 -0.731869 -1.535723    61  0.079139 -0.106274   \n",
       "8995   38 -0.596155  0.825229  0.657173  1011 -0.442982  0.577680   \n",
       "8996   86  2.034397  1.649574  0.756850  1668  0.427220 -0.653437   \n",
       "\n",
       "      small_appliances      toys  house_keeping  ...  oh_status_Married  \\\n",
       "0             1.216847  0.495837      -0.499274  ...                0.0   \n",
       "1             0.740464 -0.374374      -0.631907  ...                0.0   \n",
       "2            -0.371096 -0.809480       2.286023  ...                1.0   \n",
       "3            -0.768082 -0.084304      -0.234007  ...                1.0   \n",
       "4            -0.053508 -0.374374      -0.366640  ...                0.0   \n",
       "...                ...       ...            ...  ...                ...   \n",
       "8992         -0.132905  0.205767      -0.764540  ...                1.0   \n",
       "8993         -0.609288 -0.519409      -0.366640  ...                0.0   \n",
       "8994         -0.053508  0.060732      -0.101374  ...                0.0   \n",
       "8995          0.581670 -0.809480       0.561792  ...                0.0   \n",
       "8996         -0.291699 -0.229339      -0.101374  ...                1.0   \n",
       "\n",
       "      oh_status_Single oh_status_Together oh_status_Widow oh_gender_M  \\\n",
       "0                  0.0                1.0             0.0         1.0   \n",
       "1                  0.0                0.0             0.0         0.0   \n",
       "2                  0.0                0.0             0.0         1.0   \n",
       "3                  0.0                0.0             0.0         0.0   \n",
       "4                  0.0                1.0             0.0         0.0   \n",
       "...                ...                ...             ...         ...   \n",
       "8992               0.0                0.0             0.0         1.0   \n",
       "8993               1.0                0.0             0.0         0.0   \n",
       "8994               1.0                0.0             0.0         1.0   \n",
       "8995               0.0                1.0             0.0         1.0   \n",
       "8996               0.0                0.0             0.0         1.0   \n",
       "\n",
       "     oh_dependents_1.0  oh_description_Kind of OK  oh_description_Meh...  \\\n",
       "0                  0.0                        0.0                    0.0   \n",
       "1                  0.0                        0.0                    0.0   \n",
       "2                  1.0                        1.0                    0.0   \n",
       "3                  1.0                        0.0                    0.0   \n",
       "4                  1.0                        0.0                    0.0   \n",
       "...                ...                        ...                    ...   \n",
       "8992               1.0                        1.0                    0.0   \n",
       "8993               1.0                        0.0                    0.0   \n",
       "8994               1.0                        0.0                    1.0   \n",
       "8995               0.0                        0.0                    0.0   \n",
       "8996               1.0                        0.0                    0.0   \n",
       "\n",
       "      oh_description_OK nice!  oh_description_Take my money!!  \n",
       "0                         0.0                             1.0  \n",
       "1                         0.0                             1.0  \n",
       "2                         0.0                             0.0  \n",
       "3                         1.0                             0.0  \n",
       "4                         0.0                             1.0  \n",
       "...                       ...                             ...  \n",
       "8992                      0.0                             0.0  \n",
       "8993                      0.0                             1.0  \n",
       "8994                      0.0                             0.0  \n",
       "8995                      0.0                             1.0  \n",
       "8996                      0.0                             1.0  \n",
       "\n",
       "[8817 rows x 32 columns]"
      ]
     },
     "execution_count": 76,
     "metadata": {},
     "output_type": "execute_result"
    }
   ],
   "source": [
    "df"
   ]
  },
  {
   "cell_type": "code",
   "execution_count": 77,
   "metadata": {},
   "outputs": [
    {
     "data": {
      "text/plain": [
       "['age',\n",
       " 'income',\n",
       " 'frq',\n",
       " 'rcn',\n",
       " 'mnt',\n",
       " 'clothes',\n",
       " 'kitchen',\n",
       " 'small_appliances',\n",
       " 'toys',\n",
       " 'house_keeping',\n",
       " 'dependents',\n",
       " 'per_net_purchase',\n",
       " 'gender',\n",
       " 'education',\n",
       " 'status',\n",
       " 'description',\n",
       " 'birth_year',\n",
       " 'spent_online',\n",
       " 'oh_education_2nd Cycle',\n",
       " 'oh_education_Graduation',\n",
       " 'oh_education_Master',\n",
       " 'oh_education_PhD',\n",
       " 'oh_status_Married',\n",
       " 'oh_status_Single',\n",
       " 'oh_status_Together',\n",
       " 'oh_status_Widow',\n",
       " 'oh_gender_M',\n",
       " 'oh_dependents_1.0',\n",
       " 'oh_description_Kind of OK',\n",
       " 'oh_description_Meh...',\n",
       " 'oh_description_OK nice!',\n",
       " 'oh_description_Take my money!!']"
      ]
     },
     "execution_count": 77,
     "metadata": {},
     "output_type": "execute_result"
    }
   ],
   "source": [
    "list(df.columns)"
   ]
  },
  {
   "cell_type": "markdown",
   "metadata": {},
   "source": [
    "## Redo data exploration\n",
    "\n",
    "Check if the data looks the way you expect it to. \n",
    "\n",
    "- Have you missed some outliers? \n",
    "- Are there still missing values?\n",
    "- Is the data normalized?\n",
    "\n",
    "This is an iterative process. It is likely you will change your preprocessing steps frequently throughout your group work."
   ]
  },
  {
   "cell_type": "markdown",
   "metadata": {},
   "source": [
    "#### A tool to assist you through your exploratory data analysis\n",
    "\n",
    "Optionally, you may use `pandas-profiling` in your data analysis. \n",
    "\n",
    "Remember, although this tool provides excelent insights about the data you're working with, it is not enough to perform a proper analysis."
   ]
  },
  {
   "cell_type": "code",
   "execution_count": null,
   "metadata": {},
   "outputs": [],
   "source": [
    "\n",
    "# ProfileReport(\n",
    "#     df,\n",
    "#     title='Tugas Customer Data Preprocessed',\n",
    "#     correlations={\n",
    "#         \"pearson\": {\"calculate\": True},\n",
    "#         \"spearman\": {\"calculate\": False},\n",
    "#         \"kendall\": {\"calculate\": False},\n",
    "#         \"phi_k\": {\"calculate\": False},\n",
    "#         \"cramers\": {\"calculate\": False},\n",
    "#     },\n",
    "# )"
   ]
  },
  {
   "cell_type": "code",
   "execution_count": null,
   "metadata": {},
   "outputs": [],
   "source": []
  }
 ],
 "metadata": {
  "kernelspec": {
   "display_name": "Fall2526",
   "language": "python",
   "name": "python3"
  },
  "language_info": {
   "codemirror_mode": {
    "name": "ipython",
    "version": 3
   },
   "file_extension": ".py",
   "mimetype": "text/x-python",
   "name": "python",
   "nbconvert_exporter": "python",
   "pygments_lexer": "ipython3",
   "version": "3.12.9"
  },
  "widgets": {
   "application/vnd.jupyter.widget-state+json": {
    "state": {},
    "version_major": 2,
    "version_minor": 0
   }
  }
 },
 "nbformat": 4,
 "nbformat_minor": 4
}
